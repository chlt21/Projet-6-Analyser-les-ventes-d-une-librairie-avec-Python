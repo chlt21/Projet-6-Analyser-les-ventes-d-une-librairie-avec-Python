{
 "cells": [
  {
   "cell_type": "markdown",
   "id": "c59f9c1f",
   "metadata": {},
   "source": [
    "# <a name=\"C2\">Import des librairies"
   ]
  },
  {
   "cell_type": "code",
   "execution_count": 1,
   "id": "a0845ba5",
   "metadata": {},
   "outputs": [],
   "source": [
    "import numpy as np\n",
    "import pandas as pd\n",
    "import warnings\n",
    "import matplotlib.pyplot as plt\n",
    "from matplotlib.widgets import Slider\n",
    "import seaborn as sns\n",
    "import datetime as dt\n",
    "import scipy.stats as st\n",
    "import re\n",
    "import time\n",
    "from datetime import date\n",
    "from datetime import datetime\n",
    "pd.options.display.float_format = \"{:.2f}\".format\n",
    "warnings.simplefilter(\"ignore\")\n",
    "import statsmodels.api as sm\n",
    "from scipy import stats\n",
    "from scipy.stats import f\n",
    "from scipy.stats import chi2_contingency\n",
    "from scipy.stats import ttest_ind"
   ]
  },
  {
   "cell_type": "markdown",
   "id": "54f50814",
   "metadata": {},
   "source": [
    "# <a name=\"C2\">Import des fichiers et nettoyage des données"
   ]
  },
  {
   "cell_type": "markdown",
   "id": "9ff0a8e4",
   "metadata": {},
   "source": [
    "## <span style='color:green'> I - Fichier customers   </span>"
   ]
  },
  {
   "cell_type": "markdown",
   "id": "75daec56",
   "metadata": {},
   "source": [
    "### _- Importation du fichier_\n",
    "       "
   ]
  },
  {
   "cell_type": "code",
   "execution_count": 2,
   "id": "a3ab16db",
   "metadata": {},
   "outputs": [
    {
     "data": {
      "text/html": [
       "<div>\n",
       "<style scoped>\n",
       "    .dataframe tbody tr th:only-of-type {\n",
       "        vertical-align: middle;\n",
       "    }\n",
       "\n",
       "    .dataframe tbody tr th {\n",
       "        vertical-align: top;\n",
       "    }\n",
       "\n",
       "    .dataframe thead th {\n",
       "        text-align: right;\n",
       "    }\n",
       "</style>\n",
       "<table border=\"1\" class=\"dataframe\">\n",
       "  <thead>\n",
       "    <tr style=\"text-align: right;\">\n",
       "      <th></th>\n",
       "      <th>client_id</th>\n",
       "      <th>sex</th>\n",
       "      <th>birth</th>\n",
       "    </tr>\n",
       "  </thead>\n",
       "  <tbody>\n",
       "    <tr>\n",
       "      <th>0</th>\n",
       "      <td>c_4410</td>\n",
       "      <td>f</td>\n",
       "      <td>1967</td>\n",
       "    </tr>\n",
       "    <tr>\n",
       "      <th>1</th>\n",
       "      <td>c_7839</td>\n",
       "      <td>f</td>\n",
       "      <td>1975</td>\n",
       "    </tr>\n",
       "    <tr>\n",
       "      <th>2</th>\n",
       "      <td>c_1699</td>\n",
       "      <td>f</td>\n",
       "      <td>1984</td>\n",
       "    </tr>\n",
       "    <tr>\n",
       "      <th>3</th>\n",
       "      <td>c_5961</td>\n",
       "      <td>f</td>\n",
       "      <td>1962</td>\n",
       "    </tr>\n",
       "    <tr>\n",
       "      <th>4</th>\n",
       "      <td>c_5320</td>\n",
       "      <td>m</td>\n",
       "      <td>1943</td>\n",
       "    </tr>\n",
       "  </tbody>\n",
       "</table>\n",
       "</div>"
      ],
      "text/plain": [
       "  client_id sex  birth\n",
       "0    c_4410   f   1967\n",
       "1    c_7839   f   1975\n",
       "2    c_1699   f   1984\n",
       "3    c_5961   f   1962\n",
       "4    c_5320   m   1943"
      ]
     },
     "execution_count": 2,
     "metadata": {},
     "output_type": "execute_result"
    }
   ],
   "source": [
    "df_customers=pd.read_csv('customers.csv')\n",
    "df_customers.head()"
   ]
  },
  {
   "cell_type": "markdown",
   "id": "d4edcb9b",
   "metadata": {},
   "source": [
    "### _- Vérification des informations du data frame_"
   ]
  },
  {
   "cell_type": "code",
   "execution_count": 3,
   "id": "9bf63373",
   "metadata": {},
   "outputs": [
    {
     "name": "stdout",
     "output_type": "stream",
     "text": [
      "<class 'pandas.core.frame.DataFrame'>\n",
      "RangeIndex: 8623 entries, 0 to 8622\n",
      "Data columns (total 3 columns):\n",
      " #   Column     Non-Null Count  Dtype \n",
      "---  ------     --------------  ----- \n",
      " 0   client_id  8623 non-null   object\n",
      " 1   sex        8623 non-null   object\n",
      " 2   birth      8623 non-null   int64 \n",
      "dtypes: int64(1), object(2)\n",
      "memory usage: 202.2+ KB\n"
     ]
    }
   ],
   "source": [
    "df_customers.info()"
   ]
  },
  {
   "cell_type": "markdown",
   "id": "65720001",
   "metadata": {},
   "source": [
    "Il y a 8 623 lignes et 3 colonnes."
   ]
  },
  {
   "cell_type": "markdown",
   "id": "599a80f8",
   "metadata": {},
   "source": [
    "### _- Vérification des statistiques des colonnes_"
   ]
  },
  {
   "cell_type": "code",
   "execution_count": 4,
   "id": "f28fbc1b",
   "metadata": {},
   "outputs": [
    {
     "data": {
      "text/html": [
       "<div>\n",
       "<style scoped>\n",
       "    .dataframe tbody tr th:only-of-type {\n",
       "        vertical-align: middle;\n",
       "    }\n",
       "\n",
       "    .dataframe tbody tr th {\n",
       "        vertical-align: top;\n",
       "    }\n",
       "\n",
       "    .dataframe thead th {\n",
       "        text-align: right;\n",
       "    }\n",
       "</style>\n",
       "<table border=\"1\" class=\"dataframe\">\n",
       "  <thead>\n",
       "    <tr style=\"text-align: right;\">\n",
       "      <th></th>\n",
       "      <th>client_id</th>\n",
       "      <th>sex</th>\n",
       "      <th>birth</th>\n",
       "    </tr>\n",
       "  </thead>\n",
       "  <tbody>\n",
       "    <tr>\n",
       "      <th>count</th>\n",
       "      <td>8623</td>\n",
       "      <td>8623</td>\n",
       "      <td>8623.00</td>\n",
       "    </tr>\n",
       "    <tr>\n",
       "      <th>unique</th>\n",
       "      <td>8623</td>\n",
       "      <td>2</td>\n",
       "      <td>NaN</td>\n",
       "    </tr>\n",
       "    <tr>\n",
       "      <th>top</th>\n",
       "      <td>c_4410</td>\n",
       "      <td>f</td>\n",
       "      <td>NaN</td>\n",
       "    </tr>\n",
       "    <tr>\n",
       "      <th>freq</th>\n",
       "      <td>1</td>\n",
       "      <td>4491</td>\n",
       "      <td>NaN</td>\n",
       "    </tr>\n",
       "    <tr>\n",
       "      <th>mean</th>\n",
       "      <td>NaN</td>\n",
       "      <td>NaN</td>\n",
       "      <td>1978.28</td>\n",
       "    </tr>\n",
       "    <tr>\n",
       "      <th>std</th>\n",
       "      <td>NaN</td>\n",
       "      <td>NaN</td>\n",
       "      <td>16.92</td>\n",
       "    </tr>\n",
       "    <tr>\n",
       "      <th>min</th>\n",
       "      <td>NaN</td>\n",
       "      <td>NaN</td>\n",
       "      <td>1929.00</td>\n",
       "    </tr>\n",
       "    <tr>\n",
       "      <th>25%</th>\n",
       "      <td>NaN</td>\n",
       "      <td>NaN</td>\n",
       "      <td>1966.00</td>\n",
       "    </tr>\n",
       "    <tr>\n",
       "      <th>50%</th>\n",
       "      <td>NaN</td>\n",
       "      <td>NaN</td>\n",
       "      <td>1979.00</td>\n",
       "    </tr>\n",
       "    <tr>\n",
       "      <th>75%</th>\n",
       "      <td>NaN</td>\n",
       "      <td>NaN</td>\n",
       "      <td>1992.00</td>\n",
       "    </tr>\n",
       "    <tr>\n",
       "      <th>max</th>\n",
       "      <td>NaN</td>\n",
       "      <td>NaN</td>\n",
       "      <td>2004.00</td>\n",
       "    </tr>\n",
       "  </tbody>\n",
       "</table>\n",
       "</div>"
      ],
      "text/plain": [
       "       client_id   sex   birth\n",
       "count       8623  8623 8623.00\n",
       "unique      8623     2     NaN\n",
       "top       c_4410     f     NaN\n",
       "freq           1  4491     NaN\n",
       "mean         NaN   NaN 1978.28\n",
       "std          NaN   NaN   16.92\n",
       "min          NaN   NaN 1929.00\n",
       "25%          NaN   NaN 1966.00\n",
       "50%          NaN   NaN 1979.00\n",
       "75%          NaN   NaN 1992.00\n",
       "max          NaN   NaN 2004.00"
      ]
     },
     "execution_count": 4,
     "metadata": {},
     "output_type": "execute_result"
    }
   ],
   "source": [
    "df_customers.describe(include='all')  "
   ]
  },
  {
   "cell_type": "markdown",
   "id": "0752eca9",
   "metadata": {},
   "source": [
    "### _- Détection des valeurs manquantes_"
   ]
  },
  {
   "cell_type": "code",
   "execution_count": 5,
   "id": "e7b7a39b",
   "metadata": {},
   "outputs": [
    {
     "name": "stdout",
     "output_type": "stream",
     "text": [
      "client_id    0\n",
      "sex          0\n",
      "birth        0\n",
      "dtype: int64\n"
     ]
    }
   ],
   "source": [
    "print(df_customers.isnull().sum())"
   ]
  },
  {
   "cell_type": "markdown",
   "id": "1aae140e",
   "metadata": {},
   "source": [
    "Il n'y a pas de valeurs manquantes."
   ]
  },
  {
   "cell_type": "markdown",
   "id": "f7912a3c",
   "metadata": {},
   "source": [
    "### _- Détection des doublons_"
   ]
  },
  {
   "cell_type": "code",
   "execution_count": 6,
   "id": "69bce737",
   "metadata": {},
   "outputs": [
    {
     "data": {
      "text/html": [
       "<div>\n",
       "<style scoped>\n",
       "    .dataframe tbody tr th:only-of-type {\n",
       "        vertical-align: middle;\n",
       "    }\n",
       "\n",
       "    .dataframe tbody tr th {\n",
       "        vertical-align: top;\n",
       "    }\n",
       "\n",
       "    .dataframe thead th {\n",
       "        text-align: right;\n",
       "    }\n",
       "</style>\n",
       "<table border=\"1\" class=\"dataframe\">\n",
       "  <thead>\n",
       "    <tr style=\"text-align: right;\">\n",
       "      <th></th>\n",
       "      <th>client_id</th>\n",
       "      <th>sex</th>\n",
       "      <th>birth</th>\n",
       "    </tr>\n",
       "  </thead>\n",
       "  <tbody>\n",
       "  </tbody>\n",
       "</table>\n",
       "</div>"
      ],
      "text/plain": [
       "Empty DataFrame\n",
       "Columns: [client_id, sex, birth]\n",
       "Index: []"
      ]
     },
     "execution_count": 6,
     "metadata": {},
     "output_type": "execute_result"
    }
   ],
   "source": [
    "df_customers.loc[df_customers['client_id'].duplicated(keep=False),:]"
   ]
  },
  {
   "cell_type": "markdown",
   "id": "47a16bda",
   "metadata": {},
   "source": [
    "Il n'y a pas de doublons."
   ]
  },
  {
   "cell_type": "markdown",
   "id": "1caf965f",
   "metadata": {},
   "source": [
    "### _- Ajout de 2 colonnes pour faciliter les analyses futures_"
   ]
  },
  {
   "cell_type": "code",
   "execution_count": 7,
   "id": "066de7a4",
   "metadata": {},
   "outputs": [
    {
     "data": {
      "text/html": [
       "<div>\n",
       "<style scoped>\n",
       "    .dataframe tbody tr th:only-of-type {\n",
       "        vertical-align: middle;\n",
       "    }\n",
       "\n",
       "    .dataframe tbody tr th {\n",
       "        vertical-align: top;\n",
       "    }\n",
       "\n",
       "    .dataframe thead th {\n",
       "        text-align: right;\n",
       "    }\n",
       "</style>\n",
       "<table border=\"1\" class=\"dataframe\">\n",
       "  <thead>\n",
       "    <tr style=\"text-align: right;\">\n",
       "      <th></th>\n",
       "      <th>client_id</th>\n",
       "      <th>sex</th>\n",
       "      <th>birth</th>\n",
       "      <th>age</th>\n",
       "    </tr>\n",
       "  </thead>\n",
       "  <tbody>\n",
       "    <tr>\n",
       "      <th>0</th>\n",
       "      <td>c_4410</td>\n",
       "      <td>f</td>\n",
       "      <td>1967</td>\n",
       "      <td>56</td>\n",
       "    </tr>\n",
       "    <tr>\n",
       "      <th>1</th>\n",
       "      <td>c_7839</td>\n",
       "      <td>f</td>\n",
       "      <td>1975</td>\n",
       "      <td>48</td>\n",
       "    </tr>\n",
       "    <tr>\n",
       "      <th>2</th>\n",
       "      <td>c_1699</td>\n",
       "      <td>f</td>\n",
       "      <td>1984</td>\n",
       "      <td>39</td>\n",
       "    </tr>\n",
       "    <tr>\n",
       "      <th>3</th>\n",
       "      <td>c_5961</td>\n",
       "      <td>f</td>\n",
       "      <td>1962</td>\n",
       "      <td>61</td>\n",
       "    </tr>\n",
       "    <tr>\n",
       "      <th>4</th>\n",
       "      <td>c_5320</td>\n",
       "      <td>m</td>\n",
       "      <td>1943</td>\n",
       "      <td>80</td>\n",
       "    </tr>\n",
       "  </tbody>\n",
       "</table>\n",
       "</div>"
      ],
      "text/plain": [
       "  client_id sex  birth  age\n",
       "0    c_4410   f   1967   56\n",
       "1    c_7839   f   1975   48\n",
       "2    c_1699   f   1984   39\n",
       "3    c_5961   f   1962   61\n",
       "4    c_5320   m   1943   80"
      ]
     },
     "execution_count": 7,
     "metadata": {},
     "output_type": "execute_result"
    }
   ],
   "source": [
    "# Ajout d'une colonne 'age'\n",
    "current_year = datetime.now().strftime('%Y')\n",
    "df_customers['age'] = int(current_year) - df_customers['birth']\n",
    "df_customers.head()"
   ]
  },
  {
   "cell_type": "code",
   "execution_count": 8,
   "id": "4357e621",
   "metadata": {},
   "outputs": [
    {
     "data": {
      "text/plain": [
       "count   8623.00\n",
       "mean      44.72\n",
       "std       16.92\n",
       "min       19.00\n",
       "25%       31.00\n",
       "50%       44.00\n",
       "75%       57.00\n",
       "max       94.00\n",
       "Name: age, dtype: float64"
      ]
     },
     "execution_count": 8,
     "metadata": {},
     "output_type": "execute_result"
    }
   ],
   "source": [
    "# Utilisation de la fonction describe pour observer la colonne âge\n",
    "df_customers['age'].describe()"
   ]
  },
  {
   "cell_type": "code",
   "execution_count": 9,
   "id": "b245360c",
   "metadata": {},
   "outputs": [
    {
     "data": {
      "text/plain": [
       "0       (48.0, 60.0]\n",
       "1       (39.0, 48.0]\n",
       "2       (28.0, 39.0]\n",
       "3       (60.0, 94.0]\n",
       "4       (60.0, 94.0]\n",
       "            ...     \n",
       "8618    (60.0, 94.0]\n",
       "8619    (48.0, 60.0]\n",
       "8620    (48.0, 60.0]\n",
       "8621    (48.0, 60.0]\n",
       "8622    (39.0, 48.0]\n",
       "Name: age, Length: 8623, dtype: category\n",
       "Categories (5, interval[float64, right]): [(18.999, 28.0] < (28.0, 39.0] < (39.0, 48.0] < (48.0, 60.0] < (60.0, 94.0]]"
      ]
     },
     "execution_count": 9,
     "metadata": {},
     "output_type": "execute_result"
    }
   ],
   "source": [
    "# Utilisation de la fonction qcut pour diviser la colonne âge en 5 tranches d'âge\n",
    "pd.qcut(df_customers['age'], q=5)"
   ]
  },
  {
   "cell_type": "code",
   "execution_count": 10,
   "id": "0f5f1715",
   "metadata": {},
   "outputs": [
    {
     "data": {
      "text/html": [
       "<div>\n",
       "<style scoped>\n",
       "    .dataframe tbody tr th:only-of-type {\n",
       "        vertical-align: middle;\n",
       "    }\n",
       "\n",
       "    .dataframe tbody tr th {\n",
       "        vertical-align: top;\n",
       "    }\n",
       "\n",
       "    .dataframe thead th {\n",
       "        text-align: right;\n",
       "    }\n",
       "</style>\n",
       "<table border=\"1\" class=\"dataframe\">\n",
       "  <thead>\n",
       "    <tr style=\"text-align: right;\">\n",
       "      <th></th>\n",
       "      <th>client_id</th>\n",
       "      <th>sex</th>\n",
       "      <th>birth</th>\n",
       "      <th>age</th>\n",
       "      <th>age_range</th>\n",
       "    </tr>\n",
       "  </thead>\n",
       "  <tbody>\n",
       "    <tr>\n",
       "      <th>0</th>\n",
       "      <td>c_4410</td>\n",
       "      <td>f</td>\n",
       "      <td>1967</td>\n",
       "      <td>56</td>\n",
       "      <td>50 à 60 ans</td>\n",
       "    </tr>\n",
       "    <tr>\n",
       "      <th>1</th>\n",
       "      <td>c_7839</td>\n",
       "      <td>f</td>\n",
       "      <td>1975</td>\n",
       "      <td>48</td>\n",
       "      <td>40 à 50 ans</td>\n",
       "    </tr>\n",
       "    <tr>\n",
       "      <th>2</th>\n",
       "      <td>c_1699</td>\n",
       "      <td>f</td>\n",
       "      <td>1984</td>\n",
       "      <td>39</td>\n",
       "      <td>30 à 40 ans</td>\n",
       "    </tr>\n",
       "    <tr>\n",
       "      <th>3</th>\n",
       "      <td>c_5961</td>\n",
       "      <td>f</td>\n",
       "      <td>1962</td>\n",
       "      <td>61</td>\n",
       "      <td>60 ans et plus</td>\n",
       "    </tr>\n",
       "    <tr>\n",
       "      <th>4</th>\n",
       "      <td>c_5320</td>\n",
       "      <td>m</td>\n",
       "      <td>1943</td>\n",
       "      <td>80</td>\n",
       "      <td>60 ans et plus</td>\n",
       "    </tr>\n",
       "    <tr>\n",
       "      <th>...</th>\n",
       "      <td>...</td>\n",
       "      <td>...</td>\n",
       "      <td>...</td>\n",
       "      <td>...</td>\n",
       "      <td>...</td>\n",
       "    </tr>\n",
       "    <tr>\n",
       "      <th>8618</th>\n",
       "      <td>c_7920</td>\n",
       "      <td>m</td>\n",
       "      <td>1956</td>\n",
       "      <td>67</td>\n",
       "      <td>60 ans et plus</td>\n",
       "    </tr>\n",
       "    <tr>\n",
       "      <th>8619</th>\n",
       "      <td>c_7403</td>\n",
       "      <td>f</td>\n",
       "      <td>1970</td>\n",
       "      <td>53</td>\n",
       "      <td>50 à 60 ans</td>\n",
       "    </tr>\n",
       "    <tr>\n",
       "      <th>8620</th>\n",
       "      <td>c_5119</td>\n",
       "      <td>m</td>\n",
       "      <td>1974</td>\n",
       "      <td>49</td>\n",
       "      <td>40 à 50 ans</td>\n",
       "    </tr>\n",
       "    <tr>\n",
       "      <th>8621</th>\n",
       "      <td>c_5643</td>\n",
       "      <td>f</td>\n",
       "      <td>1968</td>\n",
       "      <td>55</td>\n",
       "      <td>50 à 60 ans</td>\n",
       "    </tr>\n",
       "    <tr>\n",
       "      <th>8622</th>\n",
       "      <td>c_84</td>\n",
       "      <td>f</td>\n",
       "      <td>1982</td>\n",
       "      <td>41</td>\n",
       "      <td>40 à 50 ans</td>\n",
       "    </tr>\n",
       "  </tbody>\n",
       "</table>\n",
       "<p>8623 rows × 5 columns</p>\n",
       "</div>"
      ],
      "text/plain": [
       "     client_id sex  birth  age       age_range\n",
       "0       c_4410   f   1967   56     50 à 60 ans\n",
       "1       c_7839   f   1975   48     40 à 50 ans\n",
       "2       c_1699   f   1984   39     30 à 40 ans\n",
       "3       c_5961   f   1962   61  60 ans et plus\n",
       "4       c_5320   m   1943   80  60 ans et plus\n",
       "...        ...  ..    ...  ...             ...\n",
       "8618    c_7920   m   1956   67  60 ans et plus\n",
       "8619    c_7403   f   1970   53     50 à 60 ans\n",
       "8620    c_5119   m   1974   49     40 à 50 ans\n",
       "8621    c_5643   f   1968   55     50 à 60 ans\n",
       "8622      c_84   f   1982   41     40 à 50 ans\n",
       "\n",
       "[8623 rows x 5 columns]"
      ]
     },
     "execution_count": 10,
     "metadata": {},
     "output_type": "execute_result"
    }
   ],
   "source": [
    "# Ajout d'une colonne 'tranche d'âge'\n",
    "df_customers['age_range'] = pd.cut(df_customers['age'],bins=[18,30,40,50,60,100],labels=[\"18 à 30 ans\",\"30 à 40 ans\",\"40 à 50 ans\",\"50 à 60 ans\",\n",
    "                                                                                          \"60 ans et plus\"])\n",
    "df_customers"
   ]
  },
  {
   "cell_type": "markdown",
   "id": "2df006e8",
   "metadata": {},
   "source": [
    "### _- Détection des valeurs d'un format différent dans la colonne client_id._"
   ]
  },
  {
   "cell_type": "code",
   "execution_count": 11,
   "id": "7019130b",
   "metadata": {},
   "outputs": [
    {
     "data": {
      "text/html": [
       "<div>\n",
       "<style scoped>\n",
       "    .dataframe tbody tr th:only-of-type {\n",
       "        vertical-align: middle;\n",
       "    }\n",
       "\n",
       "    .dataframe tbody tr th {\n",
       "        vertical-align: top;\n",
       "    }\n",
       "\n",
       "    .dataframe thead th {\n",
       "        text-align: right;\n",
       "    }\n",
       "</style>\n",
       "<table border=\"1\" class=\"dataframe\">\n",
       "  <thead>\n",
       "    <tr style=\"text-align: right;\">\n",
       "      <th></th>\n",
       "      <th>client_id</th>\n",
       "      <th>sex</th>\n",
       "      <th>birth</th>\n",
       "      <th>age</th>\n",
       "      <th>age_range</th>\n",
       "    </tr>\n",
       "  </thead>\n",
       "  <tbody>\n",
       "    <tr>\n",
       "      <th>2735</th>\n",
       "      <td>ct_0</td>\n",
       "      <td>f</td>\n",
       "      <td>2001</td>\n",
       "      <td>22</td>\n",
       "      <td>18 à 30 ans</td>\n",
       "    </tr>\n",
       "    <tr>\n",
       "      <th>8494</th>\n",
       "      <td>ct_1</td>\n",
       "      <td>m</td>\n",
       "      <td>2001</td>\n",
       "      <td>22</td>\n",
       "      <td>18 à 30 ans</td>\n",
       "    </tr>\n",
       "  </tbody>\n",
       "</table>\n",
       "</div>"
      ],
      "text/plain": [
       "     client_id sex  birth  age    age_range\n",
       "2735      ct_0   f   2001   22  18 à 30 ans\n",
       "8494      ct_1   m   2001   22  18 à 30 ans"
      ]
     },
     "execution_count": 11,
     "metadata": {},
     "output_type": "execute_result"
    }
   ],
   "source": [
    "# Utilisation de la fonction REGEX, identification des lignes qui ne commencent pas par c suivi d'un tiret et finissant par un\n",
    "#chiffre\n",
    "client_id_different = df_customers.loc[~df_customers['client_id'].str.contains(r'^c_\\d+$')]\n",
    "client_id_different"
   ]
  },
  {
   "cell_type": "markdown",
   "id": "31f31ffe",
   "metadata": {},
   "source": [
    "Il y a 2 références clients identifiées dans le fichier customers qui correspondent à des tests."
   ]
  },
  {
   "cell_type": "markdown",
   "id": "b7a301f7",
   "metadata": {},
   "source": [
    "## <span style='color:green'> II - Fichier products </span>"
   ]
  },
  {
   "cell_type": "markdown",
   "id": "8e2a32ad",
   "metadata": {},
   "source": [
    "### _- Importation du fichier_"
   ]
  },
  {
   "cell_type": "code",
   "execution_count": 12,
   "id": "606108d1",
   "metadata": {},
   "outputs": [
    {
     "data": {
      "text/html": [
       "<div>\n",
       "<style scoped>\n",
       "    .dataframe tbody tr th:only-of-type {\n",
       "        vertical-align: middle;\n",
       "    }\n",
       "\n",
       "    .dataframe tbody tr th {\n",
       "        vertical-align: top;\n",
       "    }\n",
       "\n",
       "    .dataframe thead th {\n",
       "        text-align: right;\n",
       "    }\n",
       "</style>\n",
       "<table border=\"1\" class=\"dataframe\">\n",
       "  <thead>\n",
       "    <tr style=\"text-align: right;\">\n",
       "      <th></th>\n",
       "      <th>id_prod</th>\n",
       "      <th>price</th>\n",
       "      <th>categ</th>\n",
       "    </tr>\n",
       "  </thead>\n",
       "  <tbody>\n",
       "    <tr>\n",
       "      <th>0</th>\n",
       "      <td>0_1421</td>\n",
       "      <td>19.99</td>\n",
       "      <td>0</td>\n",
       "    </tr>\n",
       "    <tr>\n",
       "      <th>1</th>\n",
       "      <td>0_1368</td>\n",
       "      <td>5.13</td>\n",
       "      <td>0</td>\n",
       "    </tr>\n",
       "    <tr>\n",
       "      <th>2</th>\n",
       "      <td>0_731</td>\n",
       "      <td>17.99</td>\n",
       "      <td>0</td>\n",
       "    </tr>\n",
       "    <tr>\n",
       "      <th>3</th>\n",
       "      <td>1_587</td>\n",
       "      <td>4.99</td>\n",
       "      <td>1</td>\n",
       "    </tr>\n",
       "    <tr>\n",
       "      <th>4</th>\n",
       "      <td>0_1507</td>\n",
       "      <td>3.99</td>\n",
       "      <td>0</td>\n",
       "    </tr>\n",
       "  </tbody>\n",
       "</table>\n",
       "</div>"
      ],
      "text/plain": [
       "  id_prod  price  categ\n",
       "0  0_1421  19.99      0\n",
       "1  0_1368   5.13      0\n",
       "2   0_731  17.99      0\n",
       "3   1_587   4.99      1\n",
       "4  0_1507   3.99      0"
      ]
     },
     "execution_count": 12,
     "metadata": {},
     "output_type": "execute_result"
    }
   ],
   "source": [
    "df_products=pd.read_csv('products.csv')\n",
    "df_products.head()"
   ]
  },
  {
   "cell_type": "markdown",
   "id": "d5d99692",
   "metadata": {},
   "source": [
    "### _- Vérification des informations du data frame_"
   ]
  },
  {
   "cell_type": "code",
   "execution_count": 13,
   "id": "99c3e0a9",
   "metadata": {},
   "outputs": [
    {
     "name": "stdout",
     "output_type": "stream",
     "text": [
      "<class 'pandas.core.frame.DataFrame'>\n",
      "RangeIndex: 3287 entries, 0 to 3286\n",
      "Data columns (total 3 columns):\n",
      " #   Column   Non-Null Count  Dtype  \n",
      "---  ------   --------------  -----  \n",
      " 0   id_prod  3287 non-null   object \n",
      " 1   price    3287 non-null   float64\n",
      " 2   categ    3287 non-null   int64  \n",
      "dtypes: float64(1), int64(1), object(1)\n",
      "memory usage: 77.2+ KB\n"
     ]
    }
   ],
   "source": [
    "df_products.info()"
   ]
  },
  {
   "cell_type": "markdown",
   "id": "ed1ee1b5",
   "metadata": {},
   "source": [
    "Il y a 3 287 lignes et 3 colonnes."
   ]
  },
  {
   "cell_type": "markdown",
   "id": "2bcb3a99",
   "metadata": {},
   "source": [
    "### _- Vérification des statistiques des colonnes_"
   ]
  },
  {
   "cell_type": "code",
   "execution_count": 14,
   "id": "e58b32e1",
   "metadata": {},
   "outputs": [
    {
     "data": {
      "text/html": [
       "<div>\n",
       "<style scoped>\n",
       "    .dataframe tbody tr th:only-of-type {\n",
       "        vertical-align: middle;\n",
       "    }\n",
       "\n",
       "    .dataframe tbody tr th {\n",
       "        vertical-align: top;\n",
       "    }\n",
       "\n",
       "    .dataframe thead th {\n",
       "        text-align: right;\n",
       "    }\n",
       "</style>\n",
       "<table border=\"1\" class=\"dataframe\">\n",
       "  <thead>\n",
       "    <tr style=\"text-align: right;\">\n",
       "      <th></th>\n",
       "      <th>id_prod</th>\n",
       "      <th>price</th>\n",
       "      <th>categ</th>\n",
       "    </tr>\n",
       "  </thead>\n",
       "  <tbody>\n",
       "    <tr>\n",
       "      <th>count</th>\n",
       "      <td>3287</td>\n",
       "      <td>3287.00</td>\n",
       "      <td>3287.00</td>\n",
       "    </tr>\n",
       "    <tr>\n",
       "      <th>unique</th>\n",
       "      <td>3287</td>\n",
       "      <td>NaN</td>\n",
       "      <td>NaN</td>\n",
       "    </tr>\n",
       "    <tr>\n",
       "      <th>top</th>\n",
       "      <td>0_1421</td>\n",
       "      <td>NaN</td>\n",
       "      <td>NaN</td>\n",
       "    </tr>\n",
       "    <tr>\n",
       "      <th>freq</th>\n",
       "      <td>1</td>\n",
       "      <td>NaN</td>\n",
       "      <td>NaN</td>\n",
       "    </tr>\n",
       "    <tr>\n",
       "      <th>mean</th>\n",
       "      <td>NaN</td>\n",
       "      <td>21.86</td>\n",
       "      <td>0.37</td>\n",
       "    </tr>\n",
       "    <tr>\n",
       "      <th>std</th>\n",
       "      <td>NaN</td>\n",
       "      <td>29.85</td>\n",
       "      <td>0.62</td>\n",
       "    </tr>\n",
       "    <tr>\n",
       "      <th>min</th>\n",
       "      <td>NaN</td>\n",
       "      <td>-1.00</td>\n",
       "      <td>0.00</td>\n",
       "    </tr>\n",
       "    <tr>\n",
       "      <th>25%</th>\n",
       "      <td>NaN</td>\n",
       "      <td>6.99</td>\n",
       "      <td>0.00</td>\n",
       "    </tr>\n",
       "    <tr>\n",
       "      <th>50%</th>\n",
       "      <td>NaN</td>\n",
       "      <td>13.06</td>\n",
       "      <td>0.00</td>\n",
       "    </tr>\n",
       "    <tr>\n",
       "      <th>75%</th>\n",
       "      <td>NaN</td>\n",
       "      <td>22.99</td>\n",
       "      <td>1.00</td>\n",
       "    </tr>\n",
       "    <tr>\n",
       "      <th>max</th>\n",
       "      <td>NaN</td>\n",
       "      <td>300.00</td>\n",
       "      <td>2.00</td>\n",
       "    </tr>\n",
       "  </tbody>\n",
       "</table>\n",
       "</div>"
      ],
      "text/plain": [
       "       id_prod   price   categ\n",
       "count     3287 3287.00 3287.00\n",
       "unique    3287     NaN     NaN\n",
       "top     0_1421     NaN     NaN\n",
       "freq         1     NaN     NaN\n",
       "mean       NaN   21.86    0.37\n",
       "std        NaN   29.85    0.62\n",
       "min        NaN   -1.00    0.00\n",
       "25%        NaN    6.99    0.00\n",
       "50%        NaN   13.06    0.00\n",
       "75%        NaN   22.99    1.00\n",
       "max        NaN  300.00    2.00"
      ]
     },
     "execution_count": 14,
     "metadata": {},
     "output_type": "execute_result"
    }
   ],
   "source": [
    "df_products.describe(include='all')  "
   ]
  },
  {
   "cell_type": "markdown",
   "id": "7c6958ba",
   "metadata": {},
   "source": [
    "Il y a au moins une référence dont le prix est - 1, donc inférieur à 0.\n"
   ]
  },
  {
   "cell_type": "markdown",
   "id": "367793d8",
   "metadata": {},
   "source": [
    "### _- Détection des valeurs manquantes_"
   ]
  },
  {
   "cell_type": "code",
   "execution_count": 15,
   "id": "0a9b2e71",
   "metadata": {},
   "outputs": [
    {
     "name": "stdout",
     "output_type": "stream",
     "text": [
      "id_prod    0\n",
      "price      0\n",
      "categ      0\n",
      "dtype: int64\n"
     ]
    }
   ],
   "source": [
    "print(df_products.isnull().sum())"
   ]
  },
  {
   "cell_type": "markdown",
   "id": "e6333206",
   "metadata": {},
   "source": [
    "Il n'y a pas de valeurs manquantes.\n"
   ]
  },
  {
   "cell_type": "markdown",
   "id": "3b2b72f8",
   "metadata": {},
   "source": [
    "### _- Détection des doublons_"
   ]
  },
  {
   "cell_type": "code",
   "execution_count": 16,
   "id": "1db62d62",
   "metadata": {},
   "outputs": [
    {
     "data": {
      "text/html": [
       "<div>\n",
       "<style scoped>\n",
       "    .dataframe tbody tr th:only-of-type {\n",
       "        vertical-align: middle;\n",
       "    }\n",
       "\n",
       "    .dataframe tbody tr th {\n",
       "        vertical-align: top;\n",
       "    }\n",
       "\n",
       "    .dataframe thead th {\n",
       "        text-align: right;\n",
       "    }\n",
       "</style>\n",
       "<table border=\"1\" class=\"dataframe\">\n",
       "  <thead>\n",
       "    <tr style=\"text-align: right;\">\n",
       "      <th></th>\n",
       "      <th>id_prod</th>\n",
       "      <th>price</th>\n",
       "      <th>categ</th>\n",
       "    </tr>\n",
       "  </thead>\n",
       "  <tbody>\n",
       "  </tbody>\n",
       "</table>\n",
       "</div>"
      ],
      "text/plain": [
       "Empty DataFrame\n",
       "Columns: [id_prod, price, categ]\n",
       "Index: []"
      ]
     },
     "execution_count": 16,
     "metadata": {},
     "output_type": "execute_result"
    }
   ],
   "source": [
    "df_products.loc[df_products['id_prod'].duplicated(keep=False),:]"
   ]
  },
  {
   "cell_type": "markdown",
   "id": "c1c018af",
   "metadata": {},
   "source": [
    "Il n'y a pas de doublons.\n"
   ]
  },
  {
   "cell_type": "markdown",
   "id": "1db8fca8",
   "metadata": {},
   "source": [
    "### _- Vérifications des valeurs de la colonne price inférieure à 0_"
   ]
  },
  {
   "cell_type": "code",
   "execution_count": 17,
   "id": "ae763607",
   "metadata": {},
   "outputs": [
    {
     "data": {
      "text/html": [
       "<div>\n",
       "<style scoped>\n",
       "    .dataframe tbody tr th:only-of-type {\n",
       "        vertical-align: middle;\n",
       "    }\n",
       "\n",
       "    .dataframe tbody tr th {\n",
       "        vertical-align: top;\n",
       "    }\n",
       "\n",
       "    .dataframe thead th {\n",
       "        text-align: right;\n",
       "    }\n",
       "</style>\n",
       "<table border=\"1\" class=\"dataframe\">\n",
       "  <thead>\n",
       "    <tr style=\"text-align: right;\">\n",
       "      <th></th>\n",
       "      <th>id_prod</th>\n",
       "      <th>price</th>\n",
       "      <th>categ</th>\n",
       "    </tr>\n",
       "  </thead>\n",
       "  <tbody>\n",
       "    <tr>\n",
       "      <th>731</th>\n",
       "      <td>T_0</td>\n",
       "      <td>-1.00</td>\n",
       "      <td>0</td>\n",
       "    </tr>\n",
       "  </tbody>\n",
       "</table>\n",
       "</div>"
      ],
      "text/plain": [
       "    id_prod  price  categ\n",
       "731     T_0  -1.00      0"
      ]
     },
     "execution_count": 17,
     "metadata": {},
     "output_type": "execute_result"
    }
   ],
   "source": [
    "df_products[df_products['price']<=0]"
   ]
  },
  {
   "cell_type": "markdown",
   "id": "f7629a5c",
   "metadata": {},
   "source": [
    "Il y en a une seule."
   ]
  },
  {
   "cell_type": "markdown",
   "id": "0099ad00",
   "metadata": {},
   "source": [
    "### _-  Détection des valeurs d'un format différent dans la colonne id_prod._"
   ]
  },
  {
   "cell_type": "code",
   "execution_count": 18,
   "id": "6c9d6aff",
   "metadata": {},
   "outputs": [
    {
     "data": {
      "text/html": [
       "<div>\n",
       "<style scoped>\n",
       "    .dataframe tbody tr th:only-of-type {\n",
       "        vertical-align: middle;\n",
       "    }\n",
       "\n",
       "    .dataframe tbody tr th {\n",
       "        vertical-align: top;\n",
       "    }\n",
       "\n",
       "    .dataframe thead th {\n",
       "        text-align: right;\n",
       "    }\n",
       "</style>\n",
       "<table border=\"1\" class=\"dataframe\">\n",
       "  <thead>\n",
       "    <tr style=\"text-align: right;\">\n",
       "      <th></th>\n",
       "      <th>id_prod</th>\n",
       "      <th>price</th>\n",
       "      <th>categ</th>\n",
       "    </tr>\n",
       "  </thead>\n",
       "  <tbody>\n",
       "    <tr>\n",
       "      <th>731</th>\n",
       "      <td>T_0</td>\n",
       "      <td>-1.00</td>\n",
       "      <td>0</td>\n",
       "    </tr>\n",
       "  </tbody>\n",
       "</table>\n",
       "</div>"
      ],
      "text/plain": [
       "    id_prod  price  categ\n",
       "731     T_0  -1.00      0"
      ]
     },
     "execution_count": 18,
     "metadata": {},
     "output_type": "execute_result"
    }
   ],
   "source": [
    "# Utilisation de la fonction REGEX, identification des lignes qui ne commencent pas par un chiffre suivi d'un underscore et\n",
    "#finissant par un chiffre\n",
    "id_prod_different_products = df_products.loc[~df_products['id_prod'].str.contains(r'^\\d_\\d+$',na=False)]\n",
    "id_prod_different_products"
   ]
  },
  {
   "cell_type": "markdown",
   "id": "90b00f12",
   "metadata": {},
   "source": [
    "Il y a une valeur qui ne correspond pas au format de la colonne et qui correspond au prix inférieur à 0."
   ]
  },
  {
   "cell_type": "markdown",
   "id": "8ab71a1b",
   "metadata": {},
   "source": [
    "## <span style='color:green'> III - Fichier transactions </span>"
   ]
  },
  {
   "cell_type": "markdown",
   "id": "f49d235d",
   "metadata": {},
   "source": [
    "### _- Importation du fichier_"
   ]
  },
  {
   "cell_type": "code",
   "execution_count": 19,
   "id": "1a2ecbb5",
   "metadata": {},
   "outputs": [
    {
     "data": {
      "text/html": [
       "<div>\n",
       "<style scoped>\n",
       "    .dataframe tbody tr th:only-of-type {\n",
       "        vertical-align: middle;\n",
       "    }\n",
       "\n",
       "    .dataframe tbody tr th {\n",
       "        vertical-align: top;\n",
       "    }\n",
       "\n",
       "    .dataframe thead th {\n",
       "        text-align: right;\n",
       "    }\n",
       "</style>\n",
       "<table border=\"1\" class=\"dataframe\">\n",
       "  <thead>\n",
       "    <tr style=\"text-align: right;\">\n",
       "      <th></th>\n",
       "      <th>id_prod</th>\n",
       "      <th>date</th>\n",
       "      <th>session_id</th>\n",
       "      <th>client_id</th>\n",
       "    </tr>\n",
       "  </thead>\n",
       "  <tbody>\n",
       "    <tr>\n",
       "      <th>0</th>\n",
       "      <td>0_1518</td>\n",
       "      <td>2022-05-20 13:21:29.043970</td>\n",
       "      <td>s_211425</td>\n",
       "      <td>c_103</td>\n",
       "    </tr>\n",
       "    <tr>\n",
       "      <th>1</th>\n",
       "      <td>1_251</td>\n",
       "      <td>2022-02-02 07:55:19.149409</td>\n",
       "      <td>s_158752</td>\n",
       "      <td>c_8534</td>\n",
       "    </tr>\n",
       "    <tr>\n",
       "      <th>2</th>\n",
       "      <td>0_1277</td>\n",
       "      <td>2022-06-18 15:44:33.155329</td>\n",
       "      <td>s_225667</td>\n",
       "      <td>c_6714</td>\n",
       "    </tr>\n",
       "    <tr>\n",
       "      <th>3</th>\n",
       "      <td>2_209</td>\n",
       "      <td>2021-06-24 04:19:29.835891</td>\n",
       "      <td>s_52962</td>\n",
       "      <td>c_6941</td>\n",
       "    </tr>\n",
       "    <tr>\n",
       "      <th>4</th>\n",
       "      <td>0_1509</td>\n",
       "      <td>2023-01-11 08:22:08.194479</td>\n",
       "      <td>s_325227</td>\n",
       "      <td>c_4232</td>\n",
       "    </tr>\n",
       "  </tbody>\n",
       "</table>\n",
       "</div>"
      ],
      "text/plain": [
       "  id_prod                        date session_id client_id\n",
       "0  0_1518  2022-05-20 13:21:29.043970   s_211425     c_103\n",
       "1   1_251  2022-02-02 07:55:19.149409   s_158752    c_8534\n",
       "2  0_1277  2022-06-18 15:44:33.155329   s_225667    c_6714\n",
       "3   2_209  2021-06-24 04:19:29.835891    s_52962    c_6941\n",
       "4  0_1509  2023-01-11 08:22:08.194479   s_325227    c_4232"
      ]
     },
     "execution_count": 19,
     "metadata": {},
     "output_type": "execute_result"
    }
   ],
   "source": [
    "df_transactions=pd.read_csv('transactions.csv')\n",
    "df_transactions.head()"
   ]
  },
  {
   "cell_type": "markdown",
   "id": "661a34c8",
   "metadata": {},
   "source": [
    "### _- Vérification des informations du data frame_"
   ]
  },
  {
   "cell_type": "code",
   "execution_count": 20,
   "id": "9368618e",
   "metadata": {},
   "outputs": [
    {
     "name": "stdout",
     "output_type": "stream",
     "text": [
      "<class 'pandas.core.frame.DataFrame'>\n",
      "RangeIndex: 679532 entries, 0 to 679531\n",
      "Data columns (total 4 columns):\n",
      " #   Column      Non-Null Count   Dtype \n",
      "---  ------      --------------   ----- \n",
      " 0   id_prod     679532 non-null  object\n",
      " 1   date        679532 non-null  object\n",
      " 2   session_id  679532 non-null  object\n",
      " 3   client_id   679532 non-null  object\n",
      "dtypes: object(4)\n",
      "memory usage: 20.7+ MB\n"
     ]
    }
   ],
   "source": [
    "df_transactions.info()"
   ]
  },
  {
   "cell_type": "markdown",
   "id": "9671d38d",
   "metadata": {},
   "source": [
    "Il y a 679 532 lignes et 4 colonnes, on constate qu'il y a un problème au niveau du format de la date."
   ]
  },
  {
   "cell_type": "markdown",
   "id": "96ae248e",
   "metadata": {},
   "source": [
    "### _- Vérification des statistiques des colonnes_"
   ]
  },
  {
   "cell_type": "code",
   "execution_count": 21,
   "id": "668f3dbc",
   "metadata": {},
   "outputs": [
    {
     "data": {
      "text/html": [
       "<div>\n",
       "<style scoped>\n",
       "    .dataframe tbody tr th:only-of-type {\n",
       "        vertical-align: middle;\n",
       "    }\n",
       "\n",
       "    .dataframe tbody tr th {\n",
       "        vertical-align: top;\n",
       "    }\n",
       "\n",
       "    .dataframe thead th {\n",
       "        text-align: right;\n",
       "    }\n",
       "</style>\n",
       "<table border=\"1\" class=\"dataframe\">\n",
       "  <thead>\n",
       "    <tr style=\"text-align: right;\">\n",
       "      <th></th>\n",
       "      <th>id_prod</th>\n",
       "      <th>date</th>\n",
       "      <th>session_id</th>\n",
       "      <th>client_id</th>\n",
       "    </tr>\n",
       "  </thead>\n",
       "  <tbody>\n",
       "    <tr>\n",
       "      <th>count</th>\n",
       "      <td>679532</td>\n",
       "      <td>679532</td>\n",
       "      <td>679532</td>\n",
       "      <td>679532</td>\n",
       "    </tr>\n",
       "    <tr>\n",
       "      <th>unique</th>\n",
       "      <td>3267</td>\n",
       "      <td>679371</td>\n",
       "      <td>342316</td>\n",
       "      <td>8602</td>\n",
       "    </tr>\n",
       "    <tr>\n",
       "      <th>top</th>\n",
       "      <td>1_369</td>\n",
       "      <td>test_2021-03-01 02:30:02.237413</td>\n",
       "      <td>s_0</td>\n",
       "      <td>c_1609</td>\n",
       "    </tr>\n",
       "    <tr>\n",
       "      <th>freq</th>\n",
       "      <td>2252</td>\n",
       "      <td>13</td>\n",
       "      <td>200</td>\n",
       "      <td>25488</td>\n",
       "    </tr>\n",
       "  </tbody>\n",
       "</table>\n",
       "</div>"
      ],
      "text/plain": [
       "       id_prod                             date session_id client_id\n",
       "count   679532                           679532     679532    679532\n",
       "unique    3267                           679371     342316      8602\n",
       "top      1_369  test_2021-03-01 02:30:02.237413        s_0    c_1609\n",
       "freq      2252                               13        200     25488"
      ]
     },
     "execution_count": 21,
     "metadata": {},
     "output_type": "execute_result"
    }
   ],
   "source": [
    "df_transactions.describe(include='all')  "
   ]
  },
  {
   "cell_type": "markdown",
   "id": "5bf8418b",
   "metadata": {},
   "source": [
    "### _- Détection des valeurs manquantes_"
   ]
  },
  {
   "cell_type": "code",
   "execution_count": 22,
   "id": "b61c888a",
   "metadata": {},
   "outputs": [
    {
     "name": "stdout",
     "output_type": "stream",
     "text": [
      "id_prod       0\n",
      "date          0\n",
      "session_id    0\n",
      "client_id     0\n",
      "dtype: int64\n"
     ]
    }
   ],
   "source": [
    "print(df_transactions.isnull().sum())"
   ]
  },
  {
   "cell_type": "markdown",
   "id": "0be3b1f3",
   "metadata": {},
   "source": [
    "Il n'y a pas de valeurs manquantes.\n"
   ]
  },
  {
   "cell_type": "markdown",
   "id": "a88a8836",
   "metadata": {},
   "source": [
    "### _- Détection des doublons_"
   ]
  },
  {
   "cell_type": "code",
   "execution_count": 23,
   "id": "c0766ea2",
   "metadata": {},
   "outputs": [
    {
     "data": {
      "text/html": [
       "<div>\n",
       "<style scoped>\n",
       "    .dataframe tbody tr th:only-of-type {\n",
       "        vertical-align: middle;\n",
       "    }\n",
       "\n",
       "    .dataframe tbody tr th {\n",
       "        vertical-align: top;\n",
       "    }\n",
       "\n",
       "    .dataframe thead th {\n",
       "        text-align: right;\n",
       "    }\n",
       "</style>\n",
       "<table border=\"1\" class=\"dataframe\">\n",
       "  <thead>\n",
       "    <tr style=\"text-align: right;\">\n",
       "      <th></th>\n",
       "      <th>id_prod</th>\n",
       "      <th>date</th>\n",
       "      <th>session_id</th>\n",
       "      <th>client_id</th>\n",
       "    </tr>\n",
       "  </thead>\n",
       "  <tbody>\n",
       "    <tr>\n",
       "      <th>3019</th>\n",
       "      <td>T_0</td>\n",
       "      <td>test_2021-03-01 02:30:02.237419</td>\n",
       "      <td>s_0</td>\n",
       "      <td>ct_0</td>\n",
       "    </tr>\n",
       "    <tr>\n",
       "      <th>9668</th>\n",
       "      <td>T_0</td>\n",
       "      <td>test_2021-03-01 02:30:02.237437</td>\n",
       "      <td>s_0</td>\n",
       "      <td>ct_1</td>\n",
       "    </tr>\n",
       "    <tr>\n",
       "      <th>10728</th>\n",
       "      <td>T_0</td>\n",
       "      <td>test_2021-03-01 02:30:02.237436</td>\n",
       "      <td>s_0</td>\n",
       "      <td>ct_0</td>\n",
       "    </tr>\n",
       "    <tr>\n",
       "      <th>15292</th>\n",
       "      <td>T_0</td>\n",
       "      <td>test_2021-03-01 02:30:02.237430</td>\n",
       "      <td>s_0</td>\n",
       "      <td>ct_0</td>\n",
       "    </tr>\n",
       "    <tr>\n",
       "      <th>19312</th>\n",
       "      <td>T_0</td>\n",
       "      <td>test_2021-03-01 02:30:02.237449</td>\n",
       "      <td>s_0</td>\n",
       "      <td>ct_0</td>\n",
       "    </tr>\n",
       "    <tr>\n",
       "      <th>...</th>\n",
       "      <td>...</td>\n",
       "      <td>...</td>\n",
       "      <td>...</td>\n",
       "      <td>...</td>\n",
       "    </tr>\n",
       "    <tr>\n",
       "      <th>653098</th>\n",
       "      <td>T_0</td>\n",
       "      <td>test_2021-03-01 02:30:02.237432</td>\n",
       "      <td>s_0</td>\n",
       "      <td>ct_0</td>\n",
       "    </tr>\n",
       "    <tr>\n",
       "      <th>657830</th>\n",
       "      <td>T_0</td>\n",
       "      <td>test_2021-03-01 02:30:02.237417</td>\n",
       "      <td>s_0</td>\n",
       "      <td>ct_0</td>\n",
       "    </tr>\n",
       "    <tr>\n",
       "      <th>662081</th>\n",
       "      <td>T_0</td>\n",
       "      <td>test_2021-03-01 02:30:02.237427</td>\n",
       "      <td>s_0</td>\n",
       "      <td>ct_1</td>\n",
       "    </tr>\n",
       "    <tr>\n",
       "      <th>671647</th>\n",
       "      <td>T_0</td>\n",
       "      <td>test_2021-03-01 02:30:02.237424</td>\n",
       "      <td>s_0</td>\n",
       "      <td>ct_1</td>\n",
       "    </tr>\n",
       "    <tr>\n",
       "      <th>679180</th>\n",
       "      <td>T_0</td>\n",
       "      <td>test_2021-03-01 02:30:02.237425</td>\n",
       "      <td>s_0</td>\n",
       "      <td>ct_1</td>\n",
       "    </tr>\n",
       "  </tbody>\n",
       "</table>\n",
       "<p>183 rows × 4 columns</p>\n",
       "</div>"
      ],
      "text/plain": [
       "       id_prod                             date session_id client_id\n",
       "3019       T_0  test_2021-03-01 02:30:02.237419        s_0      ct_0\n",
       "9668       T_0  test_2021-03-01 02:30:02.237437        s_0      ct_1\n",
       "10728      T_0  test_2021-03-01 02:30:02.237436        s_0      ct_0\n",
       "15292      T_0  test_2021-03-01 02:30:02.237430        s_0      ct_0\n",
       "19312      T_0  test_2021-03-01 02:30:02.237449        s_0      ct_0\n",
       "...        ...                              ...        ...       ...\n",
       "653098     T_0  test_2021-03-01 02:30:02.237432        s_0      ct_0\n",
       "657830     T_0  test_2021-03-01 02:30:02.237417        s_0      ct_0\n",
       "662081     T_0  test_2021-03-01 02:30:02.237427        s_0      ct_1\n",
       "671647     T_0  test_2021-03-01 02:30:02.237424        s_0      ct_1\n",
       "679180     T_0  test_2021-03-01 02:30:02.237425        s_0      ct_1\n",
       "\n",
       "[183 rows x 4 columns]"
      ]
     },
     "execution_count": 23,
     "metadata": {},
     "output_type": "execute_result"
    }
   ],
   "source": [
    "df_transactions.loc[df_transactions[['id_prod','date','session_id','client_id']].duplicated(keep=False),:]\n"
   ]
  },
  {
   "cell_type": "markdown",
   "id": "a11449e6",
   "metadata": {},
   "source": [
    "### _- Suppression des doublons_"
   ]
  },
  {
   "cell_type": "code",
   "execution_count": 24,
   "id": "e90e4dfc",
   "metadata": {},
   "outputs": [],
   "source": [
    "df_transactions.drop_duplicates(subset=['id_prod','date','session_id','client_id'], inplace=True, ignore_index=True)\n"
   ]
  },
  {
   "cell_type": "markdown",
   "id": "fcb33b16",
   "metadata": {},
   "source": [
    "### _- Vérification de la colonne id_prod_"
   ]
  },
  {
   "cell_type": "code",
   "execution_count": 25,
   "id": "cda03bdd",
   "metadata": {},
   "outputs": [
    {
     "data": {
      "text/html": [
       "<div>\n",
       "<style scoped>\n",
       "    .dataframe tbody tr th:only-of-type {\n",
       "        vertical-align: middle;\n",
       "    }\n",
       "\n",
       "    .dataframe tbody tr th {\n",
       "        vertical-align: top;\n",
       "    }\n",
       "\n",
       "    .dataframe thead th {\n",
       "        text-align: right;\n",
       "    }\n",
       "</style>\n",
       "<table border=\"1\" class=\"dataframe\">\n",
       "  <thead>\n",
       "    <tr style=\"text-align: right;\">\n",
       "      <th></th>\n",
       "      <th>id_prod</th>\n",
       "      <th>date</th>\n",
       "      <th>session_id</th>\n",
       "      <th>client_id</th>\n",
       "    </tr>\n",
       "  </thead>\n",
       "  <tbody>\n",
       "    <tr>\n",
       "      <th>3019</th>\n",
       "      <td>T_0</td>\n",
       "      <td>test_2021-03-01 02:30:02.237419</td>\n",
       "      <td>s_0</td>\n",
       "      <td>ct_0</td>\n",
       "    </tr>\n",
       "    <tr>\n",
       "      <th>5138</th>\n",
       "      <td>T_0</td>\n",
       "      <td>test_2021-03-01 02:30:02.237425</td>\n",
       "      <td>s_0</td>\n",
       "      <td>ct_0</td>\n",
       "    </tr>\n",
       "    <tr>\n",
       "      <th>9668</th>\n",
       "      <td>T_0</td>\n",
       "      <td>test_2021-03-01 02:30:02.237437</td>\n",
       "      <td>s_0</td>\n",
       "      <td>ct_1</td>\n",
       "    </tr>\n",
       "    <tr>\n",
       "      <th>10728</th>\n",
       "      <td>T_0</td>\n",
       "      <td>test_2021-03-01 02:30:02.237436</td>\n",
       "      <td>s_0</td>\n",
       "      <td>ct_0</td>\n",
       "    </tr>\n",
       "    <tr>\n",
       "      <th>15292</th>\n",
       "      <td>T_0</td>\n",
       "      <td>test_2021-03-01 02:30:02.237430</td>\n",
       "      <td>s_0</td>\n",
       "      <td>ct_0</td>\n",
       "    </tr>\n",
       "    <tr>\n",
       "      <th>...</th>\n",
       "      <td>...</td>\n",
       "      <td>...</td>\n",
       "      <td>...</td>\n",
       "      <td>...</td>\n",
       "    </tr>\n",
       "    <tr>\n",
       "      <th>577222</th>\n",
       "      <td>T_0</td>\n",
       "      <td>test_2021-03-01 02:30:02.237424</td>\n",
       "      <td>s_0</td>\n",
       "      <td>ct_0</td>\n",
       "    </tr>\n",
       "    <tr>\n",
       "      <th>592959</th>\n",
       "      <td>T_0</td>\n",
       "      <td>test_2021-03-01 02:30:02.237422</td>\n",
       "      <td>s_0</td>\n",
       "      <td>ct_1</td>\n",
       "    </tr>\n",
       "    <tr>\n",
       "      <th>607783</th>\n",
       "      <td>T_0</td>\n",
       "      <td>test_2021-03-01 02:30:02.237412</td>\n",
       "      <td>s_0</td>\n",
       "      <td>ct_0</td>\n",
       "    </tr>\n",
       "    <tr>\n",
       "      <th>625936</th>\n",
       "      <td>T_0</td>\n",
       "      <td>test_2021-03-01 02:30:02.237422</td>\n",
       "      <td>s_0</td>\n",
       "      <td>ct_0</td>\n",
       "    </tr>\n",
       "    <tr>\n",
       "      <th>670556</th>\n",
       "      <td>T_0</td>\n",
       "      <td>test_2021-03-01 02:30:02.237449</td>\n",
       "      <td>s_0</td>\n",
       "      <td>ct_1</td>\n",
       "    </tr>\n",
       "  </tbody>\n",
       "</table>\n",
       "<p>74 rows × 4 columns</p>\n",
       "</div>"
      ],
      "text/plain": [
       "       id_prod                             date session_id client_id\n",
       "3019       T_0  test_2021-03-01 02:30:02.237419        s_0      ct_0\n",
       "5138       T_0  test_2021-03-01 02:30:02.237425        s_0      ct_0\n",
       "9668       T_0  test_2021-03-01 02:30:02.237437        s_0      ct_1\n",
       "10728      T_0  test_2021-03-01 02:30:02.237436        s_0      ct_0\n",
       "15292      T_0  test_2021-03-01 02:30:02.237430        s_0      ct_0\n",
       "...        ...                              ...        ...       ...\n",
       "577222     T_0  test_2021-03-01 02:30:02.237424        s_0      ct_0\n",
       "592959     T_0  test_2021-03-01 02:30:02.237422        s_0      ct_1\n",
       "607783     T_0  test_2021-03-01 02:30:02.237412        s_0      ct_0\n",
       "625936     T_0  test_2021-03-01 02:30:02.237422        s_0      ct_0\n",
       "670556     T_0  test_2021-03-01 02:30:02.237449        s_0      ct_1\n",
       "\n",
       "[74 rows x 4 columns]"
      ]
     },
     "execution_count": 25,
     "metadata": {},
     "output_type": "execute_result"
    }
   ],
   "source": [
    "# Utilisation de la fonction REGEX, identification des lignes qui ne commencent pas par un chiffre suivi d'un tiret et finissant\n",
    "#par un chiffre\n",
    "id_prod_differents_transactions=df_transactions.loc[~df_transactions['id_prod'].str.contains(r'^\\d_\\d+$',na=False)]\n",
    "id_prod_differents_transactions"
   ]
  },
  {
   "cell_type": "code",
   "execution_count": 26,
   "id": "9981c545",
   "metadata": {},
   "outputs": [
    {
     "data": {
      "text/plain": [
       "array(['T_0'], dtype=object)"
      ]
     },
     "execution_count": 26,
     "metadata": {},
     "output_type": "execute_result"
    }
   ],
   "source": [
    "# Identification des valeurs uniques des id_prod_differents_transactions\n",
    "id_prod_differents_transactions['id_prod'].unique()\n"
   ]
  },
  {
   "cell_type": "markdown",
   "id": "76c5ba40",
   "metadata": {},
   "source": [
    "### _- Vérification si id_prod du fichier df_products correspond au fichier transactions_\n"
   ]
  },
  {
   "cell_type": "code",
   "execution_count": 27,
   "id": "21f726cf",
   "metadata": {},
   "outputs": [
    {
     "data": {
      "text/html": [
       "<div>\n",
       "<style scoped>\n",
       "    .dataframe tbody tr th:only-of-type {\n",
       "        vertical-align: middle;\n",
       "    }\n",
       "\n",
       "    .dataframe tbody tr th {\n",
       "        vertical-align: top;\n",
       "    }\n",
       "\n",
       "    .dataframe thead th {\n",
       "        text-align: right;\n",
       "    }\n",
       "</style>\n",
       "<table border=\"1\" class=\"dataframe\">\n",
       "  <thead>\n",
       "    <tr style=\"text-align: right;\">\n",
       "      <th></th>\n",
       "      <th>id_prod</th>\n",
       "      <th>date</th>\n",
       "      <th>session_id</th>\n",
       "      <th>client_id</th>\n",
       "    </tr>\n",
       "  </thead>\n",
       "  <tbody>\n",
       "    <tr>\n",
       "      <th>2633</th>\n",
       "      <td>0_2245</td>\n",
       "      <td>2022-09-23 07:22:38.636773</td>\n",
       "      <td>s_272266</td>\n",
       "      <td>c_4746</td>\n",
       "    </tr>\n",
       "    <tr>\n",
       "      <th>10106</th>\n",
       "      <td>0_2245</td>\n",
       "      <td>2022-07-23 09:24:14.133889</td>\n",
       "      <td>s_242482</td>\n",
       "      <td>c_6713</td>\n",
       "    </tr>\n",
       "    <tr>\n",
       "      <th>11727</th>\n",
       "      <td>0_2245</td>\n",
       "      <td>2022-12-03 03:26:35.696673</td>\n",
       "      <td>s_306338</td>\n",
       "      <td>c_5108</td>\n",
       "    </tr>\n",
       "    <tr>\n",
       "      <th>15675</th>\n",
       "      <td>0_2245</td>\n",
       "      <td>2021-08-16 11:33:25.481411</td>\n",
       "      <td>s_76493</td>\n",
       "      <td>c_1391</td>\n",
       "    </tr>\n",
       "    <tr>\n",
       "      <th>16377</th>\n",
       "      <td>0_2245</td>\n",
       "      <td>2022-07-16 05:53:01.627491</td>\n",
       "      <td>s_239078</td>\n",
       "      <td>c_7954</td>\n",
       "    </tr>\n",
       "    <tr>\n",
       "      <th>...</th>\n",
       "      <td>...</td>\n",
       "      <td>...</td>\n",
       "      <td>...</td>\n",
       "      <td>...</td>\n",
       "    </tr>\n",
       "    <tr>\n",
       "      <th>669606</th>\n",
       "      <td>0_2245</td>\n",
       "      <td>2021-08-25 09:06:03.504061</td>\n",
       "      <td>s_80395</td>\n",
       "      <td>c_131</td>\n",
       "    </tr>\n",
       "    <tr>\n",
       "      <th>670558</th>\n",
       "      <td>0_2245</td>\n",
       "      <td>2022-03-06 19:59:19.462288</td>\n",
       "      <td>s_175311</td>\n",
       "      <td>c_4167</td>\n",
       "    </tr>\n",
       "    <tr>\n",
       "      <th>671162</th>\n",
       "      <td>0_2245</td>\n",
       "      <td>2022-05-16 11:35:20.319501</td>\n",
       "      <td>s_209381</td>\n",
       "      <td>c_4453</td>\n",
       "    </tr>\n",
       "    <tr>\n",
       "      <th>675554</th>\n",
       "      <td>0_2245</td>\n",
       "      <td>2022-02-11 09:05:43.952857</td>\n",
       "      <td>s_163405</td>\n",
       "      <td>c_1098</td>\n",
       "    </tr>\n",
       "    <tr>\n",
       "      <th>677871</th>\n",
       "      <td>0_2245</td>\n",
       "      <td>2021-12-14 22:34:54.589921</td>\n",
       "      <td>s_134446</td>\n",
       "      <td>c_4854</td>\n",
       "    </tr>\n",
       "  </tbody>\n",
       "</table>\n",
       "<p>221 rows × 4 columns</p>\n",
       "</div>"
      ],
      "text/plain": [
       "       id_prod                        date session_id client_id\n",
       "2633    0_2245  2022-09-23 07:22:38.636773   s_272266    c_4746\n",
       "10106   0_2245  2022-07-23 09:24:14.133889   s_242482    c_6713\n",
       "11727   0_2245  2022-12-03 03:26:35.696673   s_306338    c_5108\n",
       "15675   0_2245  2021-08-16 11:33:25.481411    s_76493    c_1391\n",
       "16377   0_2245  2022-07-16 05:53:01.627491   s_239078    c_7954\n",
       "...        ...                         ...        ...       ...\n",
       "669606  0_2245  2021-08-25 09:06:03.504061    s_80395     c_131\n",
       "670558  0_2245  2022-03-06 19:59:19.462288   s_175311    c_4167\n",
       "671162  0_2245  2022-05-16 11:35:20.319501   s_209381    c_4453\n",
       "675554  0_2245  2022-02-11 09:05:43.952857   s_163405    c_1098\n",
       "677871  0_2245  2021-12-14 22:34:54.589921   s_134446    c_4854\n",
       "\n",
       "[221 rows x 4 columns]"
      ]
     },
     "execution_count": 27,
     "metadata": {},
     "output_type": "execute_result"
    }
   ],
   "source": [
    "liste_id_prod = df_products['id_prod']\n",
    "liste_id_prod_transactions = df_transactions.loc[~df_transactions['id_prod'].isin(liste_id_prod)]\n",
    "liste_id_prod_transactions"
   ]
  },
  {
   "cell_type": "markdown",
   "id": "6b0d5ebc",
   "metadata": {},
   "source": [
    "Il y a 221 lignes qui ne correspondent pas au fichier products."
   ]
  },
  {
   "cell_type": "code",
   "execution_count": 28,
   "id": "cf54d5bc",
   "metadata": {},
   "outputs": [
    {
     "data": {
      "text/plain": [
       "array(['0_2245'], dtype=object)"
      ]
     },
     "execution_count": 28,
     "metadata": {},
     "output_type": "execute_result"
    }
   ],
   "source": [
    "# Vérification de ces références ne correspondant pas au fichier df_products\n",
    "liste_id_prod_transactions['id_prod'].unique()"
   ]
  },
  {
   "cell_type": "markdown",
   "id": "523de25a",
   "metadata": {},
   "source": [
    "Ces 221 lignes correspondent à la référence 0_2245."
   ]
  },
  {
   "cell_type": "markdown",
   "id": "7206ab67",
   "metadata": {},
   "source": [
    "# <a name=\"C2\">Création d'un nouveau data frame lapage"
   ]
  },
  {
   "cell_type": "markdown",
   "id": "137f3d03",
   "metadata": {},
   "source": [
    "### _- Fusion des fichiers customers & transactions_"
   ]
  },
  {
   "cell_type": "code",
   "execution_count": 29,
   "id": "dcb2564f",
   "metadata": {},
   "outputs": [
    {
     "data": {
      "text/html": [
       "<div>\n",
       "<style scoped>\n",
       "    .dataframe tbody tr th:only-of-type {\n",
       "        vertical-align: middle;\n",
       "    }\n",
       "\n",
       "    .dataframe tbody tr th {\n",
       "        vertical-align: top;\n",
       "    }\n",
       "\n",
       "    .dataframe thead th {\n",
       "        text-align: right;\n",
       "    }\n",
       "</style>\n",
       "<table border=\"1\" class=\"dataframe\">\n",
       "  <thead>\n",
       "    <tr style=\"text-align: right;\">\n",
       "      <th></th>\n",
       "      <th>id_prod</th>\n",
       "      <th>date</th>\n",
       "      <th>session_id</th>\n",
       "      <th>client_id</th>\n",
       "      <th>sex</th>\n",
       "      <th>birth</th>\n",
       "      <th>age</th>\n",
       "      <th>age_range</th>\n",
       "    </tr>\n",
       "  </thead>\n",
       "  <tbody>\n",
       "    <tr>\n",
       "      <th>0</th>\n",
       "      <td>0_1518</td>\n",
       "      <td>2022-05-20 13:21:29.043970</td>\n",
       "      <td>s_211425</td>\n",
       "      <td>c_103</td>\n",
       "      <td>f</td>\n",
       "      <td>1986</td>\n",
       "      <td>37</td>\n",
       "      <td>30 à 40 ans</td>\n",
       "    </tr>\n",
       "    <tr>\n",
       "      <th>1</th>\n",
       "      <td>1_251</td>\n",
       "      <td>2022-02-02 07:55:19.149409</td>\n",
       "      <td>s_158752</td>\n",
       "      <td>c_8534</td>\n",
       "      <td>m</td>\n",
       "      <td>1988</td>\n",
       "      <td>35</td>\n",
       "      <td>30 à 40 ans</td>\n",
       "    </tr>\n",
       "    <tr>\n",
       "      <th>2</th>\n",
       "      <td>0_1277</td>\n",
       "      <td>2022-06-18 15:44:33.155329</td>\n",
       "      <td>s_225667</td>\n",
       "      <td>c_6714</td>\n",
       "      <td>f</td>\n",
       "      <td>1968</td>\n",
       "      <td>55</td>\n",
       "      <td>50 à 60 ans</td>\n",
       "    </tr>\n",
       "    <tr>\n",
       "      <th>3</th>\n",
       "      <td>2_209</td>\n",
       "      <td>2021-06-24 04:19:29.835891</td>\n",
       "      <td>s_52962</td>\n",
       "      <td>c_6941</td>\n",
       "      <td>m</td>\n",
       "      <td>2000</td>\n",
       "      <td>23</td>\n",
       "      <td>18 à 30 ans</td>\n",
       "    </tr>\n",
       "    <tr>\n",
       "      <th>4</th>\n",
       "      <td>0_1509</td>\n",
       "      <td>2023-01-11 08:22:08.194479</td>\n",
       "      <td>s_325227</td>\n",
       "      <td>c_4232</td>\n",
       "      <td>m</td>\n",
       "      <td>1980</td>\n",
       "      <td>43</td>\n",
       "      <td>40 à 50 ans</td>\n",
       "    </tr>\n",
       "  </tbody>\n",
       "</table>\n",
       "</div>"
      ],
      "text/plain": [
       "  id_prod                        date session_id client_id sex  birth  age  \\\n",
       "0  0_1518  2022-05-20 13:21:29.043970   s_211425     c_103   f   1986   37   \n",
       "1   1_251  2022-02-02 07:55:19.149409   s_158752    c_8534   m   1988   35   \n",
       "2  0_1277  2022-06-18 15:44:33.155329   s_225667    c_6714   f   1968   55   \n",
       "3   2_209  2021-06-24 04:19:29.835891    s_52962    c_6941   m   2000   23   \n",
       "4  0_1509  2023-01-11 08:22:08.194479   s_325227    c_4232   m   1980   43   \n",
       "\n",
       "     age_range  \n",
       "0  30 à 40 ans  \n",
       "1  30 à 40 ans  \n",
       "2  50 à 60 ans  \n",
       "3  18 à 30 ans  \n",
       "4  40 à 50 ans  "
      ]
     },
     "execution_count": 29,
     "metadata": {},
     "output_type": "execute_result"
    }
   ],
   "source": [
    "# Jointure à gauche, 'left' utilise toutes les combinaisons de clés figurant dans le tableau de gauche\n",
    "df_customers_transactions=pd.merge(df_transactions,df_customers,on=['client_id'],how='left')\n",
    "df_customers_transactions.head()"
   ]
  },
  {
   "cell_type": "markdown",
   "id": "2b084aa5",
   "metadata": {},
   "source": [
    "### _- Vérification des informations du data frame df_customers_transactions_"
   ]
  },
  {
   "cell_type": "code",
   "execution_count": 30,
   "id": "3a74a2be",
   "metadata": {},
   "outputs": [
    {
     "name": "stdout",
     "output_type": "stream",
     "text": [
      "<class 'pandas.core.frame.DataFrame'>\n",
      "Int64Index: 679406 entries, 0 to 679405\n",
      "Data columns (total 8 columns):\n",
      " #   Column      Non-Null Count   Dtype   \n",
      "---  ------      --------------   -----   \n",
      " 0   id_prod     679406 non-null  object  \n",
      " 1   date        679406 non-null  object  \n",
      " 2   session_id  679406 non-null  object  \n",
      " 3   client_id   679406 non-null  object  \n",
      " 4   sex         679406 non-null  object  \n",
      " 5   birth       679406 non-null  int64   \n",
      " 6   age         679406 non-null  int64   \n",
      " 7   age_range   679406 non-null  category\n",
      "dtypes: category(1), int64(2), object(5)\n",
      "memory usage: 42.1+ MB\n"
     ]
    }
   ],
   "source": [
    "df_customers_transactions.info()"
   ]
  },
  {
   "cell_type": "markdown",
   "id": "9a234b96",
   "metadata": {},
   "source": [
    "### _- Fusion des fichiers customers,transactions & products_"
   ]
  },
  {
   "cell_type": "code",
   "execution_count": 31,
   "id": "82ccdef7",
   "metadata": {},
   "outputs": [
    {
     "data": {
      "text/html": [
       "<div>\n",
       "<style scoped>\n",
       "    .dataframe tbody tr th:only-of-type {\n",
       "        vertical-align: middle;\n",
       "    }\n",
       "\n",
       "    .dataframe tbody tr th {\n",
       "        vertical-align: top;\n",
       "    }\n",
       "\n",
       "    .dataframe thead th {\n",
       "        text-align: right;\n",
       "    }\n",
       "</style>\n",
       "<table border=\"1\" class=\"dataframe\">\n",
       "  <thead>\n",
       "    <tr style=\"text-align: right;\">\n",
       "      <th></th>\n",
       "      <th>id_prod</th>\n",
       "      <th>date</th>\n",
       "      <th>session_id</th>\n",
       "      <th>client_id</th>\n",
       "      <th>sex</th>\n",
       "      <th>birth</th>\n",
       "      <th>age</th>\n",
       "      <th>age_range</th>\n",
       "      <th>price</th>\n",
       "      <th>categ</th>\n",
       "    </tr>\n",
       "  </thead>\n",
       "  <tbody>\n",
       "    <tr>\n",
       "      <th>0</th>\n",
       "      <td>0_1518</td>\n",
       "      <td>2022-05-20 13:21:29.043970</td>\n",
       "      <td>s_211425</td>\n",
       "      <td>c_103</td>\n",
       "      <td>f</td>\n",
       "      <td>1986</td>\n",
       "      <td>37</td>\n",
       "      <td>30 à 40 ans</td>\n",
       "      <td>4.18</td>\n",
       "      <td>0.00</td>\n",
       "    </tr>\n",
       "    <tr>\n",
       "      <th>1</th>\n",
       "      <td>1_251</td>\n",
       "      <td>2022-02-02 07:55:19.149409</td>\n",
       "      <td>s_158752</td>\n",
       "      <td>c_8534</td>\n",
       "      <td>m</td>\n",
       "      <td>1988</td>\n",
       "      <td>35</td>\n",
       "      <td>30 à 40 ans</td>\n",
       "      <td>15.99</td>\n",
       "      <td>1.00</td>\n",
       "    </tr>\n",
       "    <tr>\n",
       "      <th>2</th>\n",
       "      <td>0_1277</td>\n",
       "      <td>2022-06-18 15:44:33.155329</td>\n",
       "      <td>s_225667</td>\n",
       "      <td>c_6714</td>\n",
       "      <td>f</td>\n",
       "      <td>1968</td>\n",
       "      <td>55</td>\n",
       "      <td>50 à 60 ans</td>\n",
       "      <td>7.99</td>\n",
       "      <td>0.00</td>\n",
       "    </tr>\n",
       "    <tr>\n",
       "      <th>3</th>\n",
       "      <td>2_209</td>\n",
       "      <td>2021-06-24 04:19:29.835891</td>\n",
       "      <td>s_52962</td>\n",
       "      <td>c_6941</td>\n",
       "      <td>m</td>\n",
       "      <td>2000</td>\n",
       "      <td>23</td>\n",
       "      <td>18 à 30 ans</td>\n",
       "      <td>69.99</td>\n",
       "      <td>2.00</td>\n",
       "    </tr>\n",
       "    <tr>\n",
       "      <th>4</th>\n",
       "      <td>0_1509</td>\n",
       "      <td>2023-01-11 08:22:08.194479</td>\n",
       "      <td>s_325227</td>\n",
       "      <td>c_4232</td>\n",
       "      <td>m</td>\n",
       "      <td>1980</td>\n",
       "      <td>43</td>\n",
       "      <td>40 à 50 ans</td>\n",
       "      <td>4.99</td>\n",
       "      <td>0.00</td>\n",
       "    </tr>\n",
       "  </tbody>\n",
       "</table>\n",
       "</div>"
      ],
      "text/plain": [
       "  id_prod                        date session_id client_id sex  birth  age  \\\n",
       "0  0_1518  2022-05-20 13:21:29.043970   s_211425     c_103   f   1986   37   \n",
       "1   1_251  2022-02-02 07:55:19.149409   s_158752    c_8534   m   1988   35   \n",
       "2  0_1277  2022-06-18 15:44:33.155329   s_225667    c_6714   f   1968   55   \n",
       "3   2_209  2021-06-24 04:19:29.835891    s_52962    c_6941   m   2000   23   \n",
       "4  0_1509  2023-01-11 08:22:08.194479   s_325227    c_4232   m   1980   43   \n",
       "\n",
       "     age_range  price  categ  \n",
       "0  30 à 40 ans   4.18   0.00  \n",
       "1  30 à 40 ans  15.99   1.00  \n",
       "2  50 à 60 ans   7.99   0.00  \n",
       "3  18 à 30 ans  69.99   2.00  \n",
       "4  40 à 50 ans   4.99   0.00  "
      ]
     },
     "execution_count": 31,
     "metadata": {},
     "output_type": "execute_result"
    }
   ],
   "source": [
    "# Jointure à gauche, 'left' utilise toutes les combinaisons de clés figurant dans le tableau de gauche\n",
    "df_lapage=pd.merge(df_customers_transactions,df_products,on=['id_prod'],how='left')\n",
    "df_lapage.head()"
   ]
  },
  {
   "cell_type": "markdown",
   "id": "97491063",
   "metadata": {},
   "source": [
    "### _- Vérification des informations du data frame lapage_"
   ]
  },
  {
   "cell_type": "code",
   "execution_count": 32,
   "id": "0129eb8e",
   "metadata": {},
   "outputs": [
    {
     "name": "stdout",
     "output_type": "stream",
     "text": [
      "<class 'pandas.core.frame.DataFrame'>\n",
      "Int64Index: 679406 entries, 0 to 679405\n",
      "Data columns (total 10 columns):\n",
      " #   Column      Non-Null Count   Dtype   \n",
      "---  ------      --------------   -----   \n",
      " 0   id_prod     679406 non-null  object  \n",
      " 1   date        679406 non-null  object  \n",
      " 2   session_id  679406 non-null  object  \n",
      " 3   client_id   679406 non-null  object  \n",
      " 4   sex         679406 non-null  object  \n",
      " 5   birth       679406 non-null  int64   \n",
      " 6   age         679406 non-null  int64   \n",
      " 7   age_range   679406 non-null  category\n",
      " 8   price       679185 non-null  float64 \n",
      " 9   categ       679185 non-null  float64 \n",
      "dtypes: category(1), float64(2), int64(2), object(5)\n",
      "memory usage: 52.5+ MB\n"
     ]
    }
   ],
   "source": [
    "df_lapage.info()"
   ]
  },
  {
   "cell_type": "markdown",
   "id": "09d732ee",
   "metadata": {},
   "source": [
    "# <a name=\"C2\">Nettoyage des données du data frame lapage"
   ]
  },
  {
   "cell_type": "markdown",
   "id": "d0cd1af7",
   "metadata": {},
   "source": [
    "### _- Suppression des lignes test repérées précédemment_"
   ]
  },
  {
   "cell_type": "code",
   "execution_count": 33,
   "id": "61b0a38e",
   "metadata": {},
   "outputs": [
    {
     "name": "stdout",
     "output_type": "stream",
     "text": [
      "<class 'pandas.core.frame.DataFrame'>\n",
      "Int64Index: 679332 entries, 0 to 679405\n",
      "Data columns (total 10 columns):\n",
      " #   Column      Non-Null Count   Dtype   \n",
      "---  ------      --------------   -----   \n",
      " 0   id_prod     679332 non-null  object  \n",
      " 1   date        679332 non-null  object  \n",
      " 2   session_id  679332 non-null  object  \n",
      " 3   client_id   679332 non-null  object  \n",
      " 4   sex         679332 non-null  object  \n",
      " 5   birth       679332 non-null  int64   \n",
      " 6   age         679332 non-null  int64   \n",
      " 7   age_range   679332 non-null  category\n",
      " 8   price       679111 non-null  float64 \n",
      " 9   categ       679111 non-null  float64 \n",
      "dtypes: category(1), float64(2), int64(2), object(5)\n",
      "memory usage: 52.5+ MB\n"
     ]
    }
   ],
   "source": [
    "df_lapage.drop(df_lapage.loc[(df_lapage['id_prod']=='T_0')].index, inplace=True)#client_id_different\n",
    "df_lapage.drop(df_lapage.loc[(df_lapage['client_id']=='ct_0')].index, inplace=True)#id_prod_different_products\n",
    "df_lapage.drop(df_lapage.loc[(df_lapage['client_id']=='ct_1')].index, inplace=True)#id_prod_transactions\n",
    "df_lapage.info()"
   ]
  },
  {
   "cell_type": "markdown",
   "id": "93e31219",
   "metadata": {},
   "source": [
    "### _- Détection des valeurs manquantes_"
   ]
  },
  {
   "cell_type": "code",
   "execution_count": 34,
   "id": "06cb84e7",
   "metadata": {},
   "outputs": [
    {
     "name": "stdout",
     "output_type": "stream",
     "text": [
      "id_prod         0\n",
      "date            0\n",
      "session_id      0\n",
      "client_id       0\n",
      "sex             0\n",
      "birth           0\n",
      "age             0\n",
      "age_range       0\n",
      "price         221\n",
      "categ         221\n",
      "dtype: int64\n"
     ]
    }
   ],
   "source": [
    "print(df_lapage.isnull().sum())"
   ]
  },
  {
   "cell_type": "markdown",
   "id": "bdcd3975",
   "metadata": {},
   "source": [
    "Il y a 221 valeurs manquantes dans les colonnes price et categ."
   ]
  },
  {
   "cell_type": "markdown",
   "id": "f5b5ac80",
   "metadata": {},
   "source": [
    "### _- Observation de la colonne price_"
   ]
  },
  {
   "cell_type": "code",
   "execution_count": 35,
   "id": "df4a248c",
   "metadata": {},
   "outputs": [
    {
     "data": {
      "text/html": [
       "<div>\n",
       "<style scoped>\n",
       "    .dataframe tbody tr th:only-of-type {\n",
       "        vertical-align: middle;\n",
       "    }\n",
       "\n",
       "    .dataframe tbody tr th {\n",
       "        vertical-align: top;\n",
       "    }\n",
       "\n",
       "    .dataframe thead th {\n",
       "        text-align: right;\n",
       "    }\n",
       "</style>\n",
       "<table border=\"1\" class=\"dataframe\">\n",
       "  <thead>\n",
       "    <tr style=\"text-align: right;\">\n",
       "      <th></th>\n",
       "      <th>id_prod</th>\n",
       "      <th>date</th>\n",
       "      <th>session_id</th>\n",
       "      <th>client_id</th>\n",
       "      <th>sex</th>\n",
       "      <th>birth</th>\n",
       "      <th>age</th>\n",
       "      <th>age_range</th>\n",
       "      <th>price</th>\n",
       "      <th>categ</th>\n",
       "    </tr>\n",
       "  </thead>\n",
       "  <tbody>\n",
       "    <tr>\n",
       "      <th>2633</th>\n",
       "      <td>0_2245</td>\n",
       "      <td>2022-09-23 07:22:38.636773</td>\n",
       "      <td>s_272266</td>\n",
       "      <td>c_4746</td>\n",
       "      <td>m</td>\n",
       "      <td>1940</td>\n",
       "      <td>83</td>\n",
       "      <td>60 ans et plus</td>\n",
       "      <td>NaN</td>\n",
       "      <td>NaN</td>\n",
       "    </tr>\n",
       "    <tr>\n",
       "      <th>10106</th>\n",
       "      <td>0_2245</td>\n",
       "      <td>2022-07-23 09:24:14.133889</td>\n",
       "      <td>s_242482</td>\n",
       "      <td>c_6713</td>\n",
       "      <td>f</td>\n",
       "      <td>1963</td>\n",
       "      <td>60</td>\n",
       "      <td>50 à 60 ans</td>\n",
       "      <td>NaN</td>\n",
       "      <td>NaN</td>\n",
       "    </tr>\n",
       "    <tr>\n",
       "      <th>11727</th>\n",
       "      <td>0_2245</td>\n",
       "      <td>2022-12-03 03:26:35.696673</td>\n",
       "      <td>s_306338</td>\n",
       "      <td>c_5108</td>\n",
       "      <td>m</td>\n",
       "      <td>1978</td>\n",
       "      <td>45</td>\n",
       "      <td>40 à 50 ans</td>\n",
       "      <td>NaN</td>\n",
       "      <td>NaN</td>\n",
       "    </tr>\n",
       "    <tr>\n",
       "      <th>15675</th>\n",
       "      <td>0_2245</td>\n",
       "      <td>2021-08-16 11:33:25.481411</td>\n",
       "      <td>s_76493</td>\n",
       "      <td>c_1391</td>\n",
       "      <td>m</td>\n",
       "      <td>1991</td>\n",
       "      <td>32</td>\n",
       "      <td>30 à 40 ans</td>\n",
       "      <td>NaN</td>\n",
       "      <td>NaN</td>\n",
       "    </tr>\n",
       "    <tr>\n",
       "      <th>16377</th>\n",
       "      <td>0_2245</td>\n",
       "      <td>2022-07-16 05:53:01.627491</td>\n",
       "      <td>s_239078</td>\n",
       "      <td>c_7954</td>\n",
       "      <td>m</td>\n",
       "      <td>1973</td>\n",
       "      <td>50</td>\n",
       "      <td>40 à 50 ans</td>\n",
       "      <td>NaN</td>\n",
       "      <td>NaN</td>\n",
       "    </tr>\n",
       "    <tr>\n",
       "      <th>...</th>\n",
       "      <td>...</td>\n",
       "      <td>...</td>\n",
       "      <td>...</td>\n",
       "      <td>...</td>\n",
       "      <td>...</td>\n",
       "      <td>...</td>\n",
       "      <td>...</td>\n",
       "      <td>...</td>\n",
       "      <td>...</td>\n",
       "      <td>...</td>\n",
       "    </tr>\n",
       "    <tr>\n",
       "      <th>669606</th>\n",
       "      <td>0_2245</td>\n",
       "      <td>2021-08-25 09:06:03.504061</td>\n",
       "      <td>s_80395</td>\n",
       "      <td>c_131</td>\n",
       "      <td>m</td>\n",
       "      <td>1981</td>\n",
       "      <td>42</td>\n",
       "      <td>40 à 50 ans</td>\n",
       "      <td>NaN</td>\n",
       "      <td>NaN</td>\n",
       "    </tr>\n",
       "    <tr>\n",
       "      <th>670558</th>\n",
       "      <td>0_2245</td>\n",
       "      <td>2022-03-06 19:59:19.462288</td>\n",
       "      <td>s_175311</td>\n",
       "      <td>c_4167</td>\n",
       "      <td>f</td>\n",
       "      <td>1979</td>\n",
       "      <td>44</td>\n",
       "      <td>40 à 50 ans</td>\n",
       "      <td>NaN</td>\n",
       "      <td>NaN</td>\n",
       "    </tr>\n",
       "    <tr>\n",
       "      <th>671162</th>\n",
       "      <td>0_2245</td>\n",
       "      <td>2022-05-16 11:35:20.319501</td>\n",
       "      <td>s_209381</td>\n",
       "      <td>c_4453</td>\n",
       "      <td>m</td>\n",
       "      <td>1981</td>\n",
       "      <td>42</td>\n",
       "      <td>40 à 50 ans</td>\n",
       "      <td>NaN</td>\n",
       "      <td>NaN</td>\n",
       "    </tr>\n",
       "    <tr>\n",
       "      <th>675554</th>\n",
       "      <td>0_2245</td>\n",
       "      <td>2022-02-11 09:05:43.952857</td>\n",
       "      <td>s_163405</td>\n",
       "      <td>c_1098</td>\n",
       "      <td>m</td>\n",
       "      <td>1986</td>\n",
       "      <td>37</td>\n",
       "      <td>30 à 40 ans</td>\n",
       "      <td>NaN</td>\n",
       "      <td>NaN</td>\n",
       "    </tr>\n",
       "    <tr>\n",
       "      <th>677871</th>\n",
       "      <td>0_2245</td>\n",
       "      <td>2021-12-14 22:34:54.589921</td>\n",
       "      <td>s_134446</td>\n",
       "      <td>c_4854</td>\n",
       "      <td>m</td>\n",
       "      <td>1968</td>\n",
       "      <td>55</td>\n",
       "      <td>50 à 60 ans</td>\n",
       "      <td>NaN</td>\n",
       "      <td>NaN</td>\n",
       "    </tr>\n",
       "  </tbody>\n",
       "</table>\n",
       "<p>221 rows × 10 columns</p>\n",
       "</div>"
      ],
      "text/plain": [
       "       id_prod                        date session_id client_id sex  birth  \\\n",
       "2633    0_2245  2022-09-23 07:22:38.636773   s_272266    c_4746   m   1940   \n",
       "10106   0_2245  2022-07-23 09:24:14.133889   s_242482    c_6713   f   1963   \n",
       "11727   0_2245  2022-12-03 03:26:35.696673   s_306338    c_5108   m   1978   \n",
       "15675   0_2245  2021-08-16 11:33:25.481411    s_76493    c_1391   m   1991   \n",
       "16377   0_2245  2022-07-16 05:53:01.627491   s_239078    c_7954   m   1973   \n",
       "...        ...                         ...        ...       ...  ..    ...   \n",
       "669606  0_2245  2021-08-25 09:06:03.504061    s_80395     c_131   m   1981   \n",
       "670558  0_2245  2022-03-06 19:59:19.462288   s_175311    c_4167   f   1979   \n",
       "671162  0_2245  2022-05-16 11:35:20.319501   s_209381    c_4453   m   1981   \n",
       "675554  0_2245  2022-02-11 09:05:43.952857   s_163405    c_1098   m   1986   \n",
       "677871  0_2245  2021-12-14 22:34:54.589921   s_134446    c_4854   m   1968   \n",
       "\n",
       "        age       age_range  price  categ  \n",
       "2633     83  60 ans et plus    NaN    NaN  \n",
       "10106    60     50 à 60 ans    NaN    NaN  \n",
       "11727    45     40 à 50 ans    NaN    NaN  \n",
       "15675    32     30 à 40 ans    NaN    NaN  \n",
       "16377    50     40 à 50 ans    NaN    NaN  \n",
       "...     ...             ...    ...    ...  \n",
       "669606   42     40 à 50 ans    NaN    NaN  \n",
       "670558   44     40 à 50 ans    NaN    NaN  \n",
       "671162   42     40 à 50 ans    NaN    NaN  \n",
       "675554   37     30 à 40 ans    NaN    NaN  \n",
       "677871   55     50 à 60 ans    NaN    NaN  \n",
       "\n",
       "[221 rows x 10 columns]"
      ]
     },
     "execution_count": 35,
     "metadata": {},
     "output_type": "execute_result"
    }
   ],
   "source": [
    "df_lapage.loc[df_lapage['price'].isnull(),:]"
   ]
  },
  {
   "cell_type": "markdown",
   "id": "6d6f7bc5",
   "metadata": {},
   "source": [
    "Il y a 221 lignes qui correspondent à la référence identifiée dans le fichier transactions."
   ]
  },
  {
   "cell_type": "markdown",
   "id": "2bdbe2b9",
   "metadata": {},
   "source": [
    "### _- Attribution d'une catégorie et d'un prix à la référence 0_2245_\n"
   ]
  },
  {
   "cell_type": "code",
   "execution_count": 36,
   "id": "fe71cf64",
   "metadata": {},
   "outputs": [
    {
     "data": {
      "text/html": [
       "<div>\n",
       "<style scoped>\n",
       "    .dataframe tbody tr th:only-of-type {\n",
       "        vertical-align: middle;\n",
       "    }\n",
       "\n",
       "    .dataframe tbody tr th {\n",
       "        vertical-align: top;\n",
       "    }\n",
       "\n",
       "    .dataframe thead th {\n",
       "        text-align: right;\n",
       "    }\n",
       "</style>\n",
       "<table border=\"1\" class=\"dataframe\">\n",
       "  <thead>\n",
       "    <tr style=\"text-align: right;\">\n",
       "      <th></th>\n",
       "      <th>id_prod</th>\n",
       "      <th>date</th>\n",
       "      <th>session_id</th>\n",
       "      <th>client_id</th>\n",
       "      <th>sex</th>\n",
       "      <th>birth</th>\n",
       "      <th>age</th>\n",
       "      <th>age_range</th>\n",
       "      <th>price</th>\n",
       "      <th>categ</th>\n",
       "    </tr>\n",
       "  </thead>\n",
       "  <tbody>\n",
       "  </tbody>\n",
       "</table>\n",
       "</div>"
      ],
      "text/plain": [
       "Empty DataFrame\n",
       "Columns: [id_prod, date, session_id, client_id, sex, birth, age, age_range, price, categ]\n",
       "Index: []"
      ]
     },
     "execution_count": 36,
     "metadata": {},
     "output_type": "execute_result"
    }
   ],
   "source": [
    "# Vérification de la catégorie 0, pour être sûr que toutes les id_product commencent par 0\n",
    "categ_0=df_lapage.loc[df_lapage['categ']==0.00]\n",
    "verif_categ_0 = categ_0.loc[~df_transactions['id_prod'].str.contains(r'^0_\\d+$',na=False)]\n",
    "verif_categ_0"
   ]
  },
  {
   "cell_type": "markdown",
   "id": "8dcb148b",
   "metadata": {},
   "source": [
    "Il n'y a pas dans le fichier de références de la catégorie 0 qui ne commencent pas par 0."
   ]
  },
  {
   "cell_type": "code",
   "execution_count": 37,
   "id": "54b041d7",
   "metadata": {},
   "outputs": [
    {
     "data": {
      "text/html": [
       "<div>\n",
       "<style scoped>\n",
       "    .dataframe tbody tr th:only-of-type {\n",
       "        vertical-align: middle;\n",
       "    }\n",
       "\n",
       "    .dataframe tbody tr th {\n",
       "        vertical-align: top;\n",
       "    }\n",
       "\n",
       "    .dataframe thead th {\n",
       "        text-align: right;\n",
       "    }\n",
       "</style>\n",
       "<table border=\"1\" class=\"dataframe\">\n",
       "  <thead>\n",
       "    <tr style=\"text-align: right;\">\n",
       "      <th></th>\n",
       "      <th>birth</th>\n",
       "      <th>age</th>\n",
       "      <th>price</th>\n",
       "      <th>categ</th>\n",
       "    </tr>\n",
       "  </thead>\n",
       "  <tbody>\n",
       "    <tr>\n",
       "      <th>count</th>\n",
       "      <td>415459.00</td>\n",
       "      <td>415459.00</td>\n",
       "      <td>415459.00</td>\n",
       "      <td>415459.00</td>\n",
       "    </tr>\n",
       "    <tr>\n",
       "      <th>mean</th>\n",
       "      <td>1978.10</td>\n",
       "      <td>44.90</td>\n",
       "      <td>10.64</td>\n",
       "      <td>0.00</td>\n",
       "    </tr>\n",
       "    <tr>\n",
       "      <th>std</th>\n",
       "      <td>11.21</td>\n",
       "      <td>11.21</td>\n",
       "      <td>4.93</td>\n",
       "      <td>0.00</td>\n",
       "    </tr>\n",
       "    <tr>\n",
       "      <th>min</th>\n",
       "      <td>1929.00</td>\n",
       "      <td>19.00</td>\n",
       "      <td>0.62</td>\n",
       "      <td>0.00</td>\n",
       "    </tr>\n",
       "    <tr>\n",
       "      <th>25%</th>\n",
       "      <td>1973.00</td>\n",
       "      <td>37.00</td>\n",
       "      <td>6.29</td>\n",
       "      <td>0.00</td>\n",
       "    </tr>\n",
       "    <tr>\n",
       "      <th>50%</th>\n",
       "      <td>1980.00</td>\n",
       "      <td>43.00</td>\n",
       "      <td>9.99</td>\n",
       "      <td>0.00</td>\n",
       "    </tr>\n",
       "    <tr>\n",
       "      <th>75%</th>\n",
       "      <td>1986.00</td>\n",
       "      <td>50.00</td>\n",
       "      <td>14.45</td>\n",
       "      <td>0.00</td>\n",
       "    </tr>\n",
       "    <tr>\n",
       "      <th>max</th>\n",
       "      <td>2004.00</td>\n",
       "      <td>94.00</td>\n",
       "      <td>40.99</td>\n",
       "      <td>0.00</td>\n",
       "    </tr>\n",
       "  </tbody>\n",
       "</table>\n",
       "</div>"
      ],
      "text/plain": [
       "          birth       age     price     categ\n",
       "count 415459.00 415459.00 415459.00 415459.00\n",
       "mean    1978.10     44.90     10.64      0.00\n",
       "std       11.21     11.21      4.93      0.00\n",
       "min     1929.00     19.00      0.62      0.00\n",
       "25%     1973.00     37.00      6.29      0.00\n",
       "50%     1980.00     43.00      9.99      0.00\n",
       "75%     1986.00     50.00     14.45      0.00\n",
       "max     2004.00     94.00     40.99      0.00"
      ]
     },
     "execution_count": 37,
     "metadata": {},
     "output_type": "execute_result"
    }
   ],
   "source": [
    "# Statistiques de la catégorie 0\n",
    "categ_0.describe()"
   ]
  },
  {
   "cell_type": "markdown",
   "id": "a8442b2d",
   "metadata": {},
   "source": [
    "- Les clients de cette catégorie sont âgés entre 19 et 94 ans, l'âge moyen est de 44.90 ans,\n",
    "- Les prix de cette catégorie vont de 0.62 à 40.99 euros, le prix moyen est de 10.64 euros."
   ]
  },
  {
   "cell_type": "code",
   "execution_count": 38,
   "id": "5da59cf7",
   "metadata": {},
   "outputs": [
    {
     "data": {
      "text/html": [
       "<div>\n",
       "<style scoped>\n",
       "    .dataframe tbody tr th:only-of-type {\n",
       "        vertical-align: middle;\n",
       "    }\n",
       "\n",
       "    .dataframe tbody tr th {\n",
       "        vertical-align: top;\n",
       "    }\n",
       "\n",
       "    .dataframe thead th {\n",
       "        text-align: right;\n",
       "    }\n",
       "</style>\n",
       "<table border=\"1\" class=\"dataframe\">\n",
       "  <thead>\n",
       "    <tr style=\"text-align: right;\">\n",
       "      <th></th>\n",
       "      <th>id_prod</th>\n",
       "      <th>date</th>\n",
       "      <th>session_id</th>\n",
       "      <th>client_id</th>\n",
       "      <th>sex</th>\n",
       "      <th>birth</th>\n",
       "      <th>age</th>\n",
       "      <th>age_range</th>\n",
       "      <th>price</th>\n",
       "      <th>categ</th>\n",
       "    </tr>\n",
       "  </thead>\n",
       "  <tbody>\n",
       "  </tbody>\n",
       "</table>\n",
       "</div>"
      ],
      "text/plain": [
       "Empty DataFrame\n",
       "Columns: [id_prod, date, session_id, client_id, sex, birth, age, age_range, price, categ]\n",
       "Index: []"
      ]
     },
     "execution_count": 38,
     "metadata": {},
     "output_type": "execute_result"
    }
   ],
   "source": [
    "# Vérification de la catégorie 1, pour être sûr que toutes les id_product commencent par 0\n",
    "categ_1=df_lapage.loc[df_lapage['categ']==1.00]\n",
    "verif_categ_1 = categ_1.loc[~df_transactions['id_prod'].str.contains(r'^1_\\d+$',na=False)]\n",
    "verif_categ_1"
   ]
  },
  {
   "cell_type": "markdown",
   "id": "21182b14",
   "metadata": {},
   "source": [
    "Il n'y a pas dans le fichier de références de la catégorie 1 qui ne commencent pas par 1."
   ]
  },
  {
   "cell_type": "code",
   "execution_count": 39,
   "id": "f8968372",
   "metadata": {},
   "outputs": [
    {
     "data": {
      "text/html": [
       "<div>\n",
       "<style scoped>\n",
       "    .dataframe tbody tr th:only-of-type {\n",
       "        vertical-align: middle;\n",
       "    }\n",
       "\n",
       "    .dataframe tbody tr th {\n",
       "        vertical-align: top;\n",
       "    }\n",
       "\n",
       "    .dataframe thead th {\n",
       "        text-align: right;\n",
       "    }\n",
       "</style>\n",
       "<table border=\"1\" class=\"dataframe\">\n",
       "  <thead>\n",
       "    <tr style=\"text-align: right;\">\n",
       "      <th></th>\n",
       "      <th>birth</th>\n",
       "      <th>age</th>\n",
       "      <th>price</th>\n",
       "      <th>categ</th>\n",
       "    </tr>\n",
       "  </thead>\n",
       "  <tbody>\n",
       "    <tr>\n",
       "      <th>count</th>\n",
       "      <td>227169.00</td>\n",
       "      <td>227169.00</td>\n",
       "      <td>227169.00</td>\n",
       "      <td>227169.00</td>\n",
       "    </tr>\n",
       "    <tr>\n",
       "      <th>mean</th>\n",
       "      <td>1974.35</td>\n",
       "      <td>48.65</td>\n",
       "      <td>20.49</td>\n",
       "      <td>1.00</td>\n",
       "    </tr>\n",
       "    <tr>\n",
       "      <th>std</th>\n",
       "      <td>15.50</td>\n",
       "      <td>15.50</td>\n",
       "      <td>7.58</td>\n",
       "      <td>0.00</td>\n",
       "    </tr>\n",
       "    <tr>\n",
       "      <th>min</th>\n",
       "      <td>1929.00</td>\n",
       "      <td>19.00</td>\n",
       "      <td>2.00</td>\n",
       "      <td>1.00</td>\n",
       "    </tr>\n",
       "    <tr>\n",
       "      <th>25%</th>\n",
       "      <td>1964.00</td>\n",
       "      <td>37.00</td>\n",
       "      <td>15.81</td>\n",
       "      <td>1.00</td>\n",
       "    </tr>\n",
       "    <tr>\n",
       "      <th>50%</th>\n",
       "      <td>1975.00</td>\n",
       "      <td>48.00</td>\n",
       "      <td>19.08</td>\n",
       "      <td>1.00</td>\n",
       "    </tr>\n",
       "    <tr>\n",
       "      <th>75%</th>\n",
       "      <td>1986.00</td>\n",
       "      <td>59.00</td>\n",
       "      <td>24.98</td>\n",
       "      <td>1.00</td>\n",
       "    </tr>\n",
       "    <tr>\n",
       "      <th>max</th>\n",
       "      <td>2004.00</td>\n",
       "      <td>94.00</td>\n",
       "      <td>80.99</td>\n",
       "      <td>1.00</td>\n",
       "    </tr>\n",
       "  </tbody>\n",
       "</table>\n",
       "</div>"
      ],
      "text/plain": [
       "          birth       age     price     categ\n",
       "count 227169.00 227169.00 227169.00 227169.00\n",
       "mean    1974.35     48.65     20.49      1.00\n",
       "std       15.50     15.50      7.58      0.00\n",
       "min     1929.00     19.00      2.00      1.00\n",
       "25%     1964.00     37.00     15.81      1.00\n",
       "50%     1975.00     48.00     19.08      1.00\n",
       "75%     1986.00     59.00     24.98      1.00\n",
       "max     2004.00     94.00     80.99      1.00"
      ]
     },
     "execution_count": 39,
     "metadata": {},
     "output_type": "execute_result"
    }
   ],
   "source": [
    "# Statistiques de la catégorie 1\n",
    "categ_1.describe()"
   ]
  },
  {
   "cell_type": "markdown",
   "id": "8ca77de5",
   "metadata": {},
   "source": [
    "- Les clients de cette catégorie sont âgés entre 19 et 94 ans, l'âge moyen est de 48.65 ans,\n",
    "- Les prix de cette catégorie vont de 2 à 80.99 euros, le prix moyen est de 20.49 euros."
   ]
  },
  {
   "cell_type": "code",
   "execution_count": 40,
   "id": "f1fe7544",
   "metadata": {},
   "outputs": [
    {
     "data": {
      "text/html": [
       "<div>\n",
       "<style scoped>\n",
       "    .dataframe tbody tr th:only-of-type {\n",
       "        vertical-align: middle;\n",
       "    }\n",
       "\n",
       "    .dataframe tbody tr th {\n",
       "        vertical-align: top;\n",
       "    }\n",
       "\n",
       "    .dataframe thead th {\n",
       "        text-align: right;\n",
       "    }\n",
       "</style>\n",
       "<table border=\"1\" class=\"dataframe\">\n",
       "  <thead>\n",
       "    <tr style=\"text-align: right;\">\n",
       "      <th></th>\n",
       "      <th>id_prod</th>\n",
       "      <th>date</th>\n",
       "      <th>session_id</th>\n",
       "      <th>client_id</th>\n",
       "      <th>sex</th>\n",
       "      <th>birth</th>\n",
       "      <th>age</th>\n",
       "      <th>age_range</th>\n",
       "      <th>price</th>\n",
       "      <th>categ</th>\n",
       "    </tr>\n",
       "  </thead>\n",
       "  <tbody>\n",
       "  </tbody>\n",
       "</table>\n",
       "</div>"
      ],
      "text/plain": [
       "Empty DataFrame\n",
       "Columns: [id_prod, date, session_id, client_id, sex, birth, age, age_range, price, categ]\n",
       "Index: []"
      ]
     },
     "execution_count": 40,
     "metadata": {},
     "output_type": "execute_result"
    }
   ],
   "source": [
    "# Vérification de la catégorie 2, pour être sûr que toutes les id_product commencent par 0\n",
    "categ_2=df_lapage.loc[df_lapage['categ']==2.00]\n",
    "verif_categ_2 = categ_2.loc[~df_transactions['id_prod'].str.contains(r'^2_\\d+$',na=False)]\n",
    "verif_categ_2"
   ]
  },
  {
   "cell_type": "markdown",
   "id": "ed868ed1",
   "metadata": {},
   "source": [
    "Il n'y a pas dans le fichier de référence de la catégorie 2 qui ne commencent pas par 2."
   ]
  },
  {
   "cell_type": "code",
   "execution_count": 41,
   "id": "40e27ec2",
   "metadata": {},
   "outputs": [
    {
     "data": {
      "text/html": [
       "<div>\n",
       "<style scoped>\n",
       "    .dataframe tbody tr th:only-of-type {\n",
       "        vertical-align: middle;\n",
       "    }\n",
       "\n",
       "    .dataframe tbody tr th {\n",
       "        vertical-align: top;\n",
       "    }\n",
       "\n",
       "    .dataframe thead th {\n",
       "        text-align: right;\n",
       "    }\n",
       "</style>\n",
       "<table border=\"1\" class=\"dataframe\">\n",
       "  <thead>\n",
       "    <tr style=\"text-align: right;\">\n",
       "      <th></th>\n",
       "      <th>birth</th>\n",
       "      <th>age</th>\n",
       "      <th>price</th>\n",
       "      <th>categ</th>\n",
       "    </tr>\n",
       "  </thead>\n",
       "  <tbody>\n",
       "    <tr>\n",
       "      <th>count</th>\n",
       "      <td>36483.00</td>\n",
       "      <td>36483.00</td>\n",
       "      <td>36483.00</td>\n",
       "      <td>36483.00</td>\n",
       "    </tr>\n",
       "    <tr>\n",
       "      <th>mean</th>\n",
       "      <td>1996.05</td>\n",
       "      <td>26.95</td>\n",
       "      <td>76.21</td>\n",
       "      <td>2.00</td>\n",
       "    </tr>\n",
       "    <tr>\n",
       "      <th>std</th>\n",
       "      <td>9.80</td>\n",
       "      <td>9.80</td>\n",
       "      <td>39.75</td>\n",
       "      <td>0.00</td>\n",
       "    </tr>\n",
       "    <tr>\n",
       "      <th>min</th>\n",
       "      <td>1929.00</td>\n",
       "      <td>19.00</td>\n",
       "      <td>30.99</td>\n",
       "      <td>2.00</td>\n",
       "    </tr>\n",
       "    <tr>\n",
       "      <th>25%</th>\n",
       "      <td>1994.00</td>\n",
       "      <td>21.00</td>\n",
       "      <td>53.99</td>\n",
       "      <td>2.00</td>\n",
       "    </tr>\n",
       "    <tr>\n",
       "      <th>50%</th>\n",
       "      <td>1999.00</td>\n",
       "      <td>24.00</td>\n",
       "      <td>62.83</td>\n",
       "      <td>2.00</td>\n",
       "    </tr>\n",
       "    <tr>\n",
       "      <th>75%</th>\n",
       "      <td>2002.00</td>\n",
       "      <td>29.00</td>\n",
       "      <td>73.72</td>\n",
       "      <td>2.00</td>\n",
       "    </tr>\n",
       "    <tr>\n",
       "      <th>max</th>\n",
       "      <td>2004.00</td>\n",
       "      <td>94.00</td>\n",
       "      <td>300.00</td>\n",
       "      <td>2.00</td>\n",
       "    </tr>\n",
       "  </tbody>\n",
       "</table>\n",
       "</div>"
      ],
      "text/plain": [
       "         birth      age    price    categ\n",
       "count 36483.00 36483.00 36483.00 36483.00\n",
       "mean   1996.05    26.95    76.21     2.00\n",
       "std       9.80     9.80    39.75     0.00\n",
       "min    1929.00    19.00    30.99     2.00\n",
       "25%    1994.00    21.00    53.99     2.00\n",
       "50%    1999.00    24.00    62.83     2.00\n",
       "75%    2002.00    29.00    73.72     2.00\n",
       "max    2004.00    94.00   300.00     2.00"
      ]
     },
     "execution_count": 41,
     "metadata": {},
     "output_type": "execute_result"
    }
   ],
   "source": [
    "# Statistiques de la catégorie 2\n",
    "categ_2.describe()"
   ]
  },
  {
   "cell_type": "markdown",
   "id": "8829a463",
   "metadata": {},
   "source": [
    "- Les clients de cette catégorie sont âgés entre 19 et 94 ans, l'âge moyen est de 26.95 ans,\n",
    "- Les prix de cette catégorie vont de 30.99 à 300 euros, le prix moyen est de 76.21 euros."
   ]
  },
  {
   "cell_type": "code",
   "execution_count": 42,
   "id": "15c6ee5b",
   "metadata": {},
   "outputs": [],
   "source": [
    "# Attribution de la catégorie 0 à la référence 0_2245\n",
    "df_lapage['categ']=np.where(df_lapage['id_prod']=='0_2245',0,df_lapage['categ'])"
   ]
  },
  {
   "cell_type": "code",
   "execution_count": 43,
   "id": "f733e7c1",
   "metadata": {},
   "outputs": [
    {
     "name": "stdout",
     "output_type": "stream",
     "text": [
      "10.64\n"
     ]
    }
   ],
   "source": [
    "# Calcul de la moyenne de la catégorie 0\n",
    "moyenne=round(df_lapage.loc[df_lapage['categ']==0,'price'].mean(),2)\n",
    "print (moyenne)"
   ]
  },
  {
   "cell_type": "code",
   "execution_count": 44,
   "id": "95530108",
   "metadata": {},
   "outputs": [],
   "source": [
    "# Remplacement des prix manquant par la moyenne\n",
    "df_lapage['price']=df_lapage['price'].fillna(moyenne)"
   ]
  },
  {
   "cell_type": "markdown",
   "id": "25e7fee1",
   "metadata": {},
   "source": [
    "### _- Ajout d'une nouvelle colonne date et modification du type_"
   ]
  },
  {
   "cell_type": "code",
   "execution_count": 45,
   "id": "eaa4b9cf",
   "metadata": {},
   "outputs": [
    {
     "data": {
      "text/html": [
       "<div>\n",
       "<style scoped>\n",
       "    .dataframe tbody tr th:only-of-type {\n",
       "        vertical-align: middle;\n",
       "    }\n",
       "\n",
       "    .dataframe tbody tr th {\n",
       "        vertical-align: top;\n",
       "    }\n",
       "\n",
       "    .dataframe thead th {\n",
       "        text-align: right;\n",
       "    }\n",
       "</style>\n",
       "<table border=\"1\" class=\"dataframe\">\n",
       "  <thead>\n",
       "    <tr style=\"text-align: right;\">\n",
       "      <th></th>\n",
       "      <th>id_prod</th>\n",
       "      <th>date</th>\n",
       "      <th>session_id</th>\n",
       "      <th>client_id</th>\n",
       "      <th>sex</th>\n",
       "      <th>birth</th>\n",
       "      <th>age</th>\n",
       "      <th>age_range</th>\n",
       "      <th>price</th>\n",
       "      <th>categ</th>\n",
       "      <th>date_2</th>\n",
       "    </tr>\n",
       "  </thead>\n",
       "  <tbody>\n",
       "    <tr>\n",
       "      <th>0</th>\n",
       "      <td>0_1518</td>\n",
       "      <td>2022-05-20 13:21:29.043970</td>\n",
       "      <td>s_211425</td>\n",
       "      <td>c_103</td>\n",
       "      <td>f</td>\n",
       "      <td>1986</td>\n",
       "      <td>37</td>\n",
       "      <td>30 à 40 ans</td>\n",
       "      <td>4.18</td>\n",
       "      <td>0.00</td>\n",
       "      <td>2022-05-20 13:21:29.043970</td>\n",
       "    </tr>\n",
       "    <tr>\n",
       "      <th>1</th>\n",
       "      <td>1_251</td>\n",
       "      <td>2022-02-02 07:55:19.149409</td>\n",
       "      <td>s_158752</td>\n",
       "      <td>c_8534</td>\n",
       "      <td>m</td>\n",
       "      <td>1988</td>\n",
       "      <td>35</td>\n",
       "      <td>30 à 40 ans</td>\n",
       "      <td>15.99</td>\n",
       "      <td>1.00</td>\n",
       "      <td>2022-02-02 07:55:19.149409</td>\n",
       "    </tr>\n",
       "    <tr>\n",
       "      <th>2</th>\n",
       "      <td>0_1277</td>\n",
       "      <td>2022-06-18 15:44:33.155329</td>\n",
       "      <td>s_225667</td>\n",
       "      <td>c_6714</td>\n",
       "      <td>f</td>\n",
       "      <td>1968</td>\n",
       "      <td>55</td>\n",
       "      <td>50 à 60 ans</td>\n",
       "      <td>7.99</td>\n",
       "      <td>0.00</td>\n",
       "      <td>2022-06-18 15:44:33.155329</td>\n",
       "    </tr>\n",
       "    <tr>\n",
       "      <th>3</th>\n",
       "      <td>2_209</td>\n",
       "      <td>2021-06-24 04:19:29.835891</td>\n",
       "      <td>s_52962</td>\n",
       "      <td>c_6941</td>\n",
       "      <td>m</td>\n",
       "      <td>2000</td>\n",
       "      <td>23</td>\n",
       "      <td>18 à 30 ans</td>\n",
       "      <td>69.99</td>\n",
       "      <td>2.00</td>\n",
       "      <td>2021-06-24 04:19:29.835891</td>\n",
       "    </tr>\n",
       "    <tr>\n",
       "      <th>4</th>\n",
       "      <td>0_1509</td>\n",
       "      <td>2023-01-11 08:22:08.194479</td>\n",
       "      <td>s_325227</td>\n",
       "      <td>c_4232</td>\n",
       "      <td>m</td>\n",
       "      <td>1980</td>\n",
       "      <td>43</td>\n",
       "      <td>40 à 50 ans</td>\n",
       "      <td>4.99</td>\n",
       "      <td>0.00</td>\n",
       "      <td>2023-01-11 08:22:08.194479</td>\n",
       "    </tr>\n",
       "    <tr>\n",
       "      <th>...</th>\n",
       "      <td>...</td>\n",
       "      <td>...</td>\n",
       "      <td>...</td>\n",
       "      <td>...</td>\n",
       "      <td>...</td>\n",
       "      <td>...</td>\n",
       "      <td>...</td>\n",
       "      <td>...</td>\n",
       "      <td>...</td>\n",
       "      <td>...</td>\n",
       "      <td>...</td>\n",
       "    </tr>\n",
       "    <tr>\n",
       "      <th>679401</th>\n",
       "      <td>0_1551</td>\n",
       "      <td>2022-01-15 13:05:06.246925</td>\n",
       "      <td>s_150195</td>\n",
       "      <td>c_8489</td>\n",
       "      <td>f</td>\n",
       "      <td>1951</td>\n",
       "      <td>72</td>\n",
       "      <td>60 ans et plus</td>\n",
       "      <td>12.99</td>\n",
       "      <td>0.00</td>\n",
       "      <td>2022-01-15 13:05:06.246925</td>\n",
       "    </tr>\n",
       "    <tr>\n",
       "      <th>679402</th>\n",
       "      <td>1_639</td>\n",
       "      <td>2022-03-19 16:03:23.429229</td>\n",
       "      <td>s_181434</td>\n",
       "      <td>c_4370</td>\n",
       "      <td>f</td>\n",
       "      <td>1977</td>\n",
       "      <td>46</td>\n",
       "      <td>40 à 50 ans</td>\n",
       "      <td>10.99</td>\n",
       "      <td>1.00</td>\n",
       "      <td>2022-03-19 16:03:23.429229</td>\n",
       "    </tr>\n",
       "    <tr>\n",
       "      <th>679403</th>\n",
       "      <td>0_1425</td>\n",
       "      <td>2022-12-20 04:33:37.584749</td>\n",
       "      <td>s_314704</td>\n",
       "      <td>c_304</td>\n",
       "      <td>f</td>\n",
       "      <td>1988</td>\n",
       "      <td>35</td>\n",
       "      <td>30 à 40 ans</td>\n",
       "      <td>12.99</td>\n",
       "      <td>0.00</td>\n",
       "      <td>2022-12-20 04:33:37.584749</td>\n",
       "    </tr>\n",
       "    <tr>\n",
       "      <th>679404</th>\n",
       "      <td>0_1994</td>\n",
       "      <td>2021-07-16 20:36:35.350579</td>\n",
       "      <td>s_63204</td>\n",
       "      <td>c_2227</td>\n",
       "      <td>m</td>\n",
       "      <td>1986</td>\n",
       "      <td>37</td>\n",
       "      <td>30 à 40 ans</td>\n",
       "      <td>4.98</td>\n",
       "      <td>0.00</td>\n",
       "      <td>2021-07-16 20:36:35.350579</td>\n",
       "    </tr>\n",
       "    <tr>\n",
       "      <th>679405</th>\n",
       "      <td>1_523</td>\n",
       "      <td>2022-09-28 01:12:01.973763</td>\n",
       "      <td>s_274568</td>\n",
       "      <td>c_3873</td>\n",
       "      <td>m</td>\n",
       "      <td>1995</td>\n",
       "      <td>28</td>\n",
       "      <td>18 à 30 ans</td>\n",
       "      <td>23.99</td>\n",
       "      <td>1.00</td>\n",
       "      <td>2022-09-28 01:12:01.973763</td>\n",
       "    </tr>\n",
       "  </tbody>\n",
       "</table>\n",
       "<p>679332 rows × 11 columns</p>\n",
       "</div>"
      ],
      "text/plain": [
       "       id_prod                        date session_id client_id sex  birth  \\\n",
       "0       0_1518  2022-05-20 13:21:29.043970   s_211425     c_103   f   1986   \n",
       "1        1_251  2022-02-02 07:55:19.149409   s_158752    c_8534   m   1988   \n",
       "2       0_1277  2022-06-18 15:44:33.155329   s_225667    c_6714   f   1968   \n",
       "3        2_209  2021-06-24 04:19:29.835891    s_52962    c_6941   m   2000   \n",
       "4       0_1509  2023-01-11 08:22:08.194479   s_325227    c_4232   m   1980   \n",
       "...        ...                         ...        ...       ...  ..    ...   \n",
       "679401  0_1551  2022-01-15 13:05:06.246925   s_150195    c_8489   f   1951   \n",
       "679402   1_639  2022-03-19 16:03:23.429229   s_181434    c_4370   f   1977   \n",
       "679403  0_1425  2022-12-20 04:33:37.584749   s_314704     c_304   f   1988   \n",
       "679404  0_1994  2021-07-16 20:36:35.350579    s_63204    c_2227   m   1986   \n",
       "679405   1_523  2022-09-28 01:12:01.973763   s_274568    c_3873   m   1995   \n",
       "\n",
       "        age       age_range  price  categ                     date_2  \n",
       "0        37     30 à 40 ans   4.18   0.00 2022-05-20 13:21:29.043970  \n",
       "1        35     30 à 40 ans  15.99   1.00 2022-02-02 07:55:19.149409  \n",
       "2        55     50 à 60 ans   7.99   0.00 2022-06-18 15:44:33.155329  \n",
       "3        23     18 à 30 ans  69.99   2.00 2021-06-24 04:19:29.835891  \n",
       "4        43     40 à 50 ans   4.99   0.00 2023-01-11 08:22:08.194479  \n",
       "...     ...             ...    ...    ...                        ...  \n",
       "679401   72  60 ans et plus  12.99   0.00 2022-01-15 13:05:06.246925  \n",
       "679402   46     40 à 50 ans  10.99   1.00 2022-03-19 16:03:23.429229  \n",
       "679403   35     30 à 40 ans  12.99   0.00 2022-12-20 04:33:37.584749  \n",
       "679404   37     30 à 40 ans   4.98   0.00 2021-07-16 20:36:35.350579  \n",
       "679405   28     18 à 30 ans  23.99   1.00 2022-09-28 01:12:01.973763  \n",
       "\n",
       "[679332 rows x 11 columns]"
      ]
     },
     "execution_count": 45,
     "metadata": {},
     "output_type": "execute_result"
    }
   ],
   "source": [
    "df_lapage['date_2']=df_lapage['date']\n",
    "df_lapage['date_2'] = pd.to_datetime(df_lapage['date_2'], yearfirst= True)\n",
    "df_lapage"
   ]
  },
  {
   "cell_type": "markdown",
   "id": "b9903fad",
   "metadata": {},
   "source": [
    "# <a name=\"C2\">Création d'un data frame Ventes"
   ]
  },
  {
   "cell_type": "code",
   "execution_count": 46,
   "id": "340bfc40",
   "metadata": {},
   "outputs": [
    {
     "data": {
      "text/html": [
       "<div>\n",
       "<style scoped>\n",
       "    .dataframe tbody tr th:only-of-type {\n",
       "        vertical-align: middle;\n",
       "    }\n",
       "\n",
       "    .dataframe tbody tr th {\n",
       "        vertical-align: top;\n",
       "    }\n",
       "\n",
       "    .dataframe thead th {\n",
       "        text-align: right;\n",
       "    }\n",
       "</style>\n",
       "<table border=\"1\" class=\"dataframe\">\n",
       "  <thead>\n",
       "    <tr style=\"text-align: right;\">\n",
       "      <th></th>\n",
       "      <th>id_prod</th>\n",
       "      <th>session_id</th>\n",
       "      <th>client_id</th>\n",
       "      <th>sex</th>\n",
       "      <th>birth</th>\n",
       "      <th>age</th>\n",
       "      <th>age_range</th>\n",
       "      <th>price</th>\n",
       "      <th>catégorie</th>\n",
       "      <th>date</th>\n",
       "    </tr>\n",
       "  </thead>\n",
       "  <tbody>\n",
       "    <tr>\n",
       "      <th>0</th>\n",
       "      <td>0_1518</td>\n",
       "      <td>s_211425</td>\n",
       "      <td>c_103</td>\n",
       "      <td>f</td>\n",
       "      <td>1986</td>\n",
       "      <td>37</td>\n",
       "      <td>30 à 40 ans</td>\n",
       "      <td>4.18</td>\n",
       "      <td>0.00</td>\n",
       "      <td>2022-05-20 13:21:29.043970</td>\n",
       "    </tr>\n",
       "    <tr>\n",
       "      <th>1</th>\n",
       "      <td>1_251</td>\n",
       "      <td>s_158752</td>\n",
       "      <td>c_8534</td>\n",
       "      <td>m</td>\n",
       "      <td>1988</td>\n",
       "      <td>35</td>\n",
       "      <td>30 à 40 ans</td>\n",
       "      <td>15.99</td>\n",
       "      <td>1.00</td>\n",
       "      <td>2022-02-02 07:55:19.149409</td>\n",
       "    </tr>\n",
       "    <tr>\n",
       "      <th>2</th>\n",
       "      <td>0_1277</td>\n",
       "      <td>s_225667</td>\n",
       "      <td>c_6714</td>\n",
       "      <td>f</td>\n",
       "      <td>1968</td>\n",
       "      <td>55</td>\n",
       "      <td>50 à 60 ans</td>\n",
       "      <td>7.99</td>\n",
       "      <td>0.00</td>\n",
       "      <td>2022-06-18 15:44:33.155329</td>\n",
       "    </tr>\n",
       "    <tr>\n",
       "      <th>3</th>\n",
       "      <td>2_209</td>\n",
       "      <td>s_52962</td>\n",
       "      <td>c_6941</td>\n",
       "      <td>m</td>\n",
       "      <td>2000</td>\n",
       "      <td>23</td>\n",
       "      <td>18 à 30 ans</td>\n",
       "      <td>69.99</td>\n",
       "      <td>2.00</td>\n",
       "      <td>2021-06-24 04:19:29.835891</td>\n",
       "    </tr>\n",
       "    <tr>\n",
       "      <th>4</th>\n",
       "      <td>0_1509</td>\n",
       "      <td>s_325227</td>\n",
       "      <td>c_4232</td>\n",
       "      <td>m</td>\n",
       "      <td>1980</td>\n",
       "      <td>43</td>\n",
       "      <td>40 à 50 ans</td>\n",
       "      <td>4.99</td>\n",
       "      <td>0.00</td>\n",
       "      <td>2023-01-11 08:22:08.194479</td>\n",
       "    </tr>\n",
       "    <tr>\n",
       "      <th>...</th>\n",
       "      <td>...</td>\n",
       "      <td>...</td>\n",
       "      <td>...</td>\n",
       "      <td>...</td>\n",
       "      <td>...</td>\n",
       "      <td>...</td>\n",
       "      <td>...</td>\n",
       "      <td>...</td>\n",
       "      <td>...</td>\n",
       "      <td>...</td>\n",
       "    </tr>\n",
       "    <tr>\n",
       "      <th>679401</th>\n",
       "      <td>0_1551</td>\n",
       "      <td>s_150195</td>\n",
       "      <td>c_8489</td>\n",
       "      <td>f</td>\n",
       "      <td>1951</td>\n",
       "      <td>72</td>\n",
       "      <td>60 ans et plus</td>\n",
       "      <td>12.99</td>\n",
       "      <td>0.00</td>\n",
       "      <td>2022-01-15 13:05:06.246925</td>\n",
       "    </tr>\n",
       "    <tr>\n",
       "      <th>679402</th>\n",
       "      <td>1_639</td>\n",
       "      <td>s_181434</td>\n",
       "      <td>c_4370</td>\n",
       "      <td>f</td>\n",
       "      <td>1977</td>\n",
       "      <td>46</td>\n",
       "      <td>40 à 50 ans</td>\n",
       "      <td>10.99</td>\n",
       "      <td>1.00</td>\n",
       "      <td>2022-03-19 16:03:23.429229</td>\n",
       "    </tr>\n",
       "    <tr>\n",
       "      <th>679403</th>\n",
       "      <td>0_1425</td>\n",
       "      <td>s_314704</td>\n",
       "      <td>c_304</td>\n",
       "      <td>f</td>\n",
       "      <td>1988</td>\n",
       "      <td>35</td>\n",
       "      <td>30 à 40 ans</td>\n",
       "      <td>12.99</td>\n",
       "      <td>0.00</td>\n",
       "      <td>2022-12-20 04:33:37.584749</td>\n",
       "    </tr>\n",
       "    <tr>\n",
       "      <th>679404</th>\n",
       "      <td>0_1994</td>\n",
       "      <td>s_63204</td>\n",
       "      <td>c_2227</td>\n",
       "      <td>m</td>\n",
       "      <td>1986</td>\n",
       "      <td>37</td>\n",
       "      <td>30 à 40 ans</td>\n",
       "      <td>4.98</td>\n",
       "      <td>0.00</td>\n",
       "      <td>2021-07-16 20:36:35.350579</td>\n",
       "    </tr>\n",
       "    <tr>\n",
       "      <th>679405</th>\n",
       "      <td>1_523</td>\n",
       "      <td>s_274568</td>\n",
       "      <td>c_3873</td>\n",
       "      <td>m</td>\n",
       "      <td>1995</td>\n",
       "      <td>28</td>\n",
       "      <td>18 à 30 ans</td>\n",
       "      <td>23.99</td>\n",
       "      <td>1.00</td>\n",
       "      <td>2022-09-28 01:12:01.973763</td>\n",
       "    </tr>\n",
       "  </tbody>\n",
       "</table>\n",
       "<p>679332 rows × 10 columns</p>\n",
       "</div>"
      ],
      "text/plain": [
       "       id_prod session_id client_id sex  birth  age       age_range  price  \\\n",
       "0       0_1518   s_211425     c_103   f   1986   37     30 à 40 ans   4.18   \n",
       "1        1_251   s_158752    c_8534   m   1988   35     30 à 40 ans  15.99   \n",
       "2       0_1277   s_225667    c_6714   f   1968   55     50 à 60 ans   7.99   \n",
       "3        2_209    s_52962    c_6941   m   2000   23     18 à 30 ans  69.99   \n",
       "4       0_1509   s_325227    c_4232   m   1980   43     40 à 50 ans   4.99   \n",
       "...        ...        ...       ...  ..    ...  ...             ...    ...   \n",
       "679401  0_1551   s_150195    c_8489   f   1951   72  60 ans et plus  12.99   \n",
       "679402   1_639   s_181434    c_4370   f   1977   46     40 à 50 ans  10.99   \n",
       "679403  0_1425   s_314704     c_304   f   1988   35     30 à 40 ans  12.99   \n",
       "679404  0_1994    s_63204    c_2227   m   1986   37     30 à 40 ans   4.98   \n",
       "679405   1_523   s_274568    c_3873   m   1995   28     18 à 30 ans  23.99   \n",
       "\n",
       "        catégorie                       date  \n",
       "0            0.00 2022-05-20 13:21:29.043970  \n",
       "1            1.00 2022-02-02 07:55:19.149409  \n",
       "2            0.00 2022-06-18 15:44:33.155329  \n",
       "3            2.00 2021-06-24 04:19:29.835891  \n",
       "4            0.00 2023-01-11 08:22:08.194479  \n",
       "...           ...                        ...  \n",
       "679401       0.00 2022-01-15 13:05:06.246925  \n",
       "679402       1.00 2022-03-19 16:03:23.429229  \n",
       "679403       0.00 2022-12-20 04:33:37.584749  \n",
       "679404       0.00 2021-07-16 20:36:35.350579  \n",
       "679405       1.00 2022-09-28 01:12:01.973763  \n",
       "\n",
       "[679332 rows x 10 columns]"
      ]
     },
     "execution_count": 46,
     "metadata": {},
     "output_type": "execute_result"
    }
   ],
   "source": [
    "df_ventes= df_lapage \n",
    "df_ventes=df_lapage.drop([\"date\"], axis=1)\n",
    "df_ventes = df_ventes.rename(columns={'categ':'catégorie',\"date_2\":'date'})\n",
    "df_ventes"
   ]
  },
  {
   "cell_type": "markdown",
   "id": "76deec11",
   "metadata": {},
   "source": [
    "### _- Ajout de 4 nouvelles colonnes (year,month et day) pour analyse future_"
   ]
  },
  {
   "cell_type": "code",
   "execution_count": 47,
   "id": "3adeac33",
   "metadata": {},
   "outputs": [
    {
     "data": {
      "text/html": [
       "<div>\n",
       "<style scoped>\n",
       "    .dataframe tbody tr th:only-of-type {\n",
       "        vertical-align: middle;\n",
       "    }\n",
       "\n",
       "    .dataframe tbody tr th {\n",
       "        vertical-align: top;\n",
       "    }\n",
       "\n",
       "    .dataframe thead th {\n",
       "        text-align: right;\n",
       "    }\n",
       "</style>\n",
       "<table border=\"1\" class=\"dataframe\">\n",
       "  <thead>\n",
       "    <tr style=\"text-align: right;\">\n",
       "      <th></th>\n",
       "      <th>id_prod</th>\n",
       "      <th>session_id</th>\n",
       "      <th>client_id</th>\n",
       "      <th>sex</th>\n",
       "      <th>birth</th>\n",
       "      <th>age</th>\n",
       "      <th>age_range</th>\n",
       "      <th>price</th>\n",
       "      <th>catégorie</th>\n",
       "      <th>date</th>\n",
       "      <th>year</th>\n",
       "      <th>month</th>\n",
       "      <th>day</th>\n",
       "      <th>month-year</th>\n",
       "    </tr>\n",
       "  </thead>\n",
       "  <tbody>\n",
       "    <tr>\n",
       "      <th>0</th>\n",
       "      <td>0_1518</td>\n",
       "      <td>s_211425</td>\n",
       "      <td>c_103</td>\n",
       "      <td>f</td>\n",
       "      <td>1986</td>\n",
       "      <td>37</td>\n",
       "      <td>30 à 40 ans</td>\n",
       "      <td>4.18</td>\n",
       "      <td>0.00</td>\n",
       "      <td>2022-05-20 13:21:29.043970</td>\n",
       "      <td>2022</td>\n",
       "      <td>5</td>\n",
       "      <td>20</td>\n",
       "      <td>2022-05</td>\n",
       "    </tr>\n",
       "    <tr>\n",
       "      <th>1</th>\n",
       "      <td>1_251</td>\n",
       "      <td>s_158752</td>\n",
       "      <td>c_8534</td>\n",
       "      <td>m</td>\n",
       "      <td>1988</td>\n",
       "      <td>35</td>\n",
       "      <td>30 à 40 ans</td>\n",
       "      <td>15.99</td>\n",
       "      <td>1.00</td>\n",
       "      <td>2022-02-02 07:55:19.149409</td>\n",
       "      <td>2022</td>\n",
       "      <td>2</td>\n",
       "      <td>2</td>\n",
       "      <td>2022-02</td>\n",
       "    </tr>\n",
       "    <tr>\n",
       "      <th>2</th>\n",
       "      <td>0_1277</td>\n",
       "      <td>s_225667</td>\n",
       "      <td>c_6714</td>\n",
       "      <td>f</td>\n",
       "      <td>1968</td>\n",
       "      <td>55</td>\n",
       "      <td>50 à 60 ans</td>\n",
       "      <td>7.99</td>\n",
       "      <td>0.00</td>\n",
       "      <td>2022-06-18 15:44:33.155329</td>\n",
       "      <td>2022</td>\n",
       "      <td>6</td>\n",
       "      <td>18</td>\n",
       "      <td>2022-06</td>\n",
       "    </tr>\n",
       "    <tr>\n",
       "      <th>3</th>\n",
       "      <td>2_209</td>\n",
       "      <td>s_52962</td>\n",
       "      <td>c_6941</td>\n",
       "      <td>m</td>\n",
       "      <td>2000</td>\n",
       "      <td>23</td>\n",
       "      <td>18 à 30 ans</td>\n",
       "      <td>69.99</td>\n",
       "      <td>2.00</td>\n",
       "      <td>2021-06-24 04:19:29.835891</td>\n",
       "      <td>2021</td>\n",
       "      <td>6</td>\n",
       "      <td>24</td>\n",
       "      <td>2021-06</td>\n",
       "    </tr>\n",
       "    <tr>\n",
       "      <th>4</th>\n",
       "      <td>0_1509</td>\n",
       "      <td>s_325227</td>\n",
       "      <td>c_4232</td>\n",
       "      <td>m</td>\n",
       "      <td>1980</td>\n",
       "      <td>43</td>\n",
       "      <td>40 à 50 ans</td>\n",
       "      <td>4.99</td>\n",
       "      <td>0.00</td>\n",
       "      <td>2023-01-11 08:22:08.194479</td>\n",
       "      <td>2023</td>\n",
       "      <td>1</td>\n",
       "      <td>11</td>\n",
       "      <td>2023-01</td>\n",
       "    </tr>\n",
       "  </tbody>\n",
       "</table>\n",
       "</div>"
      ],
      "text/plain": [
       "  id_prod session_id client_id sex  birth  age    age_range  price  catégorie  \\\n",
       "0  0_1518   s_211425     c_103   f   1986   37  30 à 40 ans   4.18       0.00   \n",
       "1   1_251   s_158752    c_8534   m   1988   35  30 à 40 ans  15.99       1.00   \n",
       "2  0_1277   s_225667    c_6714   f   1968   55  50 à 60 ans   7.99       0.00   \n",
       "3   2_209    s_52962    c_6941   m   2000   23  18 à 30 ans  69.99       2.00   \n",
       "4  0_1509   s_325227    c_4232   m   1980   43  40 à 50 ans   4.99       0.00   \n",
       "\n",
       "                        date  year  month  day month-year  \n",
       "0 2022-05-20 13:21:29.043970  2022      5   20    2022-05  \n",
       "1 2022-02-02 07:55:19.149409  2022      2    2    2022-02  \n",
       "2 2022-06-18 15:44:33.155329  2022      6   18    2022-06  \n",
       "3 2021-06-24 04:19:29.835891  2021      6   24    2021-06  \n",
       "4 2023-01-11 08:22:08.194479  2023      1   11    2023-01  "
      ]
     },
     "execution_count": 47,
     "metadata": {},
     "output_type": "execute_result"
    }
   ],
   "source": [
    "df_ventes['year'] = df_ventes['date'].dt.year\n",
    "df_ventes['month'] = df_ventes['date'].dt.month\n",
    "df_ventes['day'] = df_ventes['date'].dt.day\n",
    "df_ventes['month-year'] = df_ventes['date'].dt.strftime('%Y-%m')\n",
    "df_ventes.head()"
   ]
  },
  {
   "cell_type": "markdown",
   "id": "197ac63e",
   "metadata": {},
   "source": [
    "### _- Vérifications des informations_"
   ]
  },
  {
   "cell_type": "code",
   "execution_count": 48,
   "id": "073b74a2",
   "metadata": {},
   "outputs": [
    {
     "name": "stdout",
     "output_type": "stream",
     "text": [
      "<class 'pandas.core.frame.DataFrame'>\n",
      "Int64Index: 679332 entries, 0 to 679405\n",
      "Data columns (total 14 columns):\n",
      " #   Column      Non-Null Count   Dtype         \n",
      "---  ------      --------------   -----         \n",
      " 0   id_prod     679332 non-null  object        \n",
      " 1   session_id  679332 non-null  object        \n",
      " 2   client_id   679332 non-null  object        \n",
      " 3   sex         679332 non-null  object        \n",
      " 4   birth       679332 non-null  int64         \n",
      " 5   age         679332 non-null  int64         \n",
      " 6   age_range   679332 non-null  category      \n",
      " 7   price       679332 non-null  float64       \n",
      " 8   catégorie   679332 non-null  float64       \n",
      " 9   date        679332 non-null  datetime64[ns]\n",
      " 10  year        679332 non-null  int64         \n",
      " 11  month       679332 non-null  int64         \n",
      " 12  day         679332 non-null  int64         \n",
      " 13  month-year  679332 non-null  object        \n",
      "dtypes: category(1), datetime64[ns](1), float64(2), int64(5), object(5)\n",
      "memory usage: 73.2+ MB\n"
     ]
    }
   ],
   "source": [
    "df_ventes.info()"
   ]
  },
  {
   "cell_type": "markdown",
   "id": "024175b5",
   "metadata": {},
   "source": [
    "### _- Conversion du type de la colonne categéorie_"
   ]
  },
  {
   "cell_type": "code",
   "execution_count": 49,
   "id": "aaf83150",
   "metadata": {},
   "outputs": [],
   "source": [
    "# Conversion type colonne categ en integer\n",
    "df_ventes['catégorie'] = df_ventes['catégorie'].astype('int')\n"
   ]
  },
  {
   "cell_type": "markdown",
   "id": "2c2ebdeb",
   "metadata": {},
   "source": [
    "### _- Vérification des statistiques des colonnes_"
   ]
  },
  {
   "cell_type": "code",
   "execution_count": 50,
   "id": "ecef14b1",
   "metadata": {},
   "outputs": [
    {
     "data": {
      "text/html": [
       "<div>\n",
       "<style scoped>\n",
       "    .dataframe tbody tr th:only-of-type {\n",
       "        vertical-align: middle;\n",
       "    }\n",
       "\n",
       "    .dataframe tbody tr th {\n",
       "        vertical-align: top;\n",
       "    }\n",
       "\n",
       "    .dataframe thead th {\n",
       "        text-align: right;\n",
       "    }\n",
       "</style>\n",
       "<table border=\"1\" class=\"dataframe\">\n",
       "  <thead>\n",
       "    <tr style=\"text-align: right;\">\n",
       "      <th></th>\n",
       "      <th>id_prod</th>\n",
       "      <th>session_id</th>\n",
       "      <th>client_id</th>\n",
       "      <th>sex</th>\n",
       "      <th>birth</th>\n",
       "      <th>age</th>\n",
       "      <th>age_range</th>\n",
       "      <th>price</th>\n",
       "      <th>catégorie</th>\n",
       "      <th>date</th>\n",
       "      <th>year</th>\n",
       "      <th>month</th>\n",
       "      <th>day</th>\n",
       "      <th>month-year</th>\n",
       "    </tr>\n",
       "  </thead>\n",
       "  <tbody>\n",
       "    <tr>\n",
       "      <th>count</th>\n",
       "      <td>679332</td>\n",
       "      <td>679332</td>\n",
       "      <td>679332</td>\n",
       "      <td>679332</td>\n",
       "      <td>679332.00</td>\n",
       "      <td>679332.00</td>\n",
       "      <td>679332</td>\n",
       "      <td>679332.00</td>\n",
       "      <td>679332.00</td>\n",
       "      <td>679332</td>\n",
       "      <td>679332.00</td>\n",
       "      <td>679332.00</td>\n",
       "      <td>679332.00</td>\n",
       "      <td>679332</td>\n",
       "    </tr>\n",
       "    <tr>\n",
       "      <th>unique</th>\n",
       "      <td>3266</td>\n",
       "      <td>342315</td>\n",
       "      <td>8600</td>\n",
       "      <td>2</td>\n",
       "      <td>NaN</td>\n",
       "      <td>NaN</td>\n",
       "      <td>5</td>\n",
       "      <td>NaN</td>\n",
       "      <td>NaN</td>\n",
       "      <td>679332</td>\n",
       "      <td>NaN</td>\n",
       "      <td>NaN</td>\n",
       "      <td>NaN</td>\n",
       "      <td>24</td>\n",
       "    </tr>\n",
       "    <tr>\n",
       "      <th>top</th>\n",
       "      <td>1_369</td>\n",
       "      <td>s_118668</td>\n",
       "      <td>c_1609</td>\n",
       "      <td>m</td>\n",
       "      <td>NaN</td>\n",
       "      <td>NaN</td>\n",
       "      <td>40 à 50 ans</td>\n",
       "      <td>NaN</td>\n",
       "      <td>NaN</td>\n",
       "      <td>2022-05-20 13:21:29.043970</td>\n",
       "      <td>NaN</td>\n",
       "      <td>NaN</td>\n",
       "      <td>NaN</td>\n",
       "      <td>2021-09</td>\n",
       "    </tr>\n",
       "    <tr>\n",
       "      <th>freq</th>\n",
       "      <td>2252</td>\n",
       "      <td>14</td>\n",
       "      <td>25488</td>\n",
       "      <td>340930</td>\n",
       "      <td>NaN</td>\n",
       "      <td>NaN</td>\n",
       "      <td>227765</td>\n",
       "      <td>NaN</td>\n",
       "      <td>NaN</td>\n",
       "      <td>1</td>\n",
       "      <td>NaN</td>\n",
       "      <td>NaN</td>\n",
       "      <td>NaN</td>\n",
       "      <td>33326</td>\n",
       "    </tr>\n",
       "    <tr>\n",
       "      <th>first</th>\n",
       "      <td>NaN</td>\n",
       "      <td>NaN</td>\n",
       "      <td>NaN</td>\n",
       "      <td>NaN</td>\n",
       "      <td>NaN</td>\n",
       "      <td>NaN</td>\n",
       "      <td>NaN</td>\n",
       "      <td>NaN</td>\n",
       "      <td>NaN</td>\n",
       "      <td>2021-03-01 00:01:07.843138</td>\n",
       "      <td>NaN</td>\n",
       "      <td>NaN</td>\n",
       "      <td>NaN</td>\n",
       "      <td>NaN</td>\n",
       "    </tr>\n",
       "    <tr>\n",
       "      <th>last</th>\n",
       "      <td>NaN</td>\n",
       "      <td>NaN</td>\n",
       "      <td>NaN</td>\n",
       "      <td>NaN</td>\n",
       "      <td>NaN</td>\n",
       "      <td>NaN</td>\n",
       "      <td>NaN</td>\n",
       "      <td>NaN</td>\n",
       "      <td>NaN</td>\n",
       "      <td>2023-02-28 23:58:30.792755</td>\n",
       "      <td>NaN</td>\n",
       "      <td>NaN</td>\n",
       "      <td>NaN</td>\n",
       "      <td>NaN</td>\n",
       "    </tr>\n",
       "    <tr>\n",
       "      <th>mean</th>\n",
       "      <td>NaN</td>\n",
       "      <td>NaN</td>\n",
       "      <td>NaN</td>\n",
       "      <td>NaN</td>\n",
       "      <td>1977.81</td>\n",
       "      <td>45.19</td>\n",
       "      <td>NaN</td>\n",
       "      <td>17.45</td>\n",
       "      <td>0.44</td>\n",
       "      <td>NaN</td>\n",
       "      <td>2021.67</td>\n",
       "      <td>6.50</td>\n",
       "      <td>15.76</td>\n",
       "      <td>NaN</td>\n",
       "    </tr>\n",
       "    <tr>\n",
       "      <th>std</th>\n",
       "      <td>NaN</td>\n",
       "      <td>NaN</td>\n",
       "      <td>NaN</td>\n",
       "      <td>NaN</td>\n",
       "      <td>13.57</td>\n",
       "      <td>13.57</td>\n",
       "      <td>NaN</td>\n",
       "      <td>18.33</td>\n",
       "      <td>0.59</td>\n",
       "      <td>NaN</td>\n",
       "      <td>0.62</td>\n",
       "      <td>3.48</td>\n",
       "      <td>8.80</td>\n",
       "      <td>NaN</td>\n",
       "    </tr>\n",
       "    <tr>\n",
       "      <th>min</th>\n",
       "      <td>NaN</td>\n",
       "      <td>NaN</td>\n",
       "      <td>NaN</td>\n",
       "      <td>NaN</td>\n",
       "      <td>1929.00</td>\n",
       "      <td>19.00</td>\n",
       "      <td>NaN</td>\n",
       "      <td>0.62</td>\n",
       "      <td>0.00</td>\n",
       "      <td>NaN</td>\n",
       "      <td>2021.00</td>\n",
       "      <td>1.00</td>\n",
       "      <td>1.00</td>\n",
       "      <td>NaN</td>\n",
       "    </tr>\n",
       "    <tr>\n",
       "      <th>25%</th>\n",
       "      <td>NaN</td>\n",
       "      <td>NaN</td>\n",
       "      <td>NaN</td>\n",
       "      <td>NaN</td>\n",
       "      <td>1970.00</td>\n",
       "      <td>36.00</td>\n",
       "      <td>NaN</td>\n",
       "      <td>8.87</td>\n",
       "      <td>0.00</td>\n",
       "      <td>NaN</td>\n",
       "      <td>2021.00</td>\n",
       "      <td>3.00</td>\n",
       "      <td>8.00</td>\n",
       "      <td>NaN</td>\n",
       "    </tr>\n",
       "    <tr>\n",
       "      <th>50%</th>\n",
       "      <td>NaN</td>\n",
       "      <td>NaN</td>\n",
       "      <td>NaN</td>\n",
       "      <td>NaN</td>\n",
       "      <td>1980.00</td>\n",
       "      <td>43.00</td>\n",
       "      <td>NaN</td>\n",
       "      <td>13.99</td>\n",
       "      <td>0.00</td>\n",
       "      <td>NaN</td>\n",
       "      <td>2022.00</td>\n",
       "      <td>6.00</td>\n",
       "      <td>16.00</td>\n",
       "      <td>NaN</td>\n",
       "    </tr>\n",
       "    <tr>\n",
       "      <th>75%</th>\n",
       "      <td>NaN</td>\n",
       "      <td>NaN</td>\n",
       "      <td>NaN</td>\n",
       "      <td>NaN</td>\n",
       "      <td>1987.00</td>\n",
       "      <td>53.00</td>\n",
       "      <td>NaN</td>\n",
       "      <td>18.99</td>\n",
       "      <td>1.00</td>\n",
       "      <td>NaN</td>\n",
       "      <td>2022.00</td>\n",
       "      <td>9.00</td>\n",
       "      <td>23.00</td>\n",
       "      <td>NaN</td>\n",
       "    </tr>\n",
       "    <tr>\n",
       "      <th>max</th>\n",
       "      <td>NaN</td>\n",
       "      <td>NaN</td>\n",
       "      <td>NaN</td>\n",
       "      <td>NaN</td>\n",
       "      <td>2004.00</td>\n",
       "      <td>94.00</td>\n",
       "      <td>NaN</td>\n",
       "      <td>300.00</td>\n",
       "      <td>2.00</td>\n",
       "      <td>NaN</td>\n",
       "      <td>2023.00</td>\n",
       "      <td>12.00</td>\n",
       "      <td>31.00</td>\n",
       "      <td>NaN</td>\n",
       "    </tr>\n",
       "  </tbody>\n",
       "</table>\n",
       "</div>"
      ],
      "text/plain": [
       "       id_prod session_id client_id     sex     birth       age    age_range  \\\n",
       "count   679332     679332    679332  679332 679332.00 679332.00       679332   \n",
       "unique    3266     342315      8600       2       NaN       NaN            5   \n",
       "top      1_369   s_118668    c_1609       m       NaN       NaN  40 à 50 ans   \n",
       "freq      2252         14     25488  340930       NaN       NaN       227765   \n",
       "first      NaN        NaN       NaN     NaN       NaN       NaN          NaN   \n",
       "last       NaN        NaN       NaN     NaN       NaN       NaN          NaN   \n",
       "mean       NaN        NaN       NaN     NaN   1977.81     45.19          NaN   \n",
       "std        NaN        NaN       NaN     NaN     13.57     13.57          NaN   \n",
       "min        NaN        NaN       NaN     NaN   1929.00     19.00          NaN   \n",
       "25%        NaN        NaN       NaN     NaN   1970.00     36.00          NaN   \n",
       "50%        NaN        NaN       NaN     NaN   1980.00     43.00          NaN   \n",
       "75%        NaN        NaN       NaN     NaN   1987.00     53.00          NaN   \n",
       "max        NaN        NaN       NaN     NaN   2004.00     94.00          NaN   \n",
       "\n",
       "           price  catégorie                        date      year     month  \\\n",
       "count  679332.00  679332.00                      679332 679332.00 679332.00   \n",
       "unique       NaN        NaN                      679332       NaN       NaN   \n",
       "top          NaN        NaN  2022-05-20 13:21:29.043970       NaN       NaN   \n",
       "freq         NaN        NaN                           1       NaN       NaN   \n",
       "first        NaN        NaN  2021-03-01 00:01:07.843138       NaN       NaN   \n",
       "last         NaN        NaN  2023-02-28 23:58:30.792755       NaN       NaN   \n",
       "mean       17.45       0.44                         NaN   2021.67      6.50   \n",
       "std        18.33       0.59                         NaN      0.62      3.48   \n",
       "min         0.62       0.00                         NaN   2021.00      1.00   \n",
       "25%         8.87       0.00                         NaN   2021.00      3.00   \n",
       "50%        13.99       0.00                         NaN   2022.00      6.00   \n",
       "75%        18.99       1.00                         NaN   2022.00      9.00   \n",
       "max       300.00       2.00                         NaN   2023.00     12.00   \n",
       "\n",
       "             day month-year  \n",
       "count  679332.00     679332  \n",
       "unique       NaN         24  \n",
       "top          NaN    2021-09  \n",
       "freq         NaN      33326  \n",
       "first        NaN        NaN  \n",
       "last         NaN        NaN  \n",
       "mean       15.76        NaN  \n",
       "std         8.80        NaN  \n",
       "min         1.00        NaN  \n",
       "25%         8.00        NaN  \n",
       "50%        16.00        NaN  \n",
       "75%        23.00        NaN  \n",
       "max        31.00        NaN  "
      ]
     },
     "execution_count": 50,
     "metadata": {},
     "output_type": "execute_result"
    }
   ],
   "source": [
    "df_ventes.describe(include='all')"
   ]
  },
  {
   "cell_type": "markdown",
   "id": "c548c2dc",
   "metadata": {},
   "source": [
    "On s'aperçoit que la première date de la colonne date démarre le 01/03/2021 et se termine le 28/02/2023.\n"
   ]
  },
  {
   "cell_type": "markdown",
   "id": "3455d183",
   "metadata": {},
   "source": [
    "### _- Observation de la colonne année pour les année 2021, 2022 et 2023_"
   ]
  },
  {
   "cell_type": "code",
   "execution_count": 51,
   "id": "c5b00b8e",
   "metadata": {},
   "outputs": [
    {
     "data": {
      "text/plain": [
       "count                         278335\n",
       "unique                        278335\n",
       "top       2021-06-24 04:19:29.835891\n",
       "freq                               1\n",
       "first     2021-03-01 00:01:07.843138\n",
       "last      2021-12-31 23:53:09.887763\n",
       "Name: date, dtype: object"
      ]
     },
     "execution_count": 51,
     "metadata": {},
     "output_type": "execute_result"
    }
   ],
   "source": [
    "# Observation de l'année 2021\n",
    "annee_2021=df_ventes.loc[df_ventes['year']==2021]\n",
    "annee_2021['date'].describe()"
   ]
  },
  {
   "cell_type": "markdown",
   "id": "8e3bd3ad",
   "metadata": {},
   "source": [
    "On constate que les ventes débutent le 1er mars 2021 et se terminent en décembre.\n"
   ]
  },
  {
   "cell_type": "code",
   "execution_count": 52,
   "id": "44847485",
   "metadata": {},
   "outputs": [
    {
     "data": {
      "text/plain": [
       "count                         346500\n",
       "unique                        346500\n",
       "top       2022-05-20 13:21:29.043970\n",
       "freq                               1\n",
       "first     2022-01-01 00:04:46.203980\n",
       "last      2022-12-31 23:56:47.244655\n",
       "Name: date, dtype: object"
      ]
     },
     "execution_count": 52,
     "metadata": {},
     "output_type": "execute_result"
    }
   ],
   "source": [
    "# Observation de l'année 2022\n",
    "anne_2022=df_ventes.loc[df_ventes['year']==2022]\n",
    "anne_2022['date'].describe()"
   ]
  },
  {
   "cell_type": "code",
   "execution_count": 53,
   "id": "a6de3378",
   "metadata": {},
   "outputs": [
    {
     "data": {
      "text/plain": [
       "count                          54497\n",
       "unique                         54497\n",
       "top       2023-01-11 08:22:08.194479\n",
       "freq                               1\n",
       "first     2023-01-01 00:01:07.843138\n",
       "last      2023-02-28 23:58:30.792755\n",
       "Name: date, dtype: object"
      ]
     },
     "execution_count": 53,
     "metadata": {},
     "output_type": "execute_result"
    }
   ],
   "source": [
    "# Observation de l'année 2023\n",
    "anne_2023=df_ventes.loc[df_ventes['year']==2023]\n",
    "anne_2023['date'].describe()"
   ]
  },
  {
   "cell_type": "markdown",
   "id": "8f50aee1",
   "metadata": {},
   "source": [
    "On constate que les ventes se terminent le 28 février 2023.\n"
   ]
  },
  {
   "cell_type": "markdown",
   "id": "1de84c75",
   "metadata": {},
   "source": [
    "# <a name=\"C2\"> I - Analyse des différents indicateurs de vente"
   ]
  },
  {
   "cell_type": "markdown",
   "id": "48483121",
   "metadata": {},
   "source": [
    "## <span style='color:green'> 1 - Différents indicateurs & graphiques représentant le chiffre d'affaires dans le temps </span>"
   ]
  },
  {
   "cell_type": "markdown",
   "id": "61a7fdf9",
   "metadata": {},
   "source": [
    "### _- Calcul du chiffre d'affaires total et du nombre total de ventes_"
   ]
  },
  {
   "cell_type": "code",
   "execution_count": 54,
   "id": "7f44d577",
   "metadata": {},
   "outputs": [
    {
     "name": "stdout",
     "output_type": "stream",
     "text": [
      "Le chiffre d'affaires total réalisé en ligne est de 11856080.12 €, pour 679332 ventes.\n"
     ]
    }
   ],
   "source": [
    "# Calcul du chiffre d'affaires total\n",
    "ca_total = round(df_ventes['price'].sum(),2)\n",
    "\n",
    "# Nombre de ventes total\n",
    "nbre_ventes=df_ventes['id_prod'].count()\n",
    "\n",
    "print(\"Le chiffre d'affaires total réalisé en ligne est de\", ca_total, \"€, pour\",nbre_ventes,\"ventes.\")\n"
   ]
  },
  {
   "cell_type": "markdown",
   "id": "ee70092c",
   "metadata": {},
   "source": [
    "### _- Calcul du chiffre d'affaires total et du nombre de ventes par catégorie_"
   ]
  },
  {
   "cell_type": "code",
   "execution_count": 55,
   "id": "b796cc27",
   "metadata": {},
   "outputs": [
    {
     "data": {
      "text/html": [
       "<div>\n",
       "<style scoped>\n",
       "    .dataframe tbody tr th:only-of-type {\n",
       "        vertical-align: middle;\n",
       "    }\n",
       "\n",
       "    .dataframe tbody tr th {\n",
       "        vertical-align: top;\n",
       "    }\n",
       "\n",
       "    .dataframe thead th {\n",
       "        text-align: right;\n",
       "    }\n",
       "</style>\n",
       "<table border=\"1\" class=\"dataframe\">\n",
       "  <thead>\n",
       "    <tr style=\"text-align: right;\">\n",
       "      <th></th>\n",
       "      <th>Chiffre d'Affaires</th>\n",
       "      <th>Nombre de ventes</th>\n",
       "    </tr>\n",
       "    <tr>\n",
       "      <th>catégorie</th>\n",
       "      <th></th>\n",
       "      <th></th>\n",
       "    </tr>\n",
       "  </thead>\n",
       "  <tbody>\n",
       "    <tr>\n",
       "      <th>0</th>\n",
       "      <td>4422082.41</td>\n",
       "      <td>415680</td>\n",
       "    </tr>\n",
       "    <tr>\n",
       "      <th>1</th>\n",
       "      <td>4653722.69</td>\n",
       "      <td>227169</td>\n",
       "    </tr>\n",
       "    <tr>\n",
       "      <th>2</th>\n",
       "      <td>2780275.02</td>\n",
       "      <td>36483</td>\n",
       "    </tr>\n",
       "  </tbody>\n",
       "</table>\n",
       "</div>"
      ],
      "text/plain": [
       "           Chiffre d'Affaires  Nombre de ventes\n",
       "catégorie                                      \n",
       "0                  4422082.41            415680\n",
       "1                  4653722.69            227169\n",
       "2                  2780275.02             36483"
      ]
     },
     "execution_count": 55,
     "metadata": {},
     "output_type": "execute_result"
    }
   ],
   "source": [
    "# Data frame du CA et du nombre de ventes par catégorie\n",
    "ca_ventes_categorie = df_ventes.groupby(['catégorie']).agg({'price':'sum', 'id_prod':'count'})\n",
    "ca_ventes_categorie.rename(columns={'price':\"Chiffre d'Affaires\",'id_prod':'Nombre de ventes'},inplace=True)\n",
    "ca_ventes_categorie"
   ]
  },
  {
   "cell_type": "code",
   "execution_count": 56,
   "id": "51f1d356",
   "metadata": {},
   "outputs": [
    {
     "data": {
      "image/png": "[encoded data removed]",
      "text/plain": [
       "<Figure size 1152x720 with 2 Axes>"
      ]
     },
     "metadata": {},
     "output_type": "display_data"
    }
   ],
   "source": [
    "# Graphiques du CA total et du nombre de ventes total en diagrammes circulaires\n",
    "plt.figure(figsize=(16,10))\n",
    "\n",
    "plt.subplot(1,2,1)\n",
    "plt.title(\"Chiffres d'affaires total par catégorie\", fontsize=18)\n",
    "ca_ventes_categorie[\"Chiffre d'Affaires\"].plot(kind=\"pie\", autopct='%1.2f%%', labels=[\"catégorie 0\",\"catégorie 1\",\"catégorie 2\"],startangle=90)\n",
    "\n",
    "plt.subplot(1,2,2)\n",
    "plt.title(\"Nombre total de ventes par catégorie\", fontsize=18)\n",
    "ca_ventes_categorie['Nombre de ventes'].plot(kind=\"pie\", labels=[\"catégorie 0\",\"catégorie 1\",\"catégorie 2\"],autopct='%1.2f%%', startangle=90)\n",
    "plt.savefig(\"CA total et du nombre de ventes total.png\")\n",
    "plt.show()"
   ]
  },
  {
   "cell_type": "markdown",
   "id": "b2d185f8",
   "metadata": {},
   "source": [
    "- La catégorie 0 représente 61,19 % des ventes et 37,30 % du chiffre d'affaires,\n",
    "- La catégorie 1 représente 33,44 % des ventes et 39,25 % du chiffre d'affaires,\n",
    "- La catégorie 2 représente 5,37 % des ventes et 23,45 % du chiffre d'affaires.\n",
    "\n"
   ]
  },
  {
   "cell_type": "code",
   "execution_count": 57,
   "id": "3bf5b80a",
   "metadata": {},
   "outputs": [
    {
     "data": {
      "text/html": [
       "<div>\n",
       "<style scoped>\n",
       "    .dataframe tbody tr th:only-of-type {\n",
       "        vertical-align: middle;\n",
       "    }\n",
       "\n",
       "    .dataframe tbody tr th {\n",
       "        vertical-align: top;\n",
       "    }\n",
       "\n",
       "    .dataframe thead th {\n",
       "        text-align: right;\n",
       "    }\n",
       "</style>\n",
       "<table border=\"1\" class=\"dataframe\">\n",
       "  <thead>\n",
       "    <tr style=\"text-align: right;\">\n",
       "      <th></th>\n",
       "      <th>Chiffre d'Affaires</th>\n",
       "      <th>Nombre de ventes</th>\n",
       "    </tr>\n",
       "  </thead>\n",
       "  <tbody>\n",
       "    <tr>\n",
       "      <th>count</th>\n",
       "      <td>3.00</td>\n",
       "      <td>3.00</td>\n",
       "    </tr>\n",
       "    <tr>\n",
       "      <th>mean</th>\n",
       "      <td>3952026.71</td>\n",
       "      <td>226444.00</td>\n",
       "    </tr>\n",
       "    <tr>\n",
       "      <th>std</th>\n",
       "      <td>1021354.89</td>\n",
       "      <td>189599.54</td>\n",
       "    </tr>\n",
       "    <tr>\n",
       "      <th>min</th>\n",
       "      <td>2780275.02</td>\n",
       "      <td>36483.00</td>\n",
       "    </tr>\n",
       "    <tr>\n",
       "      <th>25%</th>\n",
       "      <td>3601178.71</td>\n",
       "      <td>131826.00</td>\n",
       "    </tr>\n",
       "    <tr>\n",
       "      <th>50%</th>\n",
       "      <td>4422082.41</td>\n",
       "      <td>227169.00</td>\n",
       "    </tr>\n",
       "    <tr>\n",
       "      <th>75%</th>\n",
       "      <td>4537902.55</td>\n",
       "      <td>321424.50</td>\n",
       "    </tr>\n",
       "    <tr>\n",
       "      <th>max</th>\n",
       "      <td>4653722.69</td>\n",
       "      <td>415680.00</td>\n",
       "    </tr>\n",
       "  </tbody>\n",
       "</table>\n",
       "</div>"
      ],
      "text/plain": [
       "       Chiffre d'Affaires  Nombre de ventes\n",
       "count                3.00              3.00\n",
       "mean           3952026.71         226444.00\n",
       "std            1021354.89         189599.54\n",
       "min            2780275.02          36483.00\n",
       "25%            3601178.71         131826.00\n",
       "50%            4422082.41         227169.00\n",
       "75%            4537902.55         321424.50\n",
       "max            4653722.69         415680.00"
      ]
     },
     "execution_count": 57,
     "metadata": {},
     "output_type": "execute_result"
    }
   ],
   "source": [
    "# Statistiques du chiffre d'affaires et du nombre de ventes\n",
    "ca_ventes_categorie.describe()"
   ]
  },
  {
   "cell_type": "markdown",
   "id": "a3e8b84d",
   "metadata": {},
   "source": [
    "- La moyenne du chiffre d'affaires entre 2021 à 2023 est de 3 952 026.71 euros,\n",
    "- La moyenne du nombre de ventes entre 2021 à 2023 est de 226 444."
   ]
  },
  {
   "cell_type": "markdown",
   "id": "b6bbed15",
   "metadata": {},
   "source": [
    "### _- Calcul du chiffre d'affaires et du nombre de ventes par catégorie d'âge_"
   ]
  },
  {
   "cell_type": "code",
   "execution_count": 58,
   "id": "3bbd2522",
   "metadata": {},
   "outputs": [
    {
     "data": {
      "text/html": [
       "<div>\n",
       "<style scoped>\n",
       "    .dataframe tbody tr th:only-of-type {\n",
       "        vertical-align: middle;\n",
       "    }\n",
       "\n",
       "    .dataframe tbody tr th {\n",
       "        vertical-align: top;\n",
       "    }\n",
       "\n",
       "    .dataframe thead th {\n",
       "        text-align: right;\n",
       "    }\n",
       "</style>\n",
       "<table border=\"1\" class=\"dataframe\">\n",
       "  <thead>\n",
       "    <tr style=\"text-align: right;\">\n",
       "      <th></th>\n",
       "      <th>Chiffres d'affaires en euros</th>\n",
       "      <th>Nombre de ventes</th>\n",
       "    </tr>\n",
       "    <tr>\n",
       "      <th>age_range</th>\n",
       "      <th></th>\n",
       "      <th></th>\n",
       "    </tr>\n",
       "  </thead>\n",
       "  <tbody>\n",
       "    <tr>\n",
       "      <th>18 à 30 ans</th>\n",
       "      <td>3064862.02</td>\n",
       "      <td>74041</td>\n",
       "    </tr>\n",
       "    <tr>\n",
       "      <th>30 à 40 ans</th>\n",
       "      <td>2552700.04</td>\n",
       "      <td>181444</td>\n",
       "    </tr>\n",
       "    <tr>\n",
       "      <th>40 à 50 ans</th>\n",
       "      <td>3005621.46</td>\n",
       "      <td>227765</td>\n",
       "    </tr>\n",
       "    <tr>\n",
       "      <th>50 à 60 ans</th>\n",
       "      <td>1722166.11</td>\n",
       "      <td>105921</td>\n",
       "    </tr>\n",
       "    <tr>\n",
       "      <th>60 ans et plus</th>\n",
       "      <td>1510730.49</td>\n",
       "      <td>90161</td>\n",
       "    </tr>\n",
       "  </tbody>\n",
       "</table>\n",
       "</div>"
      ],
      "text/plain": [
       "                Chiffres d'affaires en euros  Nombre de ventes\n",
       "age_range                                                     \n",
       "18 à 30 ans                       3064862.02             74041\n",
       "30 à 40 ans                       2552700.04            181444\n",
       "40 à 50 ans                       3005621.46            227765\n",
       "50 à 60 ans                       1722166.11            105921\n",
       "60 ans et plus                    1510730.49             90161"
      ]
     },
     "execution_count": 58,
     "metadata": {},
     "output_type": "execute_result"
    }
   ],
   "source": [
    "# Data frame du CA et du nombre de ventes par catégorie d'âge\n",
    "ca_ventes_age = df_ventes.groupby(['age_range']).agg({'price':'sum', 'id_prod':'count'})\n",
    "ca_ventes_age.rename(columns={'id_prod':\"Nombre de ventes\", 'price':\"Chiffres d'affaires en euros\"}, inplace=True)\n",
    "ca_ventes_age"
   ]
  },
  {
   "cell_type": "code",
   "execution_count": 59,
   "id": "49952d58",
   "metadata": {},
   "outputs": [
    {
     "data": {
      "image/png": "[encoded data removed]",
      "text/plain": [
       "<Figure size 1152x720 with 2 Axes>"
      ]
     },
     "metadata": {
      "needs_background": "light"
     },
     "output_type": "display_data"
    }
   ],
   "source": [
    "# Graphique en diagramme circulaire pour représenter le chiffre d'affaires et diagramme à barres pour représenter le nombre de ventes\n",
    "\n",
    "plt.figure( figsize=(16,10) )\n",
    "\n",
    "plt.subplot(1,2,1)\n",
    "plt.title(\"Nombre de ventes par catégorie d'âge\", fontsize=16)\n",
    "ca_ventes_age[\"Nombre de ventes\"].plot(kind=\"bar\",color=['royalblue','orange','green','red','purple'])\n",
    "\n",
    "plt.subplot(1,2,2)\n",
    "plt.title(\"Chiffre d'affaires par catégorie d'âge\", fontsize=16)\n",
    "ca_ventes_age[\"Chiffres d'affaires en euros\"].plot(kind=\"pie\", autopct='%1.2f%%')\n",
    "plt.ylabel(\"\")\n",
    "\n",
    "plt.tight_layout()\n",
    "plt.savefig(\"CA et du nombre de ventes par catégorie d'âge.png\")\n",
    "plt.show()\n"
   ]
  },
  {
   "cell_type": "markdown",
   "id": "e893d273",
   "metadata": {},
   "source": [
    "Nombre de ventes :\n",
    "- Les catégories d'âge qui achètent le plus de livres en ligne sont les 40 à 50 ans et les 30 à 40 ans,\n",
    "- Les catégories d'âge qui achètent le moins de livres en ligne sont les 18 à 30 ans et les plus de 60 ans.\n",
    "\n",
    "Chiffre d'affaires :\n",
    "- Le chiffre d'affaires réalisé chez les 40 à 50 ans, et les 18 à 30 ans représente quasiment la même part (25 %), soit plus de 51 % des ventes,\n",
    "- Le chiffre d'affaires réalisé chez les plus de 60 ans est le moins important, il représente moins de 12.74 % des ventes.\n"
   ]
  },
  {
   "cell_type": "code",
   "execution_count": 60,
   "id": "fd850f0c",
   "metadata": {},
   "outputs": [
    {
     "data": {
      "text/html": [
       "<div>\n",
       "<style scoped>\n",
       "    .dataframe tbody tr th:only-of-type {\n",
       "        vertical-align: middle;\n",
       "    }\n",
       "\n",
       "    .dataframe tbody tr th {\n",
       "        vertical-align: top;\n",
       "    }\n",
       "\n",
       "    .dataframe thead th {\n",
       "        text-align: right;\n",
       "    }\n",
       "</style>\n",
       "<table border=\"1\" class=\"dataframe\">\n",
       "  <thead>\n",
       "    <tr style=\"text-align: right;\">\n",
       "      <th></th>\n",
       "      <th>Chiffres d'affaires en euros</th>\n",
       "      <th>Nombre de ventes</th>\n",
       "    </tr>\n",
       "  </thead>\n",
       "  <tbody>\n",
       "    <tr>\n",
       "      <th>count</th>\n",
       "      <td>5.00</td>\n",
       "      <td>5.00</td>\n",
       "    </tr>\n",
       "    <tr>\n",
       "      <th>mean</th>\n",
       "      <td>2371216.02</td>\n",
       "      <td>135866.40</td>\n",
       "    </tr>\n",
       "    <tr>\n",
       "      <th>std</th>\n",
       "      <td>720807.29</td>\n",
       "      <td>65823.17</td>\n",
       "    </tr>\n",
       "    <tr>\n",
       "      <th>min</th>\n",
       "      <td>1510730.49</td>\n",
       "      <td>74041.00</td>\n",
       "    </tr>\n",
       "    <tr>\n",
       "      <th>25%</th>\n",
       "      <td>1722166.11</td>\n",
       "      <td>90161.00</td>\n",
       "    </tr>\n",
       "    <tr>\n",
       "      <th>50%</th>\n",
       "      <td>2552700.04</td>\n",
       "      <td>105921.00</td>\n",
       "    </tr>\n",
       "    <tr>\n",
       "      <th>75%</th>\n",
       "      <td>3005621.46</td>\n",
       "      <td>181444.00</td>\n",
       "    </tr>\n",
       "    <tr>\n",
       "      <th>max</th>\n",
       "      <td>3064862.02</td>\n",
       "      <td>227765.00</td>\n",
       "    </tr>\n",
       "  </tbody>\n",
       "</table>\n",
       "</div>"
      ],
      "text/plain": [
       "       Chiffres d'affaires en euros  Nombre de ventes\n",
       "count                          5.00              5.00\n",
       "mean                     2371216.02         135866.40\n",
       "std                       720807.29          65823.17\n",
       "min                      1510730.49          74041.00\n",
       "25%                      1722166.11          90161.00\n",
       "50%                      2552700.04         105921.00\n",
       "75%                      3005621.46         181444.00\n",
       "max                      3064862.02         227765.00"
      ]
     },
     "execution_count": 60,
     "metadata": {},
     "output_type": "execute_result"
    }
   ],
   "source": [
    "# Statistiques du chiffre d'affaire et du nombre de ventes par tranche d'âge\n",
    "ca_ventes_age.describe()"
   ]
  },
  {
   "cell_type": "markdown",
   "id": "99ba5159",
   "metadata": {},
   "source": [
    "- La moyenne du chiffre d'affaires réalisé par tranche d'âge est de 2 371 216.02 euros,\n",
    "- La moyenne du nombre de ventes réalisé par tranche d'âge est de 135 866.40."
   ]
  },
  {
   "cell_type": "code",
   "execution_count": 61,
   "id": "84ef1bf2",
   "metadata": {},
   "outputs": [
    {
     "data": {
      "text/html": [
       "<div>\n",
       "<style scoped>\n",
       "    .dataframe tbody tr th:only-of-type {\n",
       "        vertical-align: middle;\n",
       "    }\n",
       "\n",
       "    .dataframe tbody tr th {\n",
       "        vertical-align: top;\n",
       "    }\n",
       "\n",
       "    .dataframe thead th {\n",
       "        text-align: right;\n",
       "    }\n",
       "</style>\n",
       "<table border=\"1\" class=\"dataframe\">\n",
       "  <thead>\n",
       "    <tr style=\"text-align: right;\">\n",
       "      <th></th>\n",
       "      <th>Chiffres d'affaires en euros</th>\n",
       "      <th>Nombre de ventes</th>\n",
       "    </tr>\n",
       "  </thead>\n",
       "  <tbody>\n",
       "    <tr>\n",
       "      <th>count</th>\n",
       "      <td>3266.00</td>\n",
       "      <td>3266.00</td>\n",
       "    </tr>\n",
       "    <tr>\n",
       "      <th>mean</th>\n",
       "      <td>3630.15</td>\n",
       "      <td>208.00</td>\n",
       "    </tr>\n",
       "    <tr>\n",
       "      <th>std</th>\n",
       "      <td>7370.83</td>\n",
       "      <td>331.31</td>\n",
       "    </tr>\n",
       "    <tr>\n",
       "      <th>min</th>\n",
       "      <td>0.99</td>\n",
       "      <td>1.00</td>\n",
       "    </tr>\n",
       "    <tr>\n",
       "      <th>25%</th>\n",
       "      <td>233.83</td>\n",
       "      <td>17.00</td>\n",
       "    </tr>\n",
       "    <tr>\n",
       "      <th>50%</th>\n",
       "      <td>797.22</td>\n",
       "      <td>57.00</td>\n",
       "    </tr>\n",
       "    <tr>\n",
       "      <th>75%</th>\n",
       "      <td>3406.20</td>\n",
       "      <td>239.00</td>\n",
       "    </tr>\n",
       "    <tr>\n",
       "      <th>max</th>\n",
       "      <td>94893.50</td>\n",
       "      <td>2252.00</td>\n",
       "    </tr>\n",
       "  </tbody>\n",
       "</table>\n",
       "</div>"
      ],
      "text/plain": [
       "       Chiffres d'affaires en euros  Nombre de ventes\n",
       "count                       3266.00           3266.00\n",
       "mean                        3630.15            208.00\n",
       "std                         7370.83            331.31\n",
       "min                            0.99              1.00\n",
       "25%                          233.83             17.00\n",
       "50%                          797.22             57.00\n",
       "75%                         3406.20            239.00\n",
       "max                        94893.50           2252.00"
      ]
     },
     "execution_count": 61,
     "metadata": {},
     "output_type": "execute_result"
    }
   ],
   "source": [
    "ca_id_prod=df_ventes.groupby('id_prod').agg({'price':'sum', 'id_prod':'count'})\n",
    "ca_id_prod.rename(columns={'id_prod':\"Nombre de ventes\", 'price':\"Chiffres d'affaires en euros\"}, inplace=True)\n",
    "ca_id_prod.describe()"
   ]
  },
  {
   "cell_type": "markdown",
   "id": "1e54b354",
   "metadata": {},
   "source": [
    "- La moyenne du chiffre d'affaires réalisée par id_prod est de 3363.46 euros,\n",
    "- La moyenne du nombre de ventes réalisée par id_prod est de 193.90."
   ]
  },
  {
   "cell_type": "markdown",
   "id": "f6e833df",
   "metadata": {},
   "source": [
    "### _- Calcul du chiffre d'affaires et du nombre de ventes par année_"
   ]
  },
  {
   "cell_type": "code",
   "execution_count": 62,
   "id": "e55cea38",
   "metadata": {},
   "outputs": [
    {
     "data": {
      "text/html": [
       "<div>\n",
       "<style scoped>\n",
       "    .dataframe tbody tr th:only-of-type {\n",
       "        vertical-align: middle;\n",
       "    }\n",
       "\n",
       "    .dataframe tbody tr th {\n",
       "        vertical-align: top;\n",
       "    }\n",
       "\n",
       "    .dataframe thead th {\n",
       "        text-align: right;\n",
       "    }\n",
       "</style>\n",
       "<table border=\"1\" class=\"dataframe\">\n",
       "  <thead>\n",
       "    <tr style=\"text-align: right;\">\n",
       "      <th></th>\n",
       "      <th>Chiffre d'affaires</th>\n",
       "      <th>Nombre de ventes</th>\n",
       "    </tr>\n",
       "    <tr>\n",
       "      <th>year</th>\n",
       "      <th></th>\n",
       "      <th></th>\n",
       "    </tr>\n",
       "  </thead>\n",
       "  <tbody>\n",
       "    <tr>\n",
       "      <th>2021</th>\n",
       "      <td>4771752.24</td>\n",
       "      <td>278335</td>\n",
       "    </tr>\n",
       "    <tr>\n",
       "      <th>2022</th>\n",
       "      <td>6109958.61</td>\n",
       "      <td>346500</td>\n",
       "    </tr>\n",
       "    <tr>\n",
       "      <th>2023</th>\n",
       "      <td>974369.27</td>\n",
       "      <td>54497</td>\n",
       "    </tr>\n",
       "  </tbody>\n",
       "</table>\n",
       "</div>"
      ],
      "text/plain": [
       "      Chiffre d'affaires  Nombre de ventes\n",
       "year                                      \n",
       "2021          4771752.24            278335\n",
       "2022          6109958.61            346500\n",
       "2023           974369.27             54497"
      ]
     },
     "execution_count": 62,
     "metadata": {},
     "output_type": "execute_result"
    }
   ],
   "source": [
    "# Data frame du chiffre d'affaires et du nombre de ventes par année\n",
    "ca_ventes_annee = df_ventes.groupby(['year']).agg({'price':'sum', 'id_prod':'count'})\n",
    "ca_ventes_annee.rename(columns={\"price\":\"Chiffre d'affaires\",\"id_prod\":\"Nombre de ventes\"},inplace=True)\n",
    "ca_ventes_annee"
   ]
  },
  {
   "cell_type": "markdown",
   "id": "c2e9fa4a",
   "metadata": {},
   "source": [
    "### _- Représentation graphique du chiffre d'affaires et du nombre de ventes par année_"
   ]
  },
  {
   "cell_type": "code",
   "execution_count": 63,
   "id": "13fdde52",
   "metadata": {
    "scrolled": true
   },
   "outputs": [
    {
     "data": {
      "image/png": "[encoded data removed]",
      "text/plain": [
       "<Figure size 1008x576 with 2 Axes>"
      ]
     },
     "metadata": {
      "needs_background": "light"
     },
     "output_type": "display_data"
    }
   ],
   "source": [
    "# Graphique : diagramme en barres\n",
    "\n",
    "plt.figure( figsize=(14,8))\n",
    "\n",
    "plt.subplot(2,2,1)\n",
    "ca_ventes_annee[\"Chiffre d'affaires\"].plot(kind=\"bar\",color=['royalblue','orange','green'])\n",
    "plt.title(\"Chiffre d'affaires par année\")\n",
    "plt.ylim(100000, 7000000)\n",
    "plt.ylabel(\"Chiffre d'affaire en millions d'€\")\n",
    "plt.xticks(rotation=0)\n",
    "\n",
    "plt.subplot(2,2,2)\n",
    "ca_ventes_annee[\"Nombre de ventes\"].plot(kind=\"bar\",color=['royalblue','orange','green'])\n",
    "plt.title(\"Nombre de ventes par année\")\n",
    "plt.ylabel(\"Nombre de ventes \")\n",
    "plt.xticks(rotation=0)\n",
    "plt.tight_layout()\n",
    "plt.savefig(\"Chiffre d'affaires et nombre de ventes par année.png\")\n",
    "plt.show()\n"
   ]
  },
  {
   "cell_type": "markdown",
   "id": "55601ead",
   "metadata": {},
   "source": [
    "L'année 2022 est l'année qui a le plus important chiffre d'affaires ainsi que le plus grand nombre de ventes de livres en ligne.\n",
    "N'oublions pas que l'année 2021 a débuté en mars et que l'année 2023 s'est arrêtée en février."
   ]
  },
  {
   "cell_type": "markdown",
   "id": "02beba17",
   "metadata": {},
   "source": [
    "### _- Représentation graphique du chiffre d'affaires et du nombre de ventes par mois_"
   ]
  },
  {
   "cell_type": "code",
   "execution_count": 64,
   "id": "80cd3fdc",
   "metadata": {},
   "outputs": [
    {
     "name": "stdout",
     "output_type": "stream",
     "text": [
      "month-year\n",
      "2021-03   479397.32\n",
      "2021-04   483941.07\n",
      "2021-05   484483.30\n",
      "2021-06   486689.86\n",
      "2021-07   483140.52\n",
      "2021-08   490875.62\n",
      "2021-09   436874.04\n",
      "2021-10   448171.90\n",
      "2021-11   454379.70\n",
      "2021-12   522552.69\n",
      "2022-01   529024.16\n",
      "2022-02   525551.43\n",
      "2022-03   514803.34\n",
      "2022-04   508674.77\n",
      "2022-05   502180.45\n",
      "2022-06   508101.41\n",
      "2022-07   504517.93\n",
      "2022-08   503891.16\n",
      "2022-09   502928.95\n",
      "2022-10   499672.15\n",
      "2022-11   505029.83\n",
      "2022-12   508226.78\n",
      "2023-01   494884.20\n",
      "2023-02   487184.63\n",
      "Name: price, dtype: float64\n"
     ]
    }
   ],
   "source": [
    "# Décomposition en moyenne mobile\n",
    "# La moyenne mobile est un type de moyenne statistique utilisée pour analyser des séries ordonnées de données, le plus souvent\n",
    "# des séries temporelles, en supprimant les fluctuations transitoires de façon à en souligner les tendances à plus long terme. \n",
    "# Cette moyenne est dite mobile parce qu'elle est recalculée de façon continue, en utilisant à chaque calcul un sous-ensemble \n",
    "# d'éléments dans lequel un nouvel élément remplace le plus ancien ou s'ajoute au sous-ensemble.\n",
    "# C'est une moyenne qui au lieu d'être calculée sur l'ensemble des n valeurs d'un échantillonnage, est calculée tour à tour sur\n",
    "# chaque sous-ensemble de N valeurs consécutives (N ≤ n). Le sous-ensemble utilisé pour calculer chaque moyenne, parfois appelé \n",
    "#« fenêtre », « glisse » sur l'ensemble des données.\n",
    "# le calcul suivant montre les moyennes mobiles simples sur 3 valeurs.\n",
    "ca_mensuel = df_ventes.groupby(['month-year'])['price'].sum()\n",
    "MovingAverage = ca_mensuel.rolling(3, min_periods=2, center=True).mean()\n",
    "print(MovingAverage)"
   ]
  },
  {
   "cell_type": "code",
   "execution_count": 65,
   "id": "1db8e758",
   "metadata": {},
   "outputs": [
    {
     "data": {
      "image/png": "[encoded data removed]",
      "text/plain": [
       "<Figure size 1440x576 with 2 Axes>"
      ]
     },
     "metadata": {
      "needs_background": "light"
     },
     "output_type": "display_data"
    }
   ],
   "source": [
    "# Graphiques représentant le CA par mois avec la moyenne mobile et le nombre de ventes par mois\n",
    "plt.figure( figsize=(20,8))\n",
    "\n",
    "ca_ventes_mois = df_ventes.groupby(['month-year']).agg({'price':'sum', 'session_id':'count'})\n",
    "ca_ventes_mois.rename(columns={\"price\":\"CA\",\"session_id\":\"Nombre de ventes\"},inplace=True)\n",
    "\n",
    "plt.subplot(2,1,1)\n",
    "ca_ventes_mois[\"CA\"].plot(kind=\"bar\")\n",
    "plt.title(\"Chiffre d'affaires par mois\")\n",
    "plt.ylim(100000, 600000)\n",
    "plt.ylabel(\"Chiffre d'affaire en €\")\n",
    "plt.xticks(rotation=45)\n",
    "MovingAverage.plot(c='red')\n",
    "\n",
    "\n",
    "plt.subplot(2,1,2)\n",
    "ca_ventes_mois[\"Nombre de ventes\"].plot(kind=\"bar\", color='green')\n",
    "plt.title(\"Nombre de ventes par mois\")\n",
    "plt.ylabel(\"Nombre de ventes \")\n",
    "plt.xticks(rotation=0)\n",
    "plt.tight_layout()\n",
    "plt.savefig(\"Calcul du chiffre d'affaires pour le mois d'octobre 2021.png\")\n",
    "plt.show()"
   ]
  },
  {
   "cell_type": "markdown",
   "id": "9a68fc8b",
   "metadata": {},
   "source": [
    "On constate qu'il y a une chute du chiffre d'affaires et du nombre de ventes en octobre 2021 comme observé précédemment.\n"
   ]
  },
  {
   "cell_type": "markdown",
   "id": "508977fe",
   "metadata": {},
   "source": [
    "### _- Représentation graphique du chiffre d'affaires par jour_"
   ]
  },
  {
   "cell_type": "code",
   "execution_count": 66,
   "id": "685bb7b0",
   "metadata": {},
   "outputs": [
    {
     "data": {
      "text/plain": [
       "date\n",
       "2021-03-01   16575.86\n",
       "2021-03-02   15497.09\n",
       "2021-03-03   15198.69\n",
       "2021-03-04   15196.07\n",
       "2021-03-05   17471.37\n",
       "               ...   \n",
       "2023-02-24   15207.89\n",
       "2023-02-25   15761.25\n",
       "2023-02-26   16304.72\n",
       "2023-02-27   19170.81\n",
       "2023-02-28   18105.15\n",
       "Name: price, Length: 730, dtype: float64"
      ]
     },
     "execution_count": 66,
     "metadata": {},
     "output_type": "execute_result"
    }
   ],
   "source": [
    "# Data frame du chiffre d'affaires par jour\n",
    "ca_ventes_jour = df_ventes.groupby(df_ventes['date'].dt.date).sum()['price']\n",
    "ca_ventes_jour"
   ]
  },
  {
   "cell_type": "code",
   "execution_count": 67,
   "id": "d35a1fa0",
   "metadata": {},
   "outputs": [
    {
     "data": {
      "image/png": "[encoded data removed]",
      "text/plain": [
       "<Figure size 1152x504 with 1 Axes>"
      ]
     },
     "metadata": {
      "needs_background": "light"
     },
     "output_type": "display_data"
    }
   ],
   "source": [
    "# Utilisation de la fonction .dt.date pour n'extraire que la date\n",
    "\n",
    "# Décomposition en moyenne mobile\n",
    "# La moyenne mobile est un type de moyenne statistique utilisée pour analyser des séries ordonnées de données, le plus souvent\n",
    "# des séries temporelles, en supprimant les fluctuations transitoires de façon à en souligner les tendances à plus long terme. \n",
    "# Cette moyenne est dite mobile parce qu'elle est recalculée de façon continue, en utilisant à chaque calcul un sous-ensemble \n",
    "# d'éléments dans lequel un nouvel élément remplace le plus ancien ou s'ajoute au sous-ensemble.\n",
    "# C'est une moyenne qui au lieu d'être calculée sur l'ensemble des n valeurs d'un échantillonnage, est calculée tour à tour sur\n",
    "# chaque sous-ensemble de N valeurs consécutives (N ≤ n). Le sous-ensemble utilisé pour calculer chaque moyenne, parfois appelé \n",
    "#« fenêtre », « glisse » sur l'ensemble des données.\n",
    "# le calcul suivant montre les moyennes mobiles simples sur 3 valeurs.\n",
    "Moyenne_mobile_semaine = ca_ventes_jour.rolling(15,min_periods=8, center=True).mean()\n",
    "\n",
    "plt.figure(figsize=(16,7))\n",
    "ca_ventes_jour.plot(label=\"Journalier\", lw=1.2, style='--', alpha=0.45, ms=4,color='blue')\n",
    "Moyenne_mobile_semaine.plot(label=\"Moyenne mobile hebdomadaire\", lw=2.2, color='red', alpha=0.7)\n",
    "\n",
    "plt.legend()\n",
    "plt.grid()\n",
    "plt.ylabel(\"Chiffres d'affaires total(€)\")\n",
    "plt.savefig(\"Chiffre d'affaires par jour.png\")\n",
    "plt.title(\"Chiffre d'affaires par jour et moyenne mobile hebdomadaire\");\n"
   ]
  },
  {
   "cell_type": "markdown",
   "id": "0740a4df",
   "metadata": {},
   "source": [
    "On observe une baisse du chiffre d'affaire en octobre 2021, continuons nos analyses."
   ]
  },
  {
   "cell_type": "markdown",
   "id": "46af04a6",
   "metadata": {},
   "source": [
    "### _- Observation du mois d'octobre 2021_"
   ]
  },
  {
   "cell_type": "code",
   "execution_count": 68,
   "id": "d6ea561d",
   "metadata": {},
   "outputs": [
    {
     "data": {
      "text/html": [
       "<div>\n",
       "<style scoped>\n",
       "    .dataframe tbody tr th:only-of-type {\n",
       "        vertical-align: middle;\n",
       "    }\n",
       "\n",
       "    .dataframe tbody tr th {\n",
       "        vertical-align: top;\n",
       "    }\n",
       "\n",
       "    .dataframe thead th {\n",
       "        text-align: right;\n",
       "    }\n",
       "</style>\n",
       "<table border=\"1\" class=\"dataframe\">\n",
       "  <thead>\n",
       "    <tr style=\"text-align: right;\">\n",
       "      <th></th>\n",
       "      <th>day</th>\n",
       "      <th>catégorie 0</th>\n",
       "      <th>catégorie 1</th>\n",
       "      <th>catégorie 2</th>\n",
       "      <th>Nbre_ventes_0</th>\n",
       "      <th>Nbre_ventes_1</th>\n",
       "      <th>Nbre_ventes_2</th>\n",
       "    </tr>\n",
       "  </thead>\n",
       "  <tbody>\n",
       "    <tr>\n",
       "      <th>0</th>\n",
       "      <td>1</td>\n",
       "      <td>6950.50</td>\n",
       "      <td>7003.79</td>\n",
       "      <td>3104.05</td>\n",
       "      <td>663.00</td>\n",
       "      <td>344.00</td>\n",
       "      <td>38.00</td>\n",
       "    </tr>\n",
       "    <tr>\n",
       "      <th>1</th>\n",
       "      <td>2</td>\n",
       "      <td>7141.01</td>\n",
       "      <td>NaN</td>\n",
       "      <td>2041.12</td>\n",
       "      <td>661.00</td>\n",
       "      <td>NaN</td>\n",
       "      <td>28.00</td>\n",
       "    </tr>\n",
       "    <tr>\n",
       "      <th>2</th>\n",
       "      <td>3</td>\n",
       "      <td>6786.57</td>\n",
       "      <td>NaN</td>\n",
       "      <td>2206.48</td>\n",
       "      <td>648.00</td>\n",
       "      <td>NaN</td>\n",
       "      <td>31.00</td>\n",
       "    </tr>\n",
       "    <tr>\n",
       "      <th>3</th>\n",
       "      <td>4</td>\n",
       "      <td>6554.88</td>\n",
       "      <td>NaN</td>\n",
       "      <td>2746.08</td>\n",
       "      <td>603.00</td>\n",
       "      <td>NaN</td>\n",
       "      <td>38.00</td>\n",
       "    </tr>\n",
       "    <tr>\n",
       "      <th>4</th>\n",
       "      <td>5</td>\n",
       "      <td>6357.91</td>\n",
       "      <td>NaN</td>\n",
       "      <td>3032.55</td>\n",
       "      <td>594.00</td>\n",
       "      <td>NaN</td>\n",
       "      <td>38.00</td>\n",
       "    </tr>\n",
       "    <tr>\n",
       "      <th>5</th>\n",
       "      <td>6</td>\n",
       "      <td>7546.58</td>\n",
       "      <td>NaN</td>\n",
       "      <td>1944.11</td>\n",
       "      <td>702.00</td>\n",
       "      <td>NaN</td>\n",
       "      <td>26.00</td>\n",
       "    </tr>\n",
       "    <tr>\n",
       "      <th>6</th>\n",
       "      <td>7</td>\n",
       "      <td>6404.01</td>\n",
       "      <td>NaN</td>\n",
       "      <td>1787.07</td>\n",
       "      <td>597.00</td>\n",
       "      <td>NaN</td>\n",
       "      <td>26.00</td>\n",
       "    </tr>\n",
       "    <tr>\n",
       "      <th>7</th>\n",
       "      <td>8</td>\n",
       "      <td>7069.53</td>\n",
       "      <td>NaN</td>\n",
       "      <td>3137.82</td>\n",
       "      <td>669.00</td>\n",
       "      <td>NaN</td>\n",
       "      <td>44.00</td>\n",
       "    </tr>\n",
       "    <tr>\n",
       "      <th>8</th>\n",
       "      <td>9</td>\n",
       "      <td>6808.69</td>\n",
       "      <td>NaN</td>\n",
       "      <td>2616.67</td>\n",
       "      <td>640.00</td>\n",
       "      <td>NaN</td>\n",
       "      <td>35.00</td>\n",
       "    </tr>\n",
       "    <tr>\n",
       "      <th>9</th>\n",
       "      <td>10</td>\n",
       "      <td>6490.98</td>\n",
       "      <td>NaN</td>\n",
       "      <td>2334.67</td>\n",
       "      <td>600.00</td>\n",
       "      <td>NaN</td>\n",
       "      <td>29.00</td>\n",
       "    </tr>\n",
       "    <tr>\n",
       "      <th>10</th>\n",
       "      <td>11</td>\n",
       "      <td>7005.40</td>\n",
       "      <td>NaN</td>\n",
       "      <td>3225.16</td>\n",
       "      <td>642.00</td>\n",
       "      <td>NaN</td>\n",
       "      <td>42.00</td>\n",
       "    </tr>\n",
       "    <tr>\n",
       "      <th>11</th>\n",
       "      <td>12</td>\n",
       "      <td>6706.97</td>\n",
       "      <td>NaN</td>\n",
       "      <td>2264.18</td>\n",
       "      <td>633.00</td>\n",
       "      <td>NaN</td>\n",
       "      <td>30.00</td>\n",
       "    </tr>\n",
       "    <tr>\n",
       "      <th>12</th>\n",
       "      <td>13</td>\n",
       "      <td>6760.40</td>\n",
       "      <td>NaN</td>\n",
       "      <td>2666.82</td>\n",
       "      <td>633.00</td>\n",
       "      <td>NaN</td>\n",
       "      <td>36.00</td>\n",
       "    </tr>\n",
       "    <tr>\n",
       "      <th>13</th>\n",
       "      <td>14</td>\n",
       "      <td>6422.39</td>\n",
       "      <td>NaN</td>\n",
       "      <td>3047.39</td>\n",
       "      <td>606.00</td>\n",
       "      <td>NaN</td>\n",
       "      <td>40.00</td>\n",
       "    </tr>\n",
       "    <tr>\n",
       "      <th>14</th>\n",
       "      <td>15</td>\n",
       "      <td>6707.72</td>\n",
       "      <td>NaN</td>\n",
       "      <td>2701.75</td>\n",
       "      <td>634.00</td>\n",
       "      <td>NaN</td>\n",
       "      <td>38.00</td>\n",
       "    </tr>\n",
       "    <tr>\n",
       "      <th>15</th>\n",
       "      <td>16</td>\n",
       "      <td>6898.14</td>\n",
       "      <td>NaN</td>\n",
       "      <td>3330.88</td>\n",
       "      <td>661.00</td>\n",
       "      <td>NaN</td>\n",
       "      <td>45.00</td>\n",
       "    </tr>\n",
       "    <tr>\n",
       "      <th>16</th>\n",
       "      <td>17</td>\n",
       "      <td>6492.60</td>\n",
       "      <td>NaN</td>\n",
       "      <td>3065.38</td>\n",
       "      <td>625.00</td>\n",
       "      <td>NaN</td>\n",
       "      <td>44.00</td>\n",
       "    </tr>\n",
       "    <tr>\n",
       "      <th>17</th>\n",
       "      <td>18</td>\n",
       "      <td>6376.43</td>\n",
       "      <td>NaN</td>\n",
       "      <td>2707.29</td>\n",
       "      <td>608.00</td>\n",
       "      <td>NaN</td>\n",
       "      <td>37.00</td>\n",
       "    </tr>\n",
       "    <tr>\n",
       "      <th>18</th>\n",
       "      <td>19</td>\n",
       "      <td>5806.99</td>\n",
       "      <td>NaN</td>\n",
       "      <td>2816.00</td>\n",
       "      <td>567.00</td>\n",
       "      <td>NaN</td>\n",
       "      <td>37.00</td>\n",
       "    </tr>\n",
       "    <tr>\n",
       "      <th>19</th>\n",
       "      <td>20</td>\n",
       "      <td>5913.41</td>\n",
       "      <td>NaN</td>\n",
       "      <td>3118.42</td>\n",
       "      <td>555.00</td>\n",
       "      <td>NaN</td>\n",
       "      <td>42.00</td>\n",
       "    </tr>\n",
       "    <tr>\n",
       "      <th>20</th>\n",
       "      <td>21</td>\n",
       "      <td>6438.85</td>\n",
       "      <td>NaN</td>\n",
       "      <td>3132.94</td>\n",
       "      <td>610.00</td>\n",
       "      <td>NaN</td>\n",
       "      <td>43.00</td>\n",
       "    </tr>\n",
       "    <tr>\n",
       "      <th>21</th>\n",
       "      <td>22</td>\n",
       "      <td>6051.86</td>\n",
       "      <td>NaN</td>\n",
       "      <td>2416.00</td>\n",
       "      <td>572.00</td>\n",
       "      <td>NaN</td>\n",
       "      <td>35.00</td>\n",
       "    </tr>\n",
       "    <tr>\n",
       "      <th>22</th>\n",
       "      <td>23</td>\n",
       "      <td>5704.26</td>\n",
       "      <td>NaN</td>\n",
       "      <td>3206.38</td>\n",
       "      <td>555.00</td>\n",
       "      <td>NaN</td>\n",
       "      <td>47.00</td>\n",
       "    </tr>\n",
       "    <tr>\n",
       "      <th>23</th>\n",
       "      <td>24</td>\n",
       "      <td>6036.65</td>\n",
       "      <td>NaN</td>\n",
       "      <td>3886.54</td>\n",
       "      <td>584.00</td>\n",
       "      <td>NaN</td>\n",
       "      <td>44.00</td>\n",
       "    </tr>\n",
       "    <tr>\n",
       "      <th>24</th>\n",
       "      <td>25</td>\n",
       "      <td>5817.82</td>\n",
       "      <td>NaN</td>\n",
       "      <td>2258.22</td>\n",
       "      <td>545.00</td>\n",
       "      <td>NaN</td>\n",
       "      <td>32.00</td>\n",
       "    </tr>\n",
       "    <tr>\n",
       "      <th>25</th>\n",
       "      <td>26</td>\n",
       "      <td>6345.65</td>\n",
       "      <td>NaN</td>\n",
       "      <td>2685.78</td>\n",
       "      <td>592.00</td>\n",
       "      <td>NaN</td>\n",
       "      <td>36.00</td>\n",
       "    </tr>\n",
       "    <tr>\n",
       "      <th>26</th>\n",
       "      <td>27</td>\n",
       "      <td>5822.24</td>\n",
       "      <td>NaN</td>\n",
       "      <td>3967.29</td>\n",
       "      <td>530.00</td>\n",
       "      <td>NaN</td>\n",
       "      <td>49.00</td>\n",
       "    </tr>\n",
       "    <tr>\n",
       "      <th>27</th>\n",
       "      <td>28</td>\n",
       "      <td>5837.61</td>\n",
       "      <td>6317.99</td>\n",
       "      <td>2602.82</td>\n",
       "      <td>548.00</td>\n",
       "      <td>316.00</td>\n",
       "      <td>30.00</td>\n",
       "    </tr>\n",
       "    <tr>\n",
       "      <th>28</th>\n",
       "      <td>29</td>\n",
       "      <td>6410.57</td>\n",
       "      <td>6425.18</td>\n",
       "      <td>3617.88</td>\n",
       "      <td>595.00</td>\n",
       "      <td>326.00</td>\n",
       "      <td>50.00</td>\n",
       "    </tr>\n",
       "    <tr>\n",
       "      <th>29</th>\n",
       "      <td>30</td>\n",
       "      <td>5734.62</td>\n",
       "      <td>6753.69</td>\n",
       "      <td>2898.47</td>\n",
       "      <td>542.00</td>\n",
       "      <td>338.00</td>\n",
       "      <td>40.00</td>\n",
       "    </tr>\n",
       "    <tr>\n",
       "      <th>30</th>\n",
       "      <td>31</td>\n",
       "      <td>5924.07</td>\n",
       "      <td>7261.67</td>\n",
       "      <td>3219.38</td>\n",
       "      <td>555.00</td>\n",
       "      <td>342.00</td>\n",
       "      <td>41.00</td>\n",
       "    </tr>\n",
       "  </tbody>\n",
       "</table>\n",
       "</div>"
      ],
      "text/plain": [
       "    day  catégorie 0  catégorie 1  catégorie 2  Nbre_ventes_0  Nbre_ventes_1  \\\n",
       "0     1      6950.50      7003.79      3104.05         663.00         344.00   \n",
       "1     2      7141.01          NaN      2041.12         661.00            NaN   \n",
       "2     3      6786.57          NaN      2206.48         648.00            NaN   \n",
       "3     4      6554.88          NaN      2746.08         603.00            NaN   \n",
       "4     5      6357.91          NaN      3032.55         594.00            NaN   \n",
       "5     6      7546.58          NaN      1944.11         702.00            NaN   \n",
       "6     7      6404.01          NaN      1787.07         597.00            NaN   \n",
       "7     8      7069.53          NaN      3137.82         669.00            NaN   \n",
       "8     9      6808.69          NaN      2616.67         640.00            NaN   \n",
       "9    10      6490.98          NaN      2334.67         600.00            NaN   \n",
       "10   11      7005.40          NaN      3225.16         642.00            NaN   \n",
       "11   12      6706.97          NaN      2264.18         633.00            NaN   \n",
       "12   13      6760.40          NaN      2666.82         633.00            NaN   \n",
       "13   14      6422.39          NaN      3047.39         606.00            NaN   \n",
       "14   15      6707.72          NaN      2701.75         634.00            NaN   \n",
       "15   16      6898.14          NaN      3330.88         661.00            NaN   \n",
       "16   17      6492.60          NaN      3065.38         625.00            NaN   \n",
       "17   18      6376.43          NaN      2707.29         608.00            NaN   \n",
       "18   19      5806.99          NaN      2816.00         567.00            NaN   \n",
       "19   20      5913.41          NaN      3118.42         555.00            NaN   \n",
       "20   21      6438.85          NaN      3132.94         610.00            NaN   \n",
       "21   22      6051.86          NaN      2416.00         572.00            NaN   \n",
       "22   23      5704.26          NaN      3206.38         555.00            NaN   \n",
       "23   24      6036.65          NaN      3886.54         584.00            NaN   \n",
       "24   25      5817.82          NaN      2258.22         545.00            NaN   \n",
       "25   26      6345.65          NaN      2685.78         592.00            NaN   \n",
       "26   27      5822.24          NaN      3967.29         530.00            NaN   \n",
       "27   28      5837.61      6317.99      2602.82         548.00         316.00   \n",
       "28   29      6410.57      6425.18      3617.88         595.00         326.00   \n",
       "29   30      5734.62      6753.69      2898.47         542.00         338.00   \n",
       "30   31      5924.07      7261.67      3219.38         555.00         342.00   \n",
       "\n",
       "    Nbre_ventes_2  \n",
       "0           38.00  \n",
       "1           28.00  \n",
       "2           31.00  \n",
       "3           38.00  \n",
       "4           38.00  \n",
       "5           26.00  \n",
       "6           26.00  \n",
       "7           44.00  \n",
       "8           35.00  \n",
       "9           29.00  \n",
       "10          42.00  \n",
       "11          30.00  \n",
       "12          36.00  \n",
       "13          40.00  \n",
       "14          38.00  \n",
       "15          45.00  \n",
       "16          44.00  \n",
       "17          37.00  \n",
       "18          37.00  \n",
       "19          42.00  \n",
       "20          43.00  \n",
       "21          35.00  \n",
       "22          47.00  \n",
       "23          44.00  \n",
       "24          32.00  \n",
       "25          36.00  \n",
       "26          49.00  \n",
       "27          30.00  \n",
       "28          50.00  \n",
       "29          40.00  \n",
       "30          41.00  "
      ]
     },
     "execution_count": 68,
     "metadata": {},
     "output_type": "execute_result"
    }
   ],
   "source": [
    "# Création d'un nouveau data frame\n",
    "df_octobre_2021 = df_ventes.loc[(df_ventes['month-year'] == '2021-10'), ['day', 'price','catégorie']]\n",
    "df_octobre_2021 = df_octobre_2021.groupby(['day','catégorie']).agg({'price':['sum','count']}).reset_index()\n",
    "df_octobre_2021.columns = ['day', 'catégorie', 'ca', 'nombre']\n",
    "df_octobre_2021 = pd.pivot_table(df_octobre_2021, columns=[\"catégorie\"], index=[\"day\"]).reset_index()\n",
    "df_octobre_2021.columns = ['day', \"catégorie 0\", \"catégorie 1\", \"catégorie 2\", 'Nbre_ventes_0', 'Nbre_ventes_1', 'Nbre_ventes_2']\n",
    "df_octobre_2021\n"
   ]
  },
  {
   "cell_type": "code",
   "execution_count": 69,
   "id": "be1d83a3",
   "metadata": {
    "scrolled": true
   },
   "outputs": [
    {
     "data": {
      "image/png": "[encoded data removed]",
      "text/plain": [
       "<Figure size 3168x144 with 1 Axes>"
      ]
     },
     "metadata": {
      "needs_background": "light"
     },
     "output_type": "display_data"
    },
    {
     "data": {
      "image/png": "[encoded data removed]",
      "text/plain": [
       "<Figure size 3168x144 with 1 Axes>"
      ]
     },
     "metadata": {
      "needs_background": "light"
     },
     "output_type": "display_data"
    },
    {
     "data": {
      "image/png": "[encoded data removed]",
      "text/plain": [
       "<Figure size 3168x144 with 1 Axes>"
      ]
     },
     "metadata": {
      "needs_background": "light"
     },
     "output_type": "display_data"
    }
   ],
   "source": [
    "# Création d'un graphique à partir du nouveau dataframe df_octobre_2021\n",
    "\n",
    "for i, cat in enumerate([0,1,2]):\n",
    "    plt.figure(figsize=(44,2))\n",
    "    plt.subplot(1,2,2)\n",
    "    plt.bar(df_octobre_2021['day'], df_octobre_2021[f'Nbre_ventes_{cat}'], width=0.5, color='lightblue',edgecolor = \"grey\", linewidth = 1)\n",
    "    plt.xlabel('Jour octobre 2021')\n",
    "    plt.ylabel(f'cat {cat}')\n",
    "    plt.title(\"Nombre de ventes journalières par catégorie pour le mois d'octobre 2021\")\n",
    "    plt.show()"
   ]
  },
  {
   "cell_type": "markdown",
   "id": "bfbac02b",
   "metadata": {},
   "source": [
    "Il n'y a pas eu de ventes dans la catégorie 1 entre le 2 et le 27 octobre, il y a peut-être eu un problème lors de l'extraction des données (à vérifier)."
   ]
  },
  {
   "cell_type": "markdown",
   "id": "67a68038",
   "metadata": {},
   "source": [
    "## <span style='color:green'>2 - Zoom sur les références</span>"
   ]
  },
  {
   "cell_type": "markdown",
   "id": "6407f69a",
   "metadata": {},
   "source": [
    "### _- Tops & flops par chiffre d'affaires_"
   ]
  },
  {
   "cell_type": "code",
   "execution_count": 70,
   "id": "978fba91",
   "metadata": {},
   "outputs": [
    {
     "data": {
      "text/html": [
       "<div>\n",
       "<style scoped>\n",
       "    .dataframe tbody tr th:only-of-type {\n",
       "        vertical-align: middle;\n",
       "    }\n",
       "\n",
       "    .dataframe tbody tr th {\n",
       "        vertical-align: top;\n",
       "    }\n",
       "\n",
       "    .dataframe thead th {\n",
       "        text-align: right;\n",
       "    }\n",
       "</style>\n",
       "<table border=\"1\" class=\"dataframe\">\n",
       "  <thead>\n",
       "    <tr style=\"text-align: right;\">\n",
       "      <th></th>\n",
       "      <th></th>\n",
       "      <th>Chiffre d'affaires</th>\n",
       "    </tr>\n",
       "    <tr>\n",
       "      <th>id_prod</th>\n",
       "      <th>catégorie</th>\n",
       "      <th></th>\n",
       "    </tr>\n",
       "  </thead>\n",
       "  <tbody>\n",
       "    <tr>\n",
       "      <th>2_159</th>\n",
       "      <th>2</th>\n",
       "      <td>94893.50</td>\n",
       "    </tr>\n",
       "    <tr>\n",
       "      <th>2_135</th>\n",
       "      <th>2</th>\n",
       "      <td>69334.95</td>\n",
       "    </tr>\n",
       "    <tr>\n",
       "      <th>2_112</th>\n",
       "      <th>2</th>\n",
       "      <td>65407.76</td>\n",
       "    </tr>\n",
       "    <tr>\n",
       "      <th>2_102</th>\n",
       "      <th>2</th>\n",
       "      <td>60736.78</td>\n",
       "    </tr>\n",
       "    <tr>\n",
       "      <th>2_209</th>\n",
       "      <th>2</th>\n",
       "      <td>56971.86</td>\n",
       "    </tr>\n",
       "    <tr>\n",
       "      <th>1_395</th>\n",
       "      <th>1</th>\n",
       "      <td>54356.25</td>\n",
       "    </tr>\n",
       "    <tr>\n",
       "      <th>1_369</th>\n",
       "      <th>1</th>\n",
       "      <td>54025.48</td>\n",
       "    </tr>\n",
       "    <tr>\n",
       "      <th>2_110</th>\n",
       "      <th>2</th>\n",
       "      <td>53846.25</td>\n",
       "    </tr>\n",
       "    <tr>\n",
       "      <th>2_39</th>\n",
       "      <th>2</th>\n",
       "      <td>53060.85</td>\n",
       "    </tr>\n",
       "    <tr>\n",
       "      <th>2_166</th>\n",
       "      <th>2</th>\n",
       "      <td>52449.12</td>\n",
       "    </tr>\n",
       "  </tbody>\n",
       "</table>\n",
       "</div>"
      ],
      "text/plain": [
       "                   Chiffre d'affaires\n",
       "id_prod catégorie                    \n",
       "2_159   2                    94893.50\n",
       "2_135   2                    69334.95\n",
       "2_112   2                    65407.76\n",
       "2_102   2                    60736.78\n",
       "2_209   2                    56971.86\n",
       "1_395   1                    54356.25\n",
       "1_369   1                    54025.48\n",
       "2_110   2                    53846.25\n",
       "2_39    2                    53060.85\n",
       "2_166   2                    52449.12"
      ]
     },
     "execution_count": 70,
     "metadata": {},
     "output_type": "execute_result"
    }
   ],
   "source": [
    "# Tops\n",
    "ca_top = df_ventes.groupby(['id_prod','catégorie']).agg({'price':'sum'})\n",
    "ca_top.rename(columns={\"price\":\"Chiffre d'affaires\"},inplace=True)\n",
    "ca_top.sort_values(by=[\"Chiffre d'affaires\"], ascending = False).head(10)"
   ]
  },
  {
   "cell_type": "code",
   "execution_count": 71,
   "id": "a268e279",
   "metadata": {},
   "outputs": [
    {
     "data": {
      "text/html": [
       "<div>\n",
       "<style scoped>\n",
       "    .dataframe tbody tr th:only-of-type {\n",
       "        vertical-align: middle;\n",
       "    }\n",
       "\n",
       "    .dataframe tbody tr th {\n",
       "        vertical-align: top;\n",
       "    }\n",
       "\n",
       "    .dataframe thead th {\n",
       "        text-align: right;\n",
       "    }\n",
       "</style>\n",
       "<table border=\"1\" class=\"dataframe\">\n",
       "  <thead>\n",
       "    <tr style=\"text-align: right;\">\n",
       "      <th></th>\n",
       "      <th></th>\n",
       "      <th>Chiffre d'affaires</th>\n",
       "    </tr>\n",
       "    <tr>\n",
       "      <th>id_prod</th>\n",
       "      <th>catégorie</th>\n",
       "      <th></th>\n",
       "    </tr>\n",
       "  </thead>\n",
       "  <tbody>\n",
       "    <tr>\n",
       "      <th>0_1539</th>\n",
       "      <th>0</th>\n",
       "      <td>0.99</td>\n",
       "    </tr>\n",
       "    <tr>\n",
       "      <th>0_1284</th>\n",
       "      <th>0</th>\n",
       "      <td>1.38</td>\n",
       "    </tr>\n",
       "    <tr>\n",
       "      <th>0_1653</th>\n",
       "      <th>0</th>\n",
       "      <td>1.98</td>\n",
       "    </tr>\n",
       "    <tr>\n",
       "      <th>0_541</th>\n",
       "      <th>0</th>\n",
       "      <td>1.99</td>\n",
       "    </tr>\n",
       "    <tr>\n",
       "      <th>0_807</th>\n",
       "      <th>0</th>\n",
       "      <td>1.99</td>\n",
       "    </tr>\n",
       "    <tr>\n",
       "      <th>0_1601</th>\n",
       "      <th>0</th>\n",
       "      <td>1.99</td>\n",
       "    </tr>\n",
       "    <tr>\n",
       "      <th>0_1728</th>\n",
       "      <th>0</th>\n",
       "      <td>2.27</td>\n",
       "    </tr>\n",
       "    <tr>\n",
       "      <th>0_1498</th>\n",
       "      <th>0</th>\n",
       "      <td>2.48</td>\n",
       "    </tr>\n",
       "    <tr>\n",
       "      <th>0_898</th>\n",
       "      <th>0</th>\n",
       "      <td>2.54</td>\n",
       "    </tr>\n",
       "    <tr>\n",
       "      <th>0_1840</th>\n",
       "      <th>0</th>\n",
       "      <td>2.56</td>\n",
       "    </tr>\n",
       "  </tbody>\n",
       "</table>\n",
       "</div>"
      ],
      "text/plain": [
       "                   Chiffre d'affaires\n",
       "id_prod catégorie                    \n",
       "0_1539  0                        0.99\n",
       "0_1284  0                        1.38\n",
       "0_1653  0                        1.98\n",
       "0_541   0                        1.99\n",
       "0_807   0                        1.99\n",
       "0_1601  0                        1.99\n",
       "0_1728  0                        2.27\n",
       "0_1498  0                        2.48\n",
       "0_898   0                        2.54\n",
       "0_1840  0                        2.56"
      ]
     },
     "execution_count": 71,
     "metadata": {},
     "output_type": "execute_result"
    }
   ],
   "source": [
    "# Flops\n",
    "ca_flop = df_ventes.groupby(['id_prod','catégorie']).agg({'price':'sum'})\n",
    "ca_flop.rename(columns={\"price\":\"Chiffre d'affaires\"},inplace=True)\n",
    "ca_flop.sort_values(by=[\"Chiffre d'affaires\"], ascending = [True]).head(10)"
   ]
  },
  {
   "cell_type": "markdown",
   "id": "c0c65c80",
   "metadata": {},
   "source": [
    "- Les tops des livres mis en vente en terme de chiffre d'affaires appartiennent à la catégorie 2 et 1,\n",
    "- Les flops des livres mis en vente en terme de chiffre d'affaires appartiennent à la catégorie 0."
   ]
  },
  {
   "cell_type": "markdown",
   "id": "8d2610f0",
   "metadata": {},
   "source": [
    "### _- Tops et flops en nombre de ventes_"
   ]
  },
  {
   "cell_type": "code",
   "execution_count": 72,
   "id": "6d882888",
   "metadata": {},
   "outputs": [
    {
     "data": {
      "text/html": [
       "<div>\n",
       "<style scoped>\n",
       "    .dataframe tbody tr th:only-of-type {\n",
       "        vertical-align: middle;\n",
       "    }\n",
       "\n",
       "    .dataframe tbody tr th {\n",
       "        vertical-align: top;\n",
       "    }\n",
       "\n",
       "    .dataframe thead th {\n",
       "        text-align: right;\n",
       "    }\n",
       "</style>\n",
       "<table border=\"1\" class=\"dataframe\">\n",
       "  <thead>\n",
       "    <tr style=\"text-align: right;\">\n",
       "      <th></th>\n",
       "      <th></th>\n",
       "      <th>Nombre de ventes</th>\n",
       "    </tr>\n",
       "    <tr>\n",
       "      <th>id_prod</th>\n",
       "      <th>catégorie</th>\n",
       "      <th></th>\n",
       "    </tr>\n",
       "  </thead>\n",
       "  <tbody>\n",
       "    <tr>\n",
       "      <th>1_369</th>\n",
       "      <th>1</th>\n",
       "      <td>2252</td>\n",
       "    </tr>\n",
       "    <tr>\n",
       "      <th>1_417</th>\n",
       "      <th>1</th>\n",
       "      <td>2189</td>\n",
       "    </tr>\n",
       "    <tr>\n",
       "      <th>1_414</th>\n",
       "      <th>1</th>\n",
       "      <td>2180</td>\n",
       "    </tr>\n",
       "    <tr>\n",
       "      <th>1_498</th>\n",
       "      <th>1</th>\n",
       "      <td>2128</td>\n",
       "    </tr>\n",
       "    <tr>\n",
       "      <th>1_425</th>\n",
       "      <th>1</th>\n",
       "      <td>2096</td>\n",
       "    </tr>\n",
       "    <tr>\n",
       "      <th>1_403</th>\n",
       "      <th>1</th>\n",
       "      <td>1960</td>\n",
       "    </tr>\n",
       "    <tr>\n",
       "      <th>1_412</th>\n",
       "      <th>1</th>\n",
       "      <td>1951</td>\n",
       "    </tr>\n",
       "    <tr>\n",
       "      <th>1_413</th>\n",
       "      <th>1</th>\n",
       "      <td>1945</td>\n",
       "    </tr>\n",
       "    <tr>\n",
       "      <th>1_406</th>\n",
       "      <th>1</th>\n",
       "      <td>1939</td>\n",
       "    </tr>\n",
       "    <tr>\n",
       "      <th>1_407</th>\n",
       "      <th>1</th>\n",
       "      <td>1935</td>\n",
       "    </tr>\n",
       "  </tbody>\n",
       "</table>\n",
       "</div>"
      ],
      "text/plain": [
       "                   Nombre de ventes\n",
       "id_prod catégorie                  \n",
       "1_369   1                      2252\n",
       "1_417   1                      2189\n",
       "1_414   1                      2180\n",
       "1_498   1                      2128\n",
       "1_425   1                      2096\n",
       "1_403   1                      1960\n",
       "1_412   1                      1951\n",
       "1_413   1                      1945\n",
       "1_406   1                      1939\n",
       "1_407   1                      1935"
      ]
     },
     "execution_count": 72,
     "metadata": {},
     "output_type": "execute_result"
    }
   ],
   "source": [
    "# Tops\n",
    "top_ventes = df_ventes.groupby(['id_prod','catégorie']).agg({'id_prod':'count'})\n",
    "top_ventes.rename(columns={\"id_prod\":\"Nombre de ventes\"},inplace=True)\n",
    "top_ventes.sort_values(by=[\"Nombre de ventes\"], ascending = [False]).head(10)\n"
   ]
  },
  {
   "cell_type": "code",
   "execution_count": 73,
   "id": "7ba08646",
   "metadata": {},
   "outputs": [
    {
     "data": {
      "text/html": [
       "<div>\n",
       "<style scoped>\n",
       "    .dataframe tbody tr th:only-of-type {\n",
       "        vertical-align: middle;\n",
       "    }\n",
       "\n",
       "    .dataframe tbody tr th {\n",
       "        vertical-align: top;\n",
       "    }\n",
       "\n",
       "    .dataframe thead th {\n",
       "        text-align: right;\n",
       "    }\n",
       "</style>\n",
       "<table border=\"1\" class=\"dataframe\">\n",
       "  <thead>\n",
       "    <tr style=\"text-align: right;\">\n",
       "      <th></th>\n",
       "      <th></th>\n",
       "      <th>Nombre de ventes</th>\n",
       "    </tr>\n",
       "    <tr>\n",
       "      <th>id_prod</th>\n",
       "      <th>catégorie</th>\n",
       "      <th></th>\n",
       "    </tr>\n",
       "  </thead>\n",
       "  <tbody>\n",
       "    <tr>\n",
       "      <th>0_549</th>\n",
       "      <th>0</th>\n",
       "      <td>1</td>\n",
       "    </tr>\n",
       "    <tr>\n",
       "      <th>0_2201</th>\n",
       "      <th>0</th>\n",
       "      <td>1</td>\n",
       "    </tr>\n",
       "    <tr>\n",
       "      <th>2_23</th>\n",
       "      <th>2</th>\n",
       "      <td>1</td>\n",
       "    </tr>\n",
       "    <tr>\n",
       "      <th>0_1284</th>\n",
       "      <th>0</th>\n",
       "      <td>1</td>\n",
       "    </tr>\n",
       "    <tr>\n",
       "      <th>0_1683</th>\n",
       "      <th>0</th>\n",
       "      <td>1</td>\n",
       "    </tr>\n",
       "    <tr>\n",
       "      <th>0_833</th>\n",
       "      <th>0</th>\n",
       "      <td>1</td>\n",
       "    </tr>\n",
       "    <tr>\n",
       "      <th>2_98</th>\n",
       "      <th>2</th>\n",
       "      <td>1</td>\n",
       "    </tr>\n",
       "    <tr>\n",
       "      <th>0_1633</th>\n",
       "      <th>0</th>\n",
       "      <td>1</td>\n",
       "    </tr>\n",
       "    <tr>\n",
       "      <th>0_1601</th>\n",
       "      <th>0</th>\n",
       "      <td>1</td>\n",
       "    </tr>\n",
       "    <tr>\n",
       "      <th>2_81</th>\n",
       "      <th>2</th>\n",
       "      <td>1</td>\n",
       "    </tr>\n",
       "  </tbody>\n",
       "</table>\n",
       "</div>"
      ],
      "text/plain": [
       "                   Nombre de ventes\n",
       "id_prod catégorie                  \n",
       "0_549   0                         1\n",
       "0_2201  0                         1\n",
       "2_23    2                         1\n",
       "0_1284  0                         1\n",
       "0_1683  0                         1\n",
       "0_833   0                         1\n",
       "2_98    2                         1\n",
       "0_1633  0                         1\n",
       "0_1601  0                         1\n",
       "2_81    2                         1"
      ]
     },
     "execution_count": 73,
     "metadata": {},
     "output_type": "execute_result"
    }
   ],
   "source": [
    "# Flops\n",
    "flop_ventes = df_ventes.groupby(['id_prod','catégorie']).agg({'id_prod':'count'})\n",
    "flop_ventes.rename(columns={\"id_prod\":\"Nombre de ventes\"},inplace=True)\n",
    "flop_ventes.sort_values(by=[\"Nombre de ventes\"], ascending = [True]).head(10)\n"
   ]
  },
  {
   "cell_type": "markdown",
   "id": "b05012f4",
   "metadata": {},
   "source": [
    "- Les tops des livres mis en vente en terme de nombre de ventes appartiennent à la catégorie 1,\n",
    "- Les flops des livres mis en vente en terme de nombre de ventes appartiennent aux catégories 0 et 2.\n",
    "\n"
   ]
  },
  {
   "cell_type": "markdown",
   "id": "4aae3d2d",
   "metadata": {},
   "source": [
    "### _- Tops & flops par catégorie (en chiffre d'affaires)_"
   ]
  },
  {
   "cell_type": "code",
   "execution_count": 74,
   "id": "8122a3d3",
   "metadata": {},
   "outputs": [
    {
     "data": {
      "text/html": [
       "<div>\n",
       "<style scoped>\n",
       "    .dataframe tbody tr th:only-of-type {\n",
       "        vertical-align: middle;\n",
       "    }\n",
       "\n",
       "    .dataframe tbody tr th {\n",
       "        vertical-align: top;\n",
       "    }\n",
       "\n",
       "    .dataframe thead th {\n",
       "        text-align: right;\n",
       "    }\n",
       "</style>\n",
       "<table border=\"1\" class=\"dataframe\">\n",
       "  <thead>\n",
       "    <tr style=\"text-align: right;\">\n",
       "      <th></th>\n",
       "      <th>catégorie</th>\n",
       "      <th>id_prod</th>\n",
       "      <th>Chiffre d'affaires</th>\n",
       "    </tr>\n",
       "  </thead>\n",
       "  <tbody>\n",
       "    <tr>\n",
       "      <th>487</th>\n",
       "      <td>0</td>\n",
       "      <td>0_1441</td>\n",
       "      <td>23452.65</td>\n",
       "    </tr>\n",
       "    <tr>\n",
       "      <th>465</th>\n",
       "      <td>0</td>\n",
       "      <td>0_1421</td>\n",
       "      <td>23008.49</td>\n",
       "    </tr>\n",
       "    <tr>\n",
       "      <th>2620</th>\n",
       "      <td>1</td>\n",
       "      <td>1_395</td>\n",
       "      <td>54356.25</td>\n",
       "    </tr>\n",
       "    <tr>\n",
       "      <th>2592</th>\n",
       "      <td>1</td>\n",
       "      <td>1_369</td>\n",
       "      <td>54025.48</td>\n",
       "    </tr>\n",
       "    <tr>\n",
       "      <th>3097</th>\n",
       "      <td>2</td>\n",
       "      <td>2_159</td>\n",
       "      <td>94893.50</td>\n",
       "    </tr>\n",
       "    <tr>\n",
       "      <th>3071</th>\n",
       "      <td>2</td>\n",
       "      <td>2_135</td>\n",
       "      <td>69334.95</td>\n",
       "    </tr>\n",
       "  </tbody>\n",
       "</table>\n",
       "</div>"
      ],
      "text/plain": [
       "      catégorie id_prod  Chiffre d'affaires\n",
       "487           0  0_1441            23452.65\n",
       "465           0  0_1421            23008.49\n",
       "2620          1   1_395            54356.25\n",
       "2592          1   1_369            54025.48\n",
       "3097          2   2_159            94893.50\n",
       "3071          2   2_135            69334.95"
      ]
     },
     "execution_count": 74,
     "metadata": {},
     "output_type": "execute_result"
    }
   ],
   "source": [
    "# Tops des ventes par catégorie \n",
    "top_ref_categorie= df_ventes.groupby([\"catégorie\",\"id_prod\"]).agg({'price':'sum'}).reset_index()\n",
    "top_ref_categorie.rename(columns={\"price\":\"Chiffre d'affaires\"},inplace=True)\n",
    "top_ref_categorie.loc[top_ref_categorie.groupby('catégorie')[\"Chiffre d'affaires\"].nlargest(2).index.get_level_values(1)]"
   ]
  },
  {
   "cell_type": "code",
   "execution_count": 75,
   "id": "672be592",
   "metadata": {},
   "outputs": [
    {
     "data": {
      "text/html": [
       "<div>\n",
       "<style scoped>\n",
       "    .dataframe tbody tr th:only-of-type {\n",
       "        vertical-align: middle;\n",
       "    }\n",
       "\n",
       "    .dataframe tbody tr th {\n",
       "        vertical-align: top;\n",
       "    }\n",
       "\n",
       "    .dataframe thead th {\n",
       "        text-align: right;\n",
       "    }\n",
       "</style>\n",
       "<table border=\"1\" class=\"dataframe\">\n",
       "  <thead>\n",
       "    <tr style=\"text-align: right;\">\n",
       "      <th></th>\n",
       "      <th>catégorie</th>\n",
       "      <th>id_prod</th>\n",
       "      <th>Chiffre d'affaires</th>\n",
       "    </tr>\n",
       "  </thead>\n",
       "  <tbody>\n",
       "    <tr>\n",
       "      <th>595</th>\n",
       "      <td>0</td>\n",
       "      <td>0_1539</td>\n",
       "      <td>0.99</td>\n",
       "    </tr>\n",
       "    <tr>\n",
       "      <th>313</th>\n",
       "      <td>0</td>\n",
       "      <td>0_1284</td>\n",
       "      <td>1.38</td>\n",
       "    </tr>\n",
       "    <tr>\n",
       "      <th>2649</th>\n",
       "      <td>1</td>\n",
       "      <td>1_420</td>\n",
       "      <td>14.24</td>\n",
       "    </tr>\n",
       "    <tr>\n",
       "      <th>2432</th>\n",
       "      <td>1</td>\n",
       "      <td>1_224</td>\n",
       "      <td>19.80</td>\n",
       "    </tr>\n",
       "    <tr>\n",
       "      <th>3248</th>\n",
       "      <td>2</td>\n",
       "      <td>2_81</td>\n",
       "      <td>86.99</td>\n",
       "    </tr>\n",
       "    <tr>\n",
       "      <th>3176</th>\n",
       "      <td>2</td>\n",
       "      <td>2_23</td>\n",
       "      <td>115.99</td>\n",
       "    </tr>\n",
       "  </tbody>\n",
       "</table>\n",
       "</div>"
      ],
      "text/plain": [
       "      catégorie id_prod  Chiffre d'affaires\n",
       "595           0  0_1539                0.99\n",
       "313           0  0_1284                1.38\n",
       "2649          1   1_420               14.24\n",
       "2432          1   1_224               19.80\n",
       "3248          2    2_81               86.99\n",
       "3176          2    2_23              115.99"
      ]
     },
     "execution_count": 75,
     "metadata": {},
     "output_type": "execute_result"
    }
   ],
   "source": [
    "# Flops des ventes par catégorie \n",
    "top_ref_categorie= df_ventes.groupby([\"catégorie\",\"id_prod\"]).agg({'price':'sum'}).reset_index()\n",
    "top_ref_categorie.rename(columns={\"price\":\"Chiffre d'affaires\"},inplace=True)\n",
    "top_ref_categorie.loc[top_ref_categorie.groupby('catégorie')[\"Chiffre d'affaires\"].nsmallest(2).index.get_level_values(1)]"
   ]
  },
  {
   "cell_type": "markdown",
   "id": "6437b620",
   "metadata": {},
   "source": [
    "### _- Tops & flops par catégorie d'âge (en chiffre d'affaires)_"
   ]
  },
  {
   "cell_type": "code",
   "execution_count": 76,
   "id": "1a1e3779",
   "metadata": {},
   "outputs": [
    {
     "data": {
      "text/html": [
       "<div>\n",
       "<style scoped>\n",
       "    .dataframe tbody tr th:only-of-type {\n",
       "        vertical-align: middle;\n",
       "    }\n",
       "\n",
       "    .dataframe tbody tr th {\n",
       "        vertical-align: top;\n",
       "    }\n",
       "\n",
       "    .dataframe thead th {\n",
       "        text-align: right;\n",
       "    }\n",
       "</style>\n",
       "<table border=\"1\" class=\"dataframe\">\n",
       "  <thead>\n",
       "    <tr style=\"text-align: right;\">\n",
       "      <th></th>\n",
       "      <th>id_prod</th>\n",
       "      <th>age_range</th>\n",
       "      <th>Chiffre d'affaires</th>\n",
       "    </tr>\n",
       "  </thead>\n",
       "  <tbody>\n",
       "    <tr>\n",
       "      <th>15355</th>\n",
       "      <td>2_135</td>\n",
       "      <td>18 à 30 ans</td>\n",
       "      <td>57261.70</td>\n",
       "    </tr>\n",
       "    <tr>\n",
       "      <th>15230</th>\n",
       "      <td>2_112</td>\n",
       "      <td>18 à 30 ans</td>\n",
       "      <td>56083.10</td>\n",
       "    </tr>\n",
       "    <tr>\n",
       "      <th>15486</th>\n",
       "      <td>2_159</td>\n",
       "      <td>30 à 40 ans</td>\n",
       "      <td>21168.55</td>\n",
       "    </tr>\n",
       "    <tr>\n",
       "      <th>12961</th>\n",
       "      <td>1_369</td>\n",
       "      <td>30 à 40 ans</td>\n",
       "      <td>10243.73</td>\n",
       "    </tr>\n",
       "    <tr>\n",
       "      <th>15487</th>\n",
       "      <td>2_159</td>\n",
       "      <td>40 à 50 ans</td>\n",
       "      <td>24818.30</td>\n",
       "    </tr>\n",
       "    <tr>\n",
       "      <th>12962</th>\n",
       "      <td>1_369</td>\n",
       "      <td>40 à 50 ans</td>\n",
       "      <td>12882.63</td>\n",
       "    </tr>\n",
       "    <tr>\n",
       "      <th>13103</th>\n",
       "      <td>1_395</td>\n",
       "      <td>50 à 60 ans</td>\n",
       "      <td>14002.17</td>\n",
       "    </tr>\n",
       "    <tr>\n",
       "      <th>15488</th>\n",
       "      <td>2_159</td>\n",
       "      <td>50 à 60 ans</td>\n",
       "      <td>13139.10</td>\n",
       "    </tr>\n",
       "    <tr>\n",
       "      <th>12964</th>\n",
       "      <td>1_369</td>\n",
       "      <td>60 ans et plus</td>\n",
       "      <td>12882.63</td>\n",
       "    </tr>\n",
       "    <tr>\n",
       "      <th>13214</th>\n",
       "      <td>1_414</td>\n",
       "      <td>60 ans et plus</td>\n",
       "      <td>12177.13</td>\n",
       "    </tr>\n",
       "  </tbody>\n",
       "</table>\n",
       "</div>"
      ],
      "text/plain": [
       "      id_prod       age_range  Chiffre d'affaires\n",
       "15355   2_135     18 à 30 ans            57261.70\n",
       "15230   2_112     18 à 30 ans            56083.10\n",
       "15486   2_159     30 à 40 ans            21168.55\n",
       "12961   1_369     30 à 40 ans            10243.73\n",
       "15487   2_159     40 à 50 ans            24818.30\n",
       "12962   1_369     40 à 50 ans            12882.63\n",
       "13103   1_395     50 à 60 ans            14002.17\n",
       "15488   2_159     50 à 60 ans            13139.10\n",
       "12964   1_369  60 ans et plus            12882.63\n",
       "13214   1_414  60 ans et plus            12177.13"
      ]
     },
     "execution_count": 76,
     "metadata": {},
     "output_type": "execute_result"
    }
   ],
   "source": [
    "# Tops des ventes par catégorie d'âge\n",
    "top_ref_sex= df_ventes.groupby([\"id_prod\",'age_range']).agg({'price':'sum'}).reset_index()\n",
    "top_ref_sex.rename(columns={\"price\":\"Chiffre d'affaires\"},inplace=True)\n",
    "top_ref_sex.loc[top_ref_sex.groupby('age_range')[\"Chiffre d'affaires\"].nlargest(2).index.get_level_values(1)]\n"
   ]
  },
  {
   "cell_type": "code",
   "execution_count": 77,
   "id": "e7560130",
   "metadata": {},
   "outputs": [
    {
     "data": {
      "text/html": [
       "<div>\n",
       "<style scoped>\n",
       "    .dataframe tbody tr th:only-of-type {\n",
       "        vertical-align: middle;\n",
       "    }\n",
       "\n",
       "    .dataframe tbody tr th {\n",
       "        vertical-align: top;\n",
       "    }\n",
       "\n",
       "    .dataframe thead th {\n",
       "        text-align: right;\n",
       "    }\n",
       "</style>\n",
       "<table border=\"1\" class=\"dataframe\">\n",
       "  <thead>\n",
       "    <tr style=\"text-align: right;\">\n",
       "      <th></th>\n",
       "      <th>id_prod</th>\n",
       "      <th>age_range</th>\n",
       "      <th>Chiffre d'affaires</th>\n",
       "    </tr>\n",
       "  </thead>\n",
       "  <tbody>\n",
       "    <tr>\n",
       "      <th>10</th>\n",
       "      <td>0_10</td>\n",
       "      <td>18 à 30 ans</td>\n",
       "      <td>0.00</td>\n",
       "    </tr>\n",
       "    <tr>\n",
       "      <th>15</th>\n",
       "      <td>0_100</td>\n",
       "      <td>18 à 30 ans</td>\n",
       "      <td>0.00</td>\n",
       "    </tr>\n",
       "    <tr>\n",
       "      <th>16</th>\n",
       "      <td>0_100</td>\n",
       "      <td>30 à 40 ans</td>\n",
       "      <td>0.00</td>\n",
       "    </tr>\n",
       "    <tr>\n",
       "      <th>116</th>\n",
       "      <td>0_102</td>\n",
       "      <td>30 à 40 ans</td>\n",
       "      <td>0.00</td>\n",
       "    </tr>\n",
       "    <tr>\n",
       "      <th>52</th>\n",
       "      <td>0_1006</td>\n",
       "      <td>40 à 50 ans</td>\n",
       "      <td>0.00</td>\n",
       "    </tr>\n",
       "    <tr>\n",
       "      <th>142</th>\n",
       "      <td>0_1024</td>\n",
       "      <td>40 à 50 ans</td>\n",
       "      <td>0.00</td>\n",
       "    </tr>\n",
       "    <tr>\n",
       "      <th>18</th>\n",
       "      <td>0_100</td>\n",
       "      <td>50 à 60 ans</td>\n",
       "      <td>0.00</td>\n",
       "    </tr>\n",
       "    <tr>\n",
       "      <th>48</th>\n",
       "      <td>0_1005</td>\n",
       "      <td>50 à 60 ans</td>\n",
       "      <td>0.00</td>\n",
       "    </tr>\n",
       "    <tr>\n",
       "      <th>19</th>\n",
       "      <td>0_100</td>\n",
       "      <td>60 ans et plus</td>\n",
       "      <td>0.00</td>\n",
       "    </tr>\n",
       "    <tr>\n",
       "      <th>49</th>\n",
       "      <td>0_1005</td>\n",
       "      <td>60 ans et plus</td>\n",
       "      <td>0.00</td>\n",
       "    </tr>\n",
       "  </tbody>\n",
       "</table>\n",
       "</div>"
      ],
      "text/plain": [
       "    id_prod       age_range  Chiffre d'affaires\n",
       "10     0_10     18 à 30 ans                0.00\n",
       "15    0_100     18 à 30 ans                0.00\n",
       "16    0_100     30 à 40 ans                0.00\n",
       "116   0_102     30 à 40 ans                0.00\n",
       "52   0_1006     40 à 50 ans                0.00\n",
       "142  0_1024     40 à 50 ans                0.00\n",
       "18    0_100     50 à 60 ans                0.00\n",
       "48   0_1005     50 à 60 ans                0.00\n",
       "19    0_100  60 ans et plus                0.00\n",
       "49   0_1005  60 ans et plus                0.00"
      ]
     },
     "execution_count": 77,
     "metadata": {},
     "output_type": "execute_result"
    }
   ],
   "source": [
    "# Flops des ventes par catégorie d'âge\n",
    "top_ref_sex= df_ventes.groupby([\"id_prod\",'age_range']).agg({'price':'sum'}).reset_index()\n",
    "top_ref_sex.rename(columns={\"price\":\"Chiffre d'affaires\"},inplace=True)\n",
    "top_ref_sex.loc[top_ref_sex.groupby('age_range')[\"Chiffre d'affaires\"].nsmallest(2).index.get_level_values(1)]\n"
   ]
  },
  {
   "cell_type": "code",
   "execution_count": 78,
   "id": "82bb6e02",
   "metadata": {},
   "outputs": [
    {
     "name": "stdout",
     "output_type": "stream",
     "text": [
      "indice de Gini: 0.694\n"
     ]
    },
    {
     "data": {
      "image/png": "[encoded data removed]",
      "text/plain": [
       "<Figure size 1008x576 with 1 Axes>"
      ]
     },
     "metadata": {
      "needs_background": "light"
     },
     "output_type": "display_data"
    }
   ],
   "source": [
    "# Courbe de Lorenz: (Repartition du CA par référence)\n",
    "#La courbe de Lorenz est une représentation graphique de la distribution d'une variable (revenu, patrimoine, etc.) au sein\n",
    "#d'une population.\n",
    "#l'état de concentration d'un marché avec la ventilation des parts de marché.\n",
    "# En résumé, plus la courbe de Lorenz est proche de la première bissectrice, plus la répartition est égalitaire.\n",
    "\n",
    "# Le coefficient de Gini, ou indice de Gini, est une mesure statistique permettant de rendre compte de la répartition d'une \n",
    "#variable  au sein d'un groupe. Autrement dit, il mesure le niveau d'inégalité de la \n",
    "#répartition d'une variable dans le groupe.\n",
    "#Le coefficient de Gini est un nombre variant de 0 à 1, où 0 signifie l'égalité parfaite et 1, qui ne peut être atteint, \n",
    "#signifierait une inégalité parfaite (une seule personne dispose de tous les revenus et une infinité d’autres n'ont aucun revenu).\n",
    "nombre_ventes_ref = df_ventes.groupby(['id_prod'])['id_prod'].count()\n",
    "lorenz_CA_prod = np.cumsum(np.sort(nombre_ventes_ref)) / nombre_ventes_ref.sum()\n",
    "lorenz_CA_prod = np.append([0], lorenz_CA_prod)\n",
    "\n",
    "plt.figure( figsize=(14,8))\n",
    "plt.plot(np.linspace(0,1,len(lorenz_CA_prod)), lorenz_CA_prod, drawstyle='steps-post'),\n",
    "plt.plot(np.linspace(0,1,len(lorenz_CA_prod)), np.linspace(0,1,len(lorenz_CA_prod)),color =\"grey\", dashes=[2,4])\n",
    "plt.plot([0,1], [0,1]) #tracer la bisséctrice\n",
    "plt.ylabel(\"Parts cumulées du chiffre d'affaires\")\n",
    "plt.xlabel(\"Parts cumulées des références vendues\")\n",
    "plt.title(\"Répartition du chiffre d'affaires entre les références\")\n",
    "aire_ss_courbe_CA_prod = lorenz_CA_prod[:-1].sum() / len(lorenz_CA_prod)\n",
    "S_ca_prod = 0.5 - aire_ss_courbe_CA_prod\n",
    "gini_CA_prod = 2* S_ca_prod\n",
    "\n",
    "Me = lorenz_CA_prod [int(len(lorenz_CA_prod ) / 2)]\n",
    "plt.plot([0.5, 0.5], [0, Me], color='black', linestyle='--', linewidth=2, label='Median = %.3f'%Me)\n",
    "plt.plot([0, 0.5], [Me, Me], color='black', linestyle='--', linewidth=2)\n",
    "\n",
    "Ml = len(lorenz_CA_prod [lorenz_CA_prod <= 0.5]) / len(lorenz_CA_prod )\n",
    "plt.plot([0, Ml], [0.5, 0.5], color='red', linestyle='--', linewidth=2, label='Medial = %.3f'%Ml)\n",
    "plt.plot([Ml, Ml], [0, 0.5], color='red', linestyle='--', linewidth=2)\n",
    "\n",
    "plt.legend()\n",
    "\n",
    "print(\"indice de Gini:\",round(gini_CA_prod,3))\n",
    "\n",
    "# La médiane permet la constitution de deux groupes égaux dans les parts cumulées des âges clients\n",
    "# La médiale permet la constitution de deux groupes égaux dans les parts cumulées du chiffre d'affaires\n"
   ]
  },
  {
   "cell_type": "markdown",
   "id": "b2d4cd89",
   "metadata": {},
   "source": [
    "- 80 % des références vendues représentent 20 % du chiffres d'affaires,\n",
    "- 20 % des références vendues représentent 80 % du chiffres d'affaires.\n",
    "\n",
    "L'indice de gini (qui est de 0.694) confirme cette inégalité."
   ]
  },
  {
   "cell_type": "markdown",
   "id": "281d79bc",
   "metadata": {},
   "source": [
    "## <span style='color:green'> 3 - Profils clients</span>"
   ]
  },
  {
   "cell_type": "markdown",
   "id": "6413d753",
   "metadata": {},
   "source": [
    "### _- Top clients_"
   ]
  },
  {
   "cell_type": "code",
   "execution_count": 79,
   "id": "b30b1d30",
   "metadata": {},
   "outputs": [
    {
     "data": {
      "text/html": [
       "<div>\n",
       "<style scoped>\n",
       "    .dataframe tbody tr th:only-of-type {\n",
       "        vertical-align: middle;\n",
       "    }\n",
       "\n",
       "    .dataframe tbody tr th {\n",
       "        vertical-align: top;\n",
       "    }\n",
       "\n",
       "    .dataframe thead th {\n",
       "        text-align: right;\n",
       "    }\n",
       "</style>\n",
       "<table border=\"1\" class=\"dataframe\">\n",
       "  <thead>\n",
       "    <tr style=\"text-align: right;\">\n",
       "      <th></th>\n",
       "      <th>Chiffre d'affaires en €</th>\n",
       "      <th>Nombre d'achats</th>\n",
       "    </tr>\n",
       "    <tr>\n",
       "      <th>client_id</th>\n",
       "      <th></th>\n",
       "      <th></th>\n",
       "    </tr>\n",
       "  </thead>\n",
       "  <tbody>\n",
       "    <tr>\n",
       "      <th>c_1609</th>\n",
       "      <td>324033.35</td>\n",
       "      <td>25488</td>\n",
       "    </tr>\n",
       "    <tr>\n",
       "      <th>c_4958</th>\n",
       "      <td>289760.34</td>\n",
       "      <td>5195</td>\n",
       "    </tr>\n",
       "    <tr>\n",
       "      <th>c_6714</th>\n",
       "      <td>153662.76</td>\n",
       "      <td>9187</td>\n",
       "    </tr>\n",
       "    <tr>\n",
       "      <th>c_3454</th>\n",
       "      <td>113669.85</td>\n",
       "      <td>6773</td>\n",
       "    </tr>\n",
       "    <tr>\n",
       "      <th>c_3263</th>\n",
       "      <td>5276.87</td>\n",
       "      <td>403</td>\n",
       "    </tr>\n",
       "    <tr>\n",
       "      <th>c_1570</th>\n",
       "      <td>5271.62</td>\n",
       "      <td>369</td>\n",
       "    </tr>\n",
       "    <tr>\n",
       "      <th>c_2899</th>\n",
       "      <td>5214.05</td>\n",
       "      <td>105</td>\n",
       "    </tr>\n",
       "    <tr>\n",
       "      <th>c_2140</th>\n",
       "      <td>5208.82</td>\n",
       "      <td>402</td>\n",
       "    </tr>\n",
       "    <tr>\n",
       "      <th>c_7319</th>\n",
       "      <td>5155.77</td>\n",
       "      <td>371</td>\n",
       "    </tr>\n",
       "    <tr>\n",
       "      <th>c_8026</th>\n",
       "      <td>5093.22</td>\n",
       "      <td>377</td>\n",
       "    </tr>\n",
       "  </tbody>\n",
       "</table>\n",
       "</div>"
      ],
      "text/plain": [
       "           Chiffre d'affaires en €  Nombre d'achats\n",
       "client_id                                          \n",
       "c_1609                   324033.35            25488\n",
       "c_4958                   289760.34             5195\n",
       "c_6714                   153662.76             9187\n",
       "c_3454                   113669.85             6773\n",
       "c_3263                     5276.87              403\n",
       "c_1570                     5271.62              369\n",
       "c_2899                     5214.05              105\n",
       "c_2140                     5208.82              402\n",
       "c_7319                     5155.77              371\n",
       "c_8026                     5093.22              377"
      ]
     },
     "execution_count": 79,
     "metadata": {},
     "output_type": "execute_result"
    }
   ],
   "source": [
    "# Création d'un data frame top clients\n",
    "top_clients = df_ventes.groupby([\"client_id\"]).agg({\"price\":\"sum\", \"id_prod\":\"count\"})\n",
    "top_clients.rename(columns={\"price\":\"Chiffre d'affaires en €\",\"id_prod\":\"Nombre d'achats\"}, inplace=True)\n",
    "top_clients.sort_values(by=[\"Chiffre d'affaires en €\"], ascending=False).head(10)\n"
   ]
  },
  {
   "cell_type": "markdown",
   "id": "6103cf63",
   "metadata": {},
   "source": [
    "4 Clients ont un chiffre d'affaires beaucoup plus important que les autres."
   ]
  },
  {
   "cell_type": "code",
   "execution_count": 80,
   "id": "8e6980c9",
   "metadata": {},
   "outputs": [
    {
     "data": {
      "text/html": [
       "<div>\n",
       "<style scoped>\n",
       "    .dataframe tbody tr th:only-of-type {\n",
       "        vertical-align: middle;\n",
       "    }\n",
       "\n",
       "    .dataframe tbody tr th {\n",
       "        vertical-align: top;\n",
       "    }\n",
       "\n",
       "    .dataframe thead th {\n",
       "        text-align: right;\n",
       "    }\n",
       "</style>\n",
       "<table border=\"1\" class=\"dataframe\">\n",
       "  <thead>\n",
       "    <tr style=\"text-align: right;\">\n",
       "      <th></th>\n",
       "      <th>Chiffre d'affaires en €</th>\n",
       "      <th>Nombre d'achats</th>\n",
       "    </tr>\n",
       "    <tr>\n",
       "      <th>client_id</th>\n",
       "      <th></th>\n",
       "      <th></th>\n",
       "    </tr>\n",
       "  </thead>\n",
       "  <tbody>\n",
       "    <tr>\n",
       "      <th>c_1609</th>\n",
       "      <td>324033.35</td>\n",
       "      <td>25488</td>\n",
       "    </tr>\n",
       "    <tr>\n",
       "      <th>c_3454</th>\n",
       "      <td>113669.85</td>\n",
       "      <td>6773</td>\n",
       "    </tr>\n",
       "    <tr>\n",
       "      <th>c_4958</th>\n",
       "      <td>289760.34</td>\n",
       "      <td>5195</td>\n",
       "    </tr>\n",
       "    <tr>\n",
       "      <th>c_6714</th>\n",
       "      <td>153662.76</td>\n",
       "      <td>9187</td>\n",
       "    </tr>\n",
       "  </tbody>\n",
       "</table>\n",
       "</div>"
      ],
      "text/plain": [
       "           Chiffre d'affaires en €  Nombre d'achats\n",
       "client_id                                          \n",
       "c_1609                   324033.35            25488\n",
       "c_3454                   113669.85             6773\n",
       "c_4958                   289760.34             5195\n",
       "c_6714                   153662.76             9187"
      ]
     },
     "execution_count": 80,
     "metadata": {},
     "output_type": "execute_result"
    }
   ],
   "source": [
    "clients_outliers=top_clients.loc[top_clients[\"Chiffre d'affaires en €\"]>50000]\n",
    "clients_outliers"
   ]
  },
  {
   "cell_type": "code",
   "execution_count": 81,
   "id": "4cd2a08a",
   "metadata": {},
   "outputs": [
    {
     "name": "stdout",
     "output_type": "stream",
     "text": [
      "indice de Gini: 0.447\n"
     ]
    },
    {
     "data": {
      "image/png": "[encoded data removed]",
      "text/plain": [
       "<Figure size 1008x576 with 1 Axes>"
      ]
     },
     "metadata": {
      "needs_background": "light"
     },
     "output_type": "display_data"
    }
   ],
   "source": [
    "# Répartition du CA par clients (Courbe de Lorenz)\n",
    "\n",
    "#La courbe de Lorenz est une représentation graphique de la distribution d'une variable (revenu, patrimoine, etc.) au sein\n",
    "#d'une population.\n",
    "#l'état de concentration d'un marché avec la ventilation des parts de marché.\n",
    "# En résumé, plus la courbe de Lorenz est proche de la première bissectrice, plus la répartition est égalitaire.\n",
    "\n",
    "# Le coefficient de Gini, ou indice de Gini, est une mesure statistique permettant de rendre compte de la répartition d'une \n",
    "#variable  au sein d'un groupe. Autrement dit, il mesure le niveau d'inégalité de la \n",
    "#répartition d'une variable dans le groupe.\n",
    "#Le coefficient de Gini est un nombre variant de 0 à 1, où 0 signifie l'égalité parfaite et 1, qui ne peut être atteint, \n",
    "#signifierait une inégalité parfaite (une seule personne dispose de tous les revenus et une infinité d’autres n'ont aucun revenu).\n",
    "\n",
    "best_client = df_ventes.groupby([\"client_id\"])[\"price\"].sum()\n",
    "lorenz_CA_client = np.cumsum(np.sort(best_client)) / best_client.sum()\n",
    "lorenz_CA_client = np.append([0], lorenz_CA_client)\n",
    "\n",
    "plt.figure( figsize=(14,8))\n",
    "plt.plot(np.linspace(0,1,len(lorenz_CA_client)), lorenz_CA_client, drawstyle=\"steps-post\")\n",
    "plt.plot(np.linspace(0,1,len(lorenz_CA_client)), np.linspace(0,1,len(lorenz_CA_client)), color =\"grey\", dashes=[2,4])\n",
    "plt.plot([0,1], [0,1]) #tracer la bisséctrice\n",
    "plt.ylabel(\"Parts cumulées du chiffre d'affaires\")\n",
    "plt.xlabel(\"Parts cumulées des achats\")\n",
    "plt.title(\"Répartition du chiffre d'affaires entre les clients\")\n",
    "aire_ss_courbe_CA_client = lorenz_CA_client[:-1].sum() / len(lorenz_CA_client)\n",
    "S_ca_client = 0.5 - aire_ss_courbe_CA_client\n",
    "gini_CA_client = 2*S_ca_client\n",
    "\n",
    "\n",
    "Me = lorenz_CA_client [int(len(lorenz_CA_client ) / 2)]\n",
    "plt.plot([0.5, 0.5], [0, Me], color='black', linestyle='--', linewidth=2, label='Median = %.3f'%Me)\n",
    "plt.plot([0, 0.5], [Me, Me], color='black', linestyle='--', linewidth=2)\n",
    "\n",
    "Ml = len(lorenz_CA_client [lorenz_CA_client <= 0.5]) / len(lorenz_CA_client )\n",
    "plt.plot([0, Ml], [0.5, 0.5], color='red', linestyle='--', linewidth=2, label='Medial = %.3f'%Ml)\n",
    "plt.plot([Ml, Ml], [0, 0.5], color='red', linestyle='--', linewidth=2)\n",
    "\n",
    "plt.legend()\n",
    "\n",
    "print(\"indice de Gini:\",round(gini_CA_client,3))\n"
   ]
  },
  {
   "cell_type": "markdown",
   "id": "cb08b38f",
   "metadata": {},
   "source": [
    "La courbe se rapproche de la bissectrice vers la fin en ligne droite cela signifie que la répartition est inégalitaire :\n",
    "- 65 % des achats cumulés représentent 36 % du chiffres d'affaires,\n",
    "- 35 % des achats cumulés représentent 64 % du chiffres d'affaires.\n",
    "\n",
    "L'indice de gini (qui est de 0.447) confirme cette inégalité.\n",
    "\n",
    "Les 4 clients identifiés précedemment ont un fort impact sur notre analyse, nous décidons donc de les écarter pour la suite."
   ]
  },
  {
   "cell_type": "markdown",
   "id": "f02e98a4",
   "metadata": {},
   "source": [
    "### _- Suppression des 4 clients_"
   ]
  },
  {
   "cell_type": "code",
   "execution_count": 82,
   "id": "bc949cfd",
   "metadata": {},
   "outputs": [],
   "source": [
    "# df_ventes=df_ventes.loc[~df_ventes.client_id.isin(clients_outliers)]\n",
    "df_ventes.drop(df_ventes.loc[(df_ventes['client_id']=='c_1609')].index, inplace=True)\n",
    "df_ventes.drop(df_ventes.loc[(df_ventes['client_id']=='c_4958')].index, inplace=True)\n",
    "df_ventes.drop(df_ventes.loc[(df_ventes['client_id']=='c_6714')].index, inplace=True)\n",
    "df_ventes.drop(df_ventes.loc[(df_ventes['client_id']=='c_3454')].index, inplace=True)"
   ]
  },
  {
   "cell_type": "code",
   "execution_count": 83,
   "id": "054dde80",
   "metadata": {},
   "outputs": [
    {
     "name": "stdout",
     "output_type": "stream",
     "text": [
      "Le nombre moyen d'achat par client depuis l'ouverture de notre site est 73.6\n",
      "Le montant moyen d'achat par client depuis l'ouverture de notre site est 1276.75\n"
     ]
    }
   ],
   "source": [
    "# Nombre d'achats et montant moyen par client:\n",
    "nbre_achats_moyen = df_ventes.groupby([\"client_id\"])[\"session_id\"].count().mean()\n",
    "montant_achats_moyen = df_ventes.groupby([\"client_id\"])[\"price\"].sum().mean()\n",
    "\n",
    "print(\"Le nombre moyen d'achat par client depuis l'ouverture de notre site est\", round(nbre_achats_moyen,2))\n",
    "print(\"Le montant moyen d'achat par client depuis l'ouverture de notre site est\", round(montant_achats_moyen,2))"
   ]
  },
  {
   "cell_type": "code",
   "execution_count": 84,
   "id": "64853900",
   "metadata": {},
   "outputs": [
    {
     "data": {
      "text/plain": [
       "319274"
      ]
     },
     "execution_count": 84,
     "metadata": {},
     "output_type": "execute_result"
    }
   ],
   "source": [
    "# Nombre de sessions\n",
    "df_ventes[\"session_id\"].nunique()"
   ]
  },
  {
   "cell_type": "code",
   "execution_count": 85,
   "id": "b23be808",
   "metadata": {},
   "outputs": [
    {
     "data": {
      "text/plain": [
       "1.98"
      ]
     },
     "execution_count": 85,
     "metadata": {},
     "output_type": "execute_result"
    }
   ],
   "source": [
    "# Nombre moyen d'achats par client\n",
    "round(df_ventes.groupby([\"session_id\",\"client_id\"])[\"id_prod\"].count().mean(),2)"
   ]
  },
  {
   "cell_type": "markdown",
   "id": "bebc12e3",
   "metadata": {},
   "source": [
    "### _- Statistitiques de la colonne price_"
   ]
  },
  {
   "cell_type": "code",
   "execution_count": 86,
   "id": "4201e216",
   "metadata": {},
   "outputs": [
    {
     "data": {
      "text/plain": [
       "count   632689.00\n",
       "mean        17.35\n",
       "std         18.09\n",
       "min          0.62\n",
       "25%          8.82\n",
       "50%         13.99\n",
       "75%         18.99\n",
       "max        300.00\n",
       "Name: price, dtype: float64"
      ]
     },
     "execution_count": 86,
     "metadata": {},
     "output_type": "execute_result"
    }
   ],
   "source": [
    "# Utilisation de la fonction describe\n",
    "df_ventes['price'].describe()"
   ]
  },
  {
   "cell_type": "markdown",
   "id": "ad63867f",
   "metadata": {},
   "source": [
    "- Le prix moyen d'un livre en ligne est de 17.45 euros,\n",
    "- Le livre le moins cher est à 0.62 euros,\n",
    "- Le livre le plus cher est à 300 euros."
   ]
  },
  {
   "cell_type": "markdown",
   "id": "3b80ba78",
   "metadata": {},
   "source": [
    "### _- Prix moyen d'un livre pour chaque catégorie_"
   ]
  },
  {
   "cell_type": "code",
   "execution_count": 87,
   "id": "423d5b42",
   "metadata": {},
   "outputs": [
    {
     "data": {
      "text/html": [
       "<div>\n",
       "<style scoped>\n",
       "    .dataframe tbody tr th:only-of-type {\n",
       "        vertical-align: middle;\n",
       "    }\n",
       "\n",
       "    .dataframe tbody tr th {\n",
       "        vertical-align: top;\n",
       "    }\n",
       "\n",
       "    .dataframe thead th {\n",
       "        text-align: right;\n",
       "    }\n",
       "</style>\n",
       "<table border=\"1\" class=\"dataframe\">\n",
       "  <thead>\n",
       "    <tr style=\"text-align: right;\">\n",
       "      <th></th>\n",
       "      <th>price</th>\n",
       "    </tr>\n",
       "    <tr>\n",
       "      <th>catégorie</th>\n",
       "      <th></th>\n",
       "    </tr>\n",
       "  </thead>\n",
       "  <tbody>\n",
       "    <tr>\n",
       "      <th>0</th>\n",
       "      <td>10.64</td>\n",
       "    </tr>\n",
       "    <tr>\n",
       "      <th>1</th>\n",
       "      <td>20.48</td>\n",
       "    </tr>\n",
       "    <tr>\n",
       "      <th>2</th>\n",
       "      <td>76.23</td>\n",
       "    </tr>\n",
       "  </tbody>\n",
       "</table>\n",
       "</div>"
      ],
      "text/plain": [
       "           price\n",
       "catégorie       \n",
       "0          10.64\n",
       "1          20.48\n",
       "2          76.23"
      ]
     },
     "execution_count": 87,
     "metadata": {},
     "output_type": "execute_result"
    }
   ],
   "source": [
    "prix_moyen_categorie=df_ventes.groupby('catégorie').agg({'price':'mean'})\n",
    "prix_moyen_categorie\n"
   ]
  },
  {
   "cell_type": "markdown",
   "id": "d24a63d0",
   "metadata": {},
   "source": [
    "- Le prix moyen d'un livre appartenant à la catégorie 0 est de 10.64 euros,\n",
    "- Le prix moyen d'un livre appartenant à la catégorie 1 est de 20.49 euros,\n",
    "- Le prix moyen d'un livre appartenant à la catégorie 2 est de 76.21 euros."
   ]
  },
  {
   "cell_type": "markdown",
   "id": "6ae749db",
   "metadata": {},
   "source": [
    "# <a name=\"C2\"> II -  Analyse plus ciblée sur les clients"
   ]
  },
  {
   "cell_type": "code",
   "execution_count": 88,
   "id": "fba1b918",
   "metadata": {},
   "outputs": [
    {
     "data": {
      "text/html": [
       "<div>\n",
       "<style scoped>\n",
       "    .dataframe tbody tr th:only-of-type {\n",
       "        vertical-align: middle;\n",
       "    }\n",
       "\n",
       "    .dataframe tbody tr th {\n",
       "        vertical-align: top;\n",
       "    }\n",
       "\n",
       "    .dataframe thead th {\n",
       "        text-align: right;\n",
       "    }\n",
       "</style>\n",
       "<table border=\"1\" class=\"dataframe\">\n",
       "  <thead>\n",
       "    <tr style=\"text-align: right;\">\n",
       "      <th></th>\n",
       "      <th>Chiffres d'affaires en euros</th>\n",
       "      <th>Nombre de ventes</th>\n",
       "    </tr>\n",
       "    <tr>\n",
       "      <th>sex</th>\n",
       "      <th></th>\n",
       "      <th></th>\n",
       "    </tr>\n",
       "  </thead>\n",
       "  <tbody>\n",
       "    <tr>\n",
       "      <th>f</th>\n",
       "      <td>5707265.25</td>\n",
       "      <td>329215</td>\n",
       "    </tr>\n",
       "    <tr>\n",
       "      <th>m</th>\n",
       "      <td>5267688.57</td>\n",
       "      <td>303474</td>\n",
       "    </tr>\n",
       "  </tbody>\n",
       "</table>\n",
       "</div>"
      ],
      "text/plain": [
       "     Chiffres d'affaires en euros  Nombre de ventes\n",
       "sex                                                \n",
       "f                      5707265.25            329215\n",
       "m                      5267688.57            303474"
      ]
     },
     "execution_count": 88,
     "metadata": {},
     "output_type": "execute_result"
    }
   ],
   "source": [
    "# Data frame du CA et du nombre de ventes par sexe\n",
    "ca_ventes_sex = df_ventes.groupby(['sex']).agg({'price':'sum', 'id_prod':'count'})\n",
    "ca_ventes_sex.rename(columns={'id_prod':\"Nombre de ventes\", 'price':\"Chiffres d'affaires en euros\"}, inplace=True)\n",
    "ca_ventes_sex"
   ]
  },
  {
   "cell_type": "code",
   "execution_count": 89,
   "id": "2b839f18",
   "metadata": {},
   "outputs": [
    {
     "data": {
      "image/png": "[encoded data removed]",
      "text/plain": [
       "<Figure size 1152x720 with 2 Axes>"
      ]
     },
     "metadata": {},
     "output_type": "display_data"
    }
   ],
   "source": [
    "# Graphique en diagramme circulaire et à barres pour représenter le chiffre d'affaires et le nombre de  ventes par sexe\n",
    "\n",
    "plt.figure( figsize=(16,10) )\n",
    "\n",
    "plt.subplot(1,2,1)\n",
    "plt.title(\"Nombre de ventes par sexe\", fontsize=16)\n",
    "ca_ventes_sex[\"Nombre de ventes\"].plot(kind=\"pie\",autopct='%1.2f%%',labels=[\"Femmes\",\"Hommes\"])\n",
    "plt.ylabel(\"\")\n",
    "\n",
    "plt.subplot(1,2,2)\n",
    "plt.title(\"Chiffre d'affaires par sexe\", fontsize=16)\n",
    "ca_ventes_sex[\"Chiffres d'affaires en euros\"].plot(kind=\"pie\", autopct='%1.2f%%',labels=[\"Femmes\",\"Hommes\"])\n",
    "plt.ylabel(\"\")\n",
    "\n",
    "plt.tight_layout()\n",
    "plt.savefig(\"CA et du nombre de ventes par sexe.png\")\n",
    "plt.show()"
   ]
  },
  {
   "cell_type": "markdown",
   "id": "2719998e",
   "metadata": {},
   "source": [
    "- Les femmes achètent un peu plus en ligne, 2 %,\n",
    "- Le nombre de ventes et le chiffre d'affaires représentent quasiment la même part dans les 2 catégories."
   ]
  },
  {
   "cell_type": "markdown",
   "id": "6d17149d",
   "metadata": {},
   "source": [
    "### _- 1 - Lien entre le genre des clients et les catégorie des livres achetés_"
   ]
  },
  {
   "cell_type": "code",
   "execution_count": 90,
   "id": "925cae9d",
   "metadata": {},
   "outputs": [
    {
     "data": {
      "text/html": [
       "<div>\n",
       "<style scoped>\n",
       "    .dataframe tbody tr th:only-of-type {\n",
       "        vertical-align: middle;\n",
       "    }\n",
       "\n",
       "    .dataframe tbody tr th {\n",
       "        vertical-align: top;\n",
       "    }\n",
       "\n",
       "    .dataframe thead th {\n",
       "        text-align: right;\n",
       "    }\n",
       "</style>\n",
       "<table border=\"1\" class=\"dataframe\">\n",
       "  <thead>\n",
       "    <tr style=\"text-align: right;\">\n",
       "      <th>catégorie</th>\n",
       "      <th>0</th>\n",
       "      <th>1</th>\n",
       "      <th>2</th>\n",
       "      <th>Total</th>\n",
       "    </tr>\n",
       "    <tr>\n",
       "      <th>sex</th>\n",
       "      <th></th>\n",
       "      <th></th>\n",
       "      <th></th>\n",
       "      <th></th>\n",
       "    </tr>\n",
       "  </thead>\n",
       "  <tbody>\n",
       "    <tr>\n",
       "      <th>f</th>\n",
       "      <td>200904</td>\n",
       "      <td>111331</td>\n",
       "      <td>16980</td>\n",
       "      <td>329215</td>\n",
       "    </tr>\n",
       "    <tr>\n",
       "      <th>m</th>\n",
       "      <td>186589</td>\n",
       "      <td>101017</td>\n",
       "      <td>15868</td>\n",
       "      <td>303474</td>\n",
       "    </tr>\n",
       "    <tr>\n",
       "      <th>Total</th>\n",
       "      <td>387493</td>\n",
       "      <td>212348</td>\n",
       "      <td>32848</td>\n",
       "      <td>632689</td>\n",
       "    </tr>\n",
       "  </tbody>\n",
       "</table>\n",
       "</div>"
      ],
      "text/plain": [
       "catégorie       0       1      2   Total\n",
       "sex                                     \n",
       "f          200904  111331  16980  329215\n",
       "m          186589  101017  15868  303474\n",
       "Total      387493  212348  32848  632689"
      ]
     },
     "execution_count": 90,
     "metadata": {},
     "output_type": "execute_result"
    }
   ],
   "source": [
    "# Table de contingence pour Chi²\n",
    "\n",
    "X = \"sex\", \n",
    "Y = \"catégorie\"\n",
    "categorie_sex = df_ventes[[\"sex\",\"catégorie\"]].pivot_table(index=X,columns=Y,aggfunc=len,margins=True,margins_name=\"Total\")\n",
    "categorie_sex "
   ]
  },
  {
   "cell_type": "code",
   "execution_count": 91,
   "id": "33309d2b",
   "metadata": {},
   "outputs": [
    {
     "data": {
      "image/png": "[encoded data removed]",
      "text/plain": [
       "<Figure size 800x480 with 2 Axes>"
      ]
     },
     "metadata": {},
     "output_type": "display_data"
    }
   ],
   "source": [
    "#heatmap  table de contingence entre sex et catégorie\n",
    "\n",
    "# Chaque carré montre la corrélation entre les variables sur chaque axe. La corrélation varie de -1 à +1. Des valeurs plus \n",
    "# proches de zéro signifient qu'il n'y a pas de tendance linéaire entre les deux variables. Plus la corrélation est proche de la,\n",
    "# valeur maximale plus elles sont corrélées positivement ; c'est-à-dire qu'à mesure que l'un augmente, l'autre augmente et plus\n",
    "# la valeur est proche du max, plus cette relation est forte. Une corrélation plus proche du minimum est similaire, mais au lieu \n",
    "# d'augmenter les deux, une variable diminuera à mesure que l'autre augmentera.\n",
    "\n",
    "fig = plt.figure(num=None, figsize=(10, 6), dpi=80, facecolor='w', edgecolor='k')\n",
    "plt.clf()\n",
    "\n",
    "tx = categorie_sex.loc[:,[\"Total\"]]\n",
    "ty = categorie_sex.loc[[\"Total\"],:]\n",
    "n = len(df_ventes)\n",
    "indep = tx.dot(ty) / n\n",
    "\n",
    "c = categorie_sex.fillna(0) # On remplace les valeurs nulles par 0\n",
    "measure = (c-indep)**2/indep\n",
    "xi_n = measure.sum().sum()\n",
    "table = measure/xi_n\n",
    "sns.heatmap(table.iloc[:-1,:-1],annot=c.iloc[:-1,:-1])\n",
    "plt.show()\n"
   ]
  },
  {
   "cell_type": "code",
   "execution_count": 92,
   "id": "20d1f7c7",
   "metadata": {},
   "outputs": [
    {
     "name": "stdout",
     "output_type": "stream",
     "text": [
      "-------------------------------------------------------------------------------------------------------------------------------------------------------------------------------------------------------------------------------------------------------------- \n",
      "\n",
      "Test d'indépendance entre les variables sexe et catégorie (test Chi-2)\n",
      "\t Hypothèse nulle H0 : \t Le choix d'une catégorie de livre ne dépend pas du du client.\n",
      "\t Autre hypothèse H1 : \t Le choix d'une catégorie de livre dépend du client.\n",
      "\n",
      "Le Chi² est de :  20.200173796862927 \n",
      "\n",
      "La p-value est de : 4.1075985631484716e-05 \n",
      "\n",
      "L'hypothèse nulle est rejetée \t ==> H1: Le choix d'une catégorie de livre dépend du sexe du client.\n"
     ]
    }
   ],
   "source": [
    "# Analyser deux variables qualitatives avec le Chi-2\n",
    "print(\"--\"*127,\"\\n\")\n",
    "print(\"Test d'indépendance entre les variables sexe et catégorie (test Chi-2)\")\n",
    "print(\"\\t Hypothèse nulle H0 : \\t Le choix d'une catégorie de livre ne dépend pas du du client.\")\n",
    "print(\"\\t Autre hypothèse H1 : \\t Le choix d'une catégorie de livre dépend du client.\")\n",
    "print('')\n",
    "\n",
    "#Calcul du Chi² et de la p-value\n",
    "X2, Y2 = \"sex\", \"catégorie\"\n",
    "conti2 = df_ventes[[X2, Y2]].pivot_table(index=X2, columns=Y2, aggfunc=len).fillna(0).copy()\n",
    "st_chi2, st_p, st_dof, st_exp = st.chi2_contingency(conti2)\n",
    "print(\"Le Chi² est de : \",st_chi2,\"\\n\")\n",
    "print(\"La p-value est de :\",st_p,\"\\n\")\n",
    "\n",
    "if st_p < 0.05 :\n",
    "    print(\"L'hypothèse nulle est rejetée \\t ==> H1: Le choix d'une catégorie de livre dépend du sexe du client.\")\n",
    "else:\n",
    "    print(\"L'hypothèse nulle ne peut être rejetée H0 (Le choix d'une catégorie de livre ne dépend pas du sexe du client.\")"
   ]
  },
  {
   "cell_type": "markdown",
   "id": "f7424660",
   "metadata": {},
   "source": [
    "### _- Lien entre l'âge des clients et le montant total des achats_"
   ]
  },
  {
   "cell_type": "code",
   "execution_count": 93,
   "id": "db54de39",
   "metadata": {},
   "outputs": [
    {
     "name": "stdout",
     "output_type": "stream",
     "text": [
      "Corrélation de Spearman: SpearmanrResult(correlation=-0.8736842105263158, pvalue=7.352708223159905e-25)\n"
     ]
    },
    {
     "data": {
      "image/png": "[encoded data removed]",
      "text/plain": [
       "<Figure size 1008x576 with 1 Axes>"
      ]
     },
     "metadata": {
      "needs_background": "light"
     },
     "output_type": "display_data"
    }
   ],
   "source": [
    "# Corrélation  entre l'age et le montant des achats\n",
    "tot_achats_age = df_ventes\n",
    "tot_achats_age = df_ventes.groupby(\"age\",as_index=False)[\"price\"].sum()\n",
    "\n",
    "# Le coefficient de corrélation varie entre -1 et +1\n",
    "# La corrélation de Spearman mesure le lien entre deux variables. Cette corrélation n'utilise pas les valeurs des données mais\n",
    "#leur RANG. Le coefficient de corrélation varie entre -1 et +1, 0 reflétant une relation nulle entre les deux variables, une \n",
    "# valeur négative (corrélation négative) signifiant que lorsqu'une des variable augmente, l'autre diminue ; tandis qu'une \n",
    "# valeur positive (corrélation positive) indique que les deux variables varient ensemble dans le même sens.\n",
    "\n",
    "# Graphique scatterplot\n",
    "X = tot_achats_age[[\"age\"]]\n",
    "Y = tot_achats_age[\"price\"]\n",
    "X = X.copy()\n",
    "X['intercept'] = 1.\n",
    "result = sm.OLS(Y, X).fit() # OLS = Ordinary Least Square (Moindres Carrés Ordinaire)\n",
    "a,b = result.params['age'],result.params['intercept']\n",
    "plt.figure( figsize=(14,8))\n",
    "plt.xlabel(\"Age\")\n",
    "plt.ylabel(\"Montant en €\")\n",
    "plt.plot(tot_achats_age.age,tot_achats_age.price, \"o\")\n",
    "plt.plot(np.arange(17,100),[a*x+b for x in np.arange(17,100)])\n",
    "plt.title(\"Montant des achats par âge\")\n",
    "\n",
    "print(\"Corrélation de Spearman:\", st.spearmanr(tot_achats_age[\"age\"], tot_achats_age['price']))\n"
   ]
  },
  {
   "cell_type": "markdown",
   "id": "cab17994",
   "metadata": {},
   "source": [
    "La corrélation de spearman est de -0.87, il se rapproche de -1, cela signifie une très forte association négative  entre les rangs.\n",
    "\n",
    "On peut émettre l'hypothèse que plus les consommateurs sont âgés, plus le montant total de leur achat est faible.\n"
   ]
  },
  {
   "cell_type": "code",
   "execution_count": 94,
   "id": "6dc2a5bc",
   "metadata": {},
   "outputs": [
    {
     "name": "stdout",
     "output_type": "stream",
     "text": [
      "Montant total des achats par tranches d'age:\n",
      " age_range\n",
      "18 à 30 ans      2775101.68\n",
      "30 à 40 ans      2552700.04\n",
      "40 à 50 ans      2681588.11\n",
      "50 à 60 ans      1454833.50\n",
      "60 ans et plus   1510730.49\n",
      "Name: price, dtype: float64\n",
      "Nombre total d'achats par tranches d'age:\n",
      " age_range\n",
      "18 à 30 ans        68846\n",
      "30 à 40 ans       181444\n",
      "40 à 50 ans       202277\n",
      "50 à 60 ans        89961\n",
      "60 ans et plus     90161\n",
      "Name: id_prod, dtype: int64\n",
      "Montant moyen des achats par tranches d'age:\n",
      " age_range\n",
      "18 à 30 ans      40.31\n",
      "30 à 40 ans      14.07\n",
      "40 à 50 ans      13.26\n",
      "50 à 60 ans      16.17\n",
      "60 ans et plus   16.76\n",
      "Name: price, dtype: float64\n"
     ]
    }
   ],
   "source": [
    "# Repartition des achats par tranches d'âges\n",
    "repartition_achats_age_range = df_ventes.groupby([\"age_range\"])[\"price\"].sum()\n",
    "print(\"Montant total des achats par tranches d'age:\\n\", repartition_achats_age_range)\n",
    "\n",
    "# Nombre d'achats par tranches d'âges\n",
    "nbr_achats_age_range = df_ventes.groupby([\"age_range\"])[\"id_prod\"].count()\n",
    "print(\"Nombre total d'achats par tranches d'age:\\n\",nbr_achats_age_range)\n",
    "\n",
    "# Montant moyen des achats par tranches d'âge\n",
    "moy_achats_age_range = df_ventes.groupby([\"age_range\"])[\"price\"].mean()\n",
    "print(\"Montant moyen des achats par tranches d'age:\\n\", moy_achats_age_range)"
   ]
  },
  {
   "cell_type": "markdown",
   "id": "43b2035c",
   "metadata": {},
   "source": [
    "### _- Lien entre l'âge des clients et la fréquence d'achat_"
   ]
  },
  {
   "cell_type": "code",
   "execution_count": 95,
   "id": "092997f8",
   "metadata": {},
   "outputs": [
    {
     "data": {
      "text/html": [
       "<div>\n",
       "<style scoped>\n",
       "    .dataframe tbody tr th:only-of-type {\n",
       "        vertical-align: middle;\n",
       "    }\n",
       "\n",
       "    .dataframe tbody tr th {\n",
       "        vertical-align: top;\n",
       "    }\n",
       "\n",
       "    .dataframe thead th {\n",
       "        text-align: right;\n",
       "    }\n",
       "</style>\n",
       "<table border=\"1\" class=\"dataframe\">\n",
       "  <thead>\n",
       "    <tr style=\"text-align: right;\">\n",
       "      <th></th>\n",
       "      <th>age</th>\n",
       "      <th>Nombre de clients</th>\n",
       "      <th>session_id</th>\n",
       "      <th>frequence_achat</th>\n",
       "    </tr>\n",
       "  </thead>\n",
       "  <tbody>\n",
       "    <tr>\n",
       "      <th>0</th>\n",
       "      <td>19</td>\n",
       "      <td>8596</td>\n",
       "      <td>15149</td>\n",
       "      <td>1.76</td>\n",
       "    </tr>\n",
       "    <tr>\n",
       "      <th>1</th>\n",
       "      <td>20</td>\n",
       "      <td>8596</td>\n",
       "      <td>4371</td>\n",
       "      <td>0.51</td>\n",
       "    </tr>\n",
       "    <tr>\n",
       "      <th>2</th>\n",
       "      <td>21</td>\n",
       "      <td>8596</td>\n",
       "      <td>4587</td>\n",
       "      <td>0.53</td>\n",
       "    </tr>\n",
       "    <tr>\n",
       "      <th>3</th>\n",
       "      <td>22</td>\n",
       "      <td>8596</td>\n",
       "      <td>4252</td>\n",
       "      <td>0.49</td>\n",
       "    </tr>\n",
       "    <tr>\n",
       "      <th>4</th>\n",
       "      <td>23</td>\n",
       "      <td>8596</td>\n",
       "      <td>4415</td>\n",
       "      <td>0.51</td>\n",
       "    </tr>\n",
       "    <tr>\n",
       "      <th>...</th>\n",
       "      <td>...</td>\n",
       "      <td>...</td>\n",
       "      <td>...</td>\n",
       "      <td>...</td>\n",
       "    </tr>\n",
       "    <tr>\n",
       "      <th>71</th>\n",
       "      <td>90</td>\n",
       "      <td>8596</td>\n",
       "      <td>327</td>\n",
       "      <td>0.04</td>\n",
       "    </tr>\n",
       "    <tr>\n",
       "      <th>72</th>\n",
       "      <td>91</td>\n",
       "      <td>8596</td>\n",
       "      <td>311</td>\n",
       "      <td>0.04</td>\n",
       "    </tr>\n",
       "    <tr>\n",
       "      <th>73</th>\n",
       "      <td>92</td>\n",
       "      <td>8596</td>\n",
       "      <td>170</td>\n",
       "      <td>0.02</td>\n",
       "    </tr>\n",
       "    <tr>\n",
       "      <th>74</th>\n",
       "      <td>93</td>\n",
       "      <td>8596</td>\n",
       "      <td>226</td>\n",
       "      <td>0.03</td>\n",
       "    </tr>\n",
       "    <tr>\n",
       "      <th>75</th>\n",
       "      <td>94</td>\n",
       "      <td>8596</td>\n",
       "      <td>201</td>\n",
       "      <td>0.02</td>\n",
       "    </tr>\n",
       "  </tbody>\n",
       "</table>\n",
       "<p>76 rows × 4 columns</p>\n",
       "</div>"
      ],
      "text/plain": [
       "    age  Nombre de clients  session_id  frequence_achat\n",
       "0    19               8596       15149             1.76\n",
       "1    20               8596        4371             0.51\n",
       "2    21               8596        4587             0.53\n",
       "3    22               8596        4252             0.49\n",
       "4    23               8596        4415             0.51\n",
       "..  ...                ...         ...              ...\n",
       "71   90               8596         327             0.04\n",
       "72   91               8596         311             0.04\n",
       "73   92               8596         170             0.02\n",
       "74   93               8596         226             0.03\n",
       "75   94               8596         201             0.02\n",
       "\n",
       "[76 rows x 4 columns]"
      ]
     },
     "execution_count": 95,
     "metadata": {},
     "output_type": "execute_result"
    }
   ],
   "source": [
    "# Corrélation entre l'âge et la fréquence des achats\n",
    "frequence_achats = df_ventes\n",
    "frequence_achats[\"Chiffres d'affaires\"] = frequence_achats['price'].sum()\n",
    "frequence_achats =frequence_achats.groupby(['age','client_id'], as_index=False)['session_id'].count()\n",
    "frequence_achats[\"Nombre de clients\"]= frequence_achats['client_id'].count()\n",
    "frequence_achats = frequence_achats.groupby(['age',\"Nombre de clients\"], as_index=False)['session_id'].sum()\n",
    "frequence_achats['frequence_achat'] = frequence_achats['session_id']/frequence_achats[\"Nombre de clients\"]\n",
    "frequence_achats"
   ]
  },
  {
   "cell_type": "code",
   "execution_count": 96,
   "id": "b0b4e791",
   "metadata": {},
   "outputs": [
    {
     "name": "stdout",
     "output_type": "stream",
     "text": [
      "Corrélation de Spearman: SpearmanrResult(correlation=-0.6738482570061518, pvalue=2.5391854434818517e-11)\n"
     ]
    },
    {
     "data": {
      "image/png": "[encoded data removed]",
      "text/plain": [
       "<Figure size 1008x576 with 1 Axes>"
      ]
     },
     "metadata": {
      "needs_background": "light"
     },
     "output_type": "display_data"
    }
   ],
   "source": [
    "# Graphique scatterplot\n",
    "# La corrélation de Spearman mesure le lien entre deux variables. Cette corrélation n'utilise pas les valeurs des données mais\n",
    "#leur RANG. Le coefficient de corrélation varie entre -1 et +1, 0 reflétant une relation nulle entre les deux variables, une \n",
    "# valeur négative (corrélation négative) signifiant que lorsqu'une des variable augmente, l'autre diminue ; tandis qu'une \n",
    "# valeur positive (corrélation positive) indique que les deux variables varient ensemble dans le même sens.\n",
    "X = frequence_achats[[\"age\"]]\n",
    "Y = frequence_achats['frequence_achat']\n",
    "X = X.copy()\n",
    "X['intercept'] = 1.\n",
    "result = sm.OLS(Y, X).fit() # OLS = Ordinary Least Square (Moindres Carrés Ordinaire)\n",
    "a,b = result.params['age'],result.params['intercept']\n",
    "plt.figure( figsize=(14,8))\n",
    "plt.xlabel(\"Age\")\n",
    "plt.ylabel(\"Fréquence d'achat\")\n",
    "plt.plot(frequence_achats.age,frequence_achats.frequence_achat, \"o\")\n",
    "plt.plot(np.arange(17,100),[a*x+b for x in np.arange(17,100)])\n",
    "plt.title(\"Fréquence des achats par âge\")\n",
    "\n",
    "print(\"Corrélation de Spearman:\", st.spearmanr(frequence_achats[\"age\"], frequence_achats['frequence_achat']))"
   ]
  },
  {
   "cell_type": "markdown",
   "id": "edb55804",
   "metadata": {},
   "source": [
    "La corrélation de spearman est de -0.67, il se rapproche de -1, cela signifie une très forte association négative entre les rangs.\n",
    "\n",
    "On peut émettre l'hypothèse que plus les consommateurs sont âgés, moins ils achètent de livres en ligne."
   ]
  },
  {
   "cell_type": "markdown",
   "id": "87489506",
   "metadata": {},
   "source": [
    "### _- Lien entre l'âge des clients et la taille du panier moyen_"
   ]
  },
  {
   "cell_type": "code",
   "execution_count": 97,
   "id": "14a1a2e0",
   "metadata": {},
   "outputs": [
    {
     "data": {
      "text/html": [
       "<div>\n",
       "<style scoped>\n",
       "    .dataframe tbody tr th:only-of-type {\n",
       "        vertical-align: middle;\n",
       "    }\n",
       "\n",
       "    .dataframe tbody tr th {\n",
       "        vertical-align: top;\n",
       "    }\n",
       "\n",
       "    .dataframe thead th {\n",
       "        text-align: right;\n",
       "    }\n",
       "</style>\n",
       "<table border=\"1\" class=\"dataframe\">\n",
       "  <thead>\n",
       "    <tr style=\"text-align: right;\">\n",
       "      <th></th>\n",
       "      <th>age</th>\n",
       "      <th>id_prod</th>\n",
       "    </tr>\n",
       "  </thead>\n",
       "  <tbody>\n",
       "    <tr>\n",
       "      <th>0</th>\n",
       "      <td>19</td>\n",
       "      <td>1.76</td>\n",
       "    </tr>\n",
       "    <tr>\n",
       "      <th>1</th>\n",
       "      <td>20</td>\n",
       "      <td>1.70</td>\n",
       "    </tr>\n",
       "    <tr>\n",
       "      <th>2</th>\n",
       "      <td>21</td>\n",
       "      <td>1.76</td>\n",
       "    </tr>\n",
       "    <tr>\n",
       "      <th>3</th>\n",
       "      <td>22</td>\n",
       "      <td>1.75</td>\n",
       "    </tr>\n",
       "    <tr>\n",
       "      <th>4</th>\n",
       "      <td>23</td>\n",
       "      <td>1.82</td>\n",
       "    </tr>\n",
       "    <tr>\n",
       "      <th>...</th>\n",
       "      <td>...</td>\n",
       "      <td>...</td>\n",
       "    </tr>\n",
       "    <tr>\n",
       "      <th>71</th>\n",
       "      <td>90</td>\n",
       "      <td>1.40</td>\n",
       "    </tr>\n",
       "    <tr>\n",
       "      <th>72</th>\n",
       "      <td>91</td>\n",
       "      <td>1.51</td>\n",
       "    </tr>\n",
       "    <tr>\n",
       "      <th>73</th>\n",
       "      <td>92</td>\n",
       "      <td>1.77</td>\n",
       "    </tr>\n",
       "    <tr>\n",
       "      <th>74</th>\n",
       "      <td>93</td>\n",
       "      <td>1.55</td>\n",
       "    </tr>\n",
       "    <tr>\n",
       "      <th>75</th>\n",
       "      <td>94</td>\n",
       "      <td>1.50</td>\n",
       "    </tr>\n",
       "  </tbody>\n",
       "</table>\n",
       "<p>76 rows × 2 columns</p>\n",
       "</div>"
      ],
      "text/plain": [
       "    age  id_prod\n",
       "0    19     1.76\n",
       "1    20     1.70\n",
       "2    21     1.76\n",
       "3    22     1.75\n",
       "4    23     1.82\n",
       "..  ...      ...\n",
       "71   90     1.40\n",
       "72   91     1.51\n",
       "73   92     1.77\n",
       "74   93     1.55\n",
       "75   94     1.50\n",
       "\n",
       "[76 rows x 2 columns]"
      ]
     },
     "execution_count": 97,
     "metadata": {},
     "output_type": "execute_result"
    }
   ],
   "source": [
    "# Corrélation entre l'âge et la taille du panier moyen\n",
    "# Le panier moyen correspond au montant dépensé par un client \n",
    "# Nombre de produits par âge et par session\n",
    "panier2 = df_ventes.groupby(['age','session_id'])['id_prod'].count().reset_index()\n",
    "\n",
    "# Pour ensuite avoir la moyenne de ce nombre\n",
    "panier2 = panier2.groupby('age').mean().reset_index()\n",
    "panier2"
   ]
  },
  {
   "cell_type": "code",
   "execution_count": 98,
   "id": "903804f5",
   "metadata": {},
   "outputs": [
    {
     "name": "stdout",
     "output_type": "stream",
     "text": [
      "Corrélation de Spearman: SpearmanrResult(correlation=-0.631742993848257, pvalue=9.392789651862638e-10)\n"
     ]
    },
    {
     "data": {
      "image/png": "[encoded data removed]",
      "text/plain": [
       "<Figure size 1008x576 with 1 Axes>"
      ]
     },
     "metadata": {
      "needs_background": "light"
     },
     "output_type": "display_data"
    }
   ],
   "source": [
    "# Graphique scatterplot\n",
    "# Le coefficient de corrélation varie entre -1 et +1\n",
    "# La corrélation de Spearman mesure le lien entre deux variables. Cette corrélation n'utilise pas les valeurs des données mais\n",
    "#leur RANG. Le coefficient de corrélation varie entre -1 et +1, 0 reflétant une relation nulle entre les deux variables, une \n",
    "# valeur négative (corrélation négative) signifiant que lorsqu'une des variable augmente, l'autre diminue ; tandis qu'une \n",
    "# valeur positive (corrélation positive) indique que les deux variables varient ensemble dans le même sens.\n",
    "\n",
    "plt.figure( figsize=(14,8))\n",
    "sns.scatterplot(x=panier2[\"age\"], y=panier2[\"id_prod\"],color='purple')\n",
    "plt.xlabel('Age')\n",
    "plt.ylabel(\"Panier moyen des achats (Nombre de produits)\")\n",
    "plt.title(\"Panier moyen en nombre de produits selon l'âge des clients\")\n",
    "\n",
    "print(\"Corrélation de Spearman:\", st.spearmanr(panier2['age'], panier2[\"id_prod\"]))\n",
    "plt.show()\n"
   ]
  },
  {
   "cell_type": "markdown",
   "id": "aa905a96",
   "metadata": {},
   "source": [
    "La corrélation est proche de -1 .On peut émettre l'hypothèse que plus les consommateurs sont âgés, moins la taille du panier est importante."
   ]
  },
  {
   "cell_type": "markdown",
   "id": "2ebc26cf",
   "metadata": {},
   "source": [
    "### _- Lien entre l'âge des clients et les catégories de livres achetés_"
   ]
  },
  {
   "cell_type": "code",
   "execution_count": 99,
   "id": "a6dfdff4",
   "metadata": {},
   "outputs": [
    {
     "data": {
      "text/html": [
       "<div>\n",
       "<style scoped>\n",
       "    .dataframe tbody tr th:only-of-type {\n",
       "        vertical-align: middle;\n",
       "    }\n",
       "\n",
       "    .dataframe tbody tr th {\n",
       "        vertical-align: top;\n",
       "    }\n",
       "\n",
       "    .dataframe thead th {\n",
       "        text-align: right;\n",
       "    }\n",
       "</style>\n",
       "<table border=\"1\" class=\"dataframe\">\n",
       "  <thead>\n",
       "    <tr style=\"text-align: right;\">\n",
       "      <th></th>\n",
       "      <th>age</th>\n",
       "      <th>catégorie 0</th>\n",
       "      <th>catégorie 1</th>\n",
       "      <th>catégorie 2</th>\n",
       "    </tr>\n",
       "  </thead>\n",
       "  <tbody>\n",
       "    <tr>\n",
       "      <th>0</th>\n",
       "      <td>19</td>\n",
       "      <td>3418</td>\n",
       "      <td>5719</td>\n",
       "      <td>6012</td>\n",
       "    </tr>\n",
       "    <tr>\n",
       "      <th>1</th>\n",
       "      <td>20</td>\n",
       "      <td>909</td>\n",
       "      <td>1678</td>\n",
       "      <td>1784</td>\n",
       "    </tr>\n",
       "    <tr>\n",
       "      <th>2</th>\n",
       "      <td>21</td>\n",
       "      <td>1019</td>\n",
       "      <td>1723</td>\n",
       "      <td>1845</td>\n",
       "    </tr>\n",
       "    <tr>\n",
       "      <th>3</th>\n",
       "      <td>22</td>\n",
       "      <td>974</td>\n",
       "      <td>1550</td>\n",
       "      <td>1728</td>\n",
       "    </tr>\n",
       "    <tr>\n",
       "      <th>4</th>\n",
       "      <td>23</td>\n",
       "      <td>1116</td>\n",
       "      <td>1628</td>\n",
       "      <td>1671</td>\n",
       "    </tr>\n",
       "    <tr>\n",
       "      <th>...</th>\n",
       "      <td>...</td>\n",
       "      <td>...</td>\n",
       "      <td>...</td>\n",
       "      <td>...</td>\n",
       "    </tr>\n",
       "    <tr>\n",
       "      <th>71</th>\n",
       "      <td>90</td>\n",
       "      <td>143</td>\n",
       "      <td>183</td>\n",
       "      <td>1</td>\n",
       "    </tr>\n",
       "    <tr>\n",
       "      <th>72</th>\n",
       "      <td>91</td>\n",
       "      <td>132</td>\n",
       "      <td>177</td>\n",
       "      <td>2</td>\n",
       "    </tr>\n",
       "    <tr>\n",
       "      <th>73</th>\n",
       "      <td>92</td>\n",
       "      <td>77</td>\n",
       "      <td>91</td>\n",
       "      <td>2</td>\n",
       "    </tr>\n",
       "    <tr>\n",
       "      <th>74</th>\n",
       "      <td>93</td>\n",
       "      <td>75</td>\n",
       "      <td>149</td>\n",
       "      <td>2</td>\n",
       "    </tr>\n",
       "    <tr>\n",
       "      <th>75</th>\n",
       "      <td>94</td>\n",
       "      <td>78</td>\n",
       "      <td>122</td>\n",
       "      <td>1</td>\n",
       "    </tr>\n",
       "  </tbody>\n",
       "</table>\n",
       "<p>76 rows × 4 columns</p>\n",
       "</div>"
      ],
      "text/plain": [
       "    age  catégorie 0  catégorie 1  catégorie 2\n",
       "0    19         3418         5719         6012\n",
       "1    20          909         1678         1784\n",
       "2    21         1019         1723         1845\n",
       "3    22          974         1550         1728\n",
       "4    23         1116         1628         1671\n",
       "..  ...          ...          ...          ...\n",
       "71   90          143          183            1\n",
       "72   91          132          177            2\n",
       "73   92           77           91            2\n",
       "74   93           75          149            2\n",
       "75   94           78          122            1\n",
       "\n",
       "[76 rows x 4 columns]"
      ]
     },
     "execution_count": 99,
     "metadata": {},
     "output_type": "execute_result"
    }
   ],
   "source": [
    "# Création d'un data frame en fonction de l'âge et des catégories de livres achetés\n",
    "age_categorie = df_ventes.groupby(['age','catégorie']).agg({\"id_prod\":\"count\"}).reset_index()\n",
    "age_categorie.rename(columns={\"id_prod\":\"Nombre d'achats\"}, inplace=True)\n",
    "age_categorie.columns = ['age', 'catégorie', \"Nombre d'achats\"]\n",
    "\n",
    "age_categorie = pd.pivot_table(age_categorie, columns=[\"catégorie\"], index=['age']).reset_index()\n",
    "age_categorie.columns = ['age', \"catégorie 0\", \"catégorie 1\", \"catégorie 2\"]\n",
    "age_categorie"
   ]
  },
  {
   "cell_type": "code",
   "execution_count": 100,
   "id": "22642694",
   "metadata": {},
   "outputs": [
    {
     "data": {
      "image/png": "[encoded data removed]",
      "text/plain": [
       "<Figure size 648x288 with 1 Axes>"
      ]
     },
     "metadata": {
      "needs_background": "light"
     },
     "output_type": "display_data"
    }
   ],
   "source": [
    "#Graphique en box plot\n",
    "\n",
    "plt.figure(figsize=(9,4))\n",
    "palette = ['grey','lightblue','orange']\n",
    "medianprops = {'color':\"black\"}\n",
    "meanprops={'marker':'o', 'markeredgecolor':'black','markerfacecolor':'firebrick'}\n",
    "sns.boxplot(data=df_ventes, y='catégorie', x='age', orient='h', showfliers=False, showmeans=True, palette=palette,\n",
    "            meanprops=meanprops)\n",
    "plt.title(\"Age des clients par rapport aux catégories de livres achetés\")\n",
    "plt.show()\n",
    "\n"
   ]
  },
  {
   "cell_type": "markdown",
   "id": "2066862a",
   "metadata": {},
   "source": [
    "Les ronds rouges au milieu de chaque boîte à moustaches représentent la moyenne des valeurs :\n",
    "- 45 ans pour la catégorie 0,\n",
    "- 49 ans pour la catégorie 1,\n",
    "- 27 ans pour la catégorie 2.\n",
    "\n",
    "On voit ici que les âges des clients sont très différents d'une catégorie à l'autre :\n",
    "- Les âges sont de 19 à 67 ans pour la catégorie 0,\n",
    "- Les âges sont de 19 à 94 ans pour la catégorie 1,\n",
    "- Les âges sont de 19 à 41 ans pour la catégorie 2.\n"
   ]
  },
  {
   "cell_type": "code",
   "execution_count": 101,
   "id": "78297ee5",
   "metadata": {},
   "outputs": [
    {
     "name": "stdout",
     "output_type": "stream",
     "text": [
      "ShapiroResult(statistic=1.0, pvalue=0.999998927116394)\n"
     ]
    }
   ],
   "source": [
    "# Test de normalité à l'aide d'un test de shapiro\n",
    "# Sachant que l'hypothèse nulle est que la population est normalement distribuée,\n",
    "#si la p-value est inférieure à un niveau alpha choisi (par exemple 0.05), alors l'hypothèse nulle est rejetée.\n",
    "#si la p-value est supérieure au niveau alpha choisi (par exemple 0.05), alors on ne doit pas rejeter l'hypothèse nulle.\n",
    "# La valeur de la p-value alors obtenue ne présuppose en rien de la nature de la distribution des données.\n",
    "X = \"catégorie\"\n",
    "Y = \"age\"\n",
    "categ_disp = df_ventes['catégorie'].unique()\n",
    "print(stats.shapiro(categ_disp))\n",
    "\n"
   ]
  },
  {
   "cell_type": "markdown",
   "id": "9fc3640f",
   "metadata": {},
   "source": [
    "La p-valeur est supérieur à 0.05, l'hypothèse nulle ne peut être rejetée. Notre échantillon est distribué normalement.\n"
   ]
  },
  {
   "cell_type": "code",
   "execution_count": 102,
   "id": "d8df163f",
   "metadata": {},
   "outputs": [
    {
     "data": {
      "text/plain": [
       "0.1132752589826815"
      ]
     },
     "execution_count": 102,
     "metadata": {},
     "output_type": "execute_result"
    }
   ],
   "source": [
    "# ANOVA teste l'homogénéité de la moyenne de la variable quantitative étudiée sur les différentes valeurs de la variable \n",
    "#qualitative. Les règles empiriques suivantes sont utilisées pour interpréter les valeurs d'Eta au carré :\n",
    "# 0.01 : petite taille d'effet\n",
    "# 0.06 : taille d'effet moyenne\n",
    "# 0.14 ​​ou supérieur : grande taille d'effet\n",
    "\n",
    "# Code permettant de calculer 𝜂2\n",
    "def eta_squared(x,y):\n",
    "    moyenne_y = y.mean()\n",
    "    classes = []\n",
    "    for classe in x.unique():\n",
    "        yi_classe = y[x==classe]\n",
    "        classes.append({'ni': len(yi_classe),\n",
    "                        'moyenne_classe': yi_classe.mean()})\n",
    "    SCT = sum([(yj-moyenne_y)**2 for yj in y])\n",
    "    SCE = sum([c['ni']*(c['moyenne_classe']-moyenne_y)**2 for c in classes])\n",
    "    return SCE/SCT\n",
    "    \n",
    "eta_squared(df_ventes[X],df_ventes[Y])"
   ]
  },
  {
   "cell_type": "markdown",
   "id": "79cd2826",
   "metadata": {},
   "source": [
    "Le η2 est proche de 0.14, on peut en déduire qu'il y a une relation entre l'âge des clients et la catégorie des livres achetés en ligne.\n"
   ]
  },
  {
   "cell_type": "markdown",
   "id": "50e1c0c2",
   "metadata": {},
   "source": [
    "CONCLUSION\n",
    "\n",
    "Après les tests de corrélation effectués, nous pouvons dire que :\n",
    "\n",
    "- Le choix d'une catégorie de livre dépend du sexe du client,  \n",
    "- Il y a un lien entre l'âge des clients et la fréquence d'achat, plus les clients sont âgés et plus le montant total de leur achat est faible,\n",
    "- Il y a un lien entre l'âge et le panier moyen, plus les clients sont âgés, moins la taille du panier est importante.\n",
    "- Il y a une relation entre l'âge des clients et la catégorie des livres achetés en ligne."
   ]
  }
 ],
 "metadata": {
  "kernelspec": {
   "display_name": "Python 3 (ipykernel)",
   "language": "python",
   "name": "python3"
  },
  "language_info": {
   "codemirror_mode": {
    "name": "ipython",
    "version": 3
   },
   "file_extension": ".py",
   "mimetype": "text/x-python",
   "name": "python",
   "nbconvert_exporter": "python",
   "pygments_lexer": "ipython3",
   "version": "3.9.12"
  }
 },
 "nbformat": 4,
 "nbformat_minor": 5
}
